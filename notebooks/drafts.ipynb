{
 "cells": [
  {
   "cell_type": "markdown",
   "source": [
    "# Import"
   ],
   "metadata": {
    "collapsed": false
   },
   "id": "35d6de93f3881e24"
  },
  {
   "cell_type": "code",
   "outputs": [],
   "source": [
    "import requests\n",
    "import re\n",
    "from bs4 import BeautifulSoup\n",
    "import pandas as pd\n",
    "from tqdm import tqdm\n",
    "import time\n",
    "import warnings\n",
    "warnings.filterwarnings('ignore')"
   ],
   "metadata": {
    "collapsed": false,
    "ExecuteTime": {
     "end_time": "2025-04-01T10:31:32.877292Z",
     "start_time": "2025-04-01T10:31:32.332701Z"
    }
   },
   "id": "3ada3123f34ba8d7",
   "execution_count": 1
  },
  {
   "cell_type": "code",
   "outputs": [],
   "source": [
    "import math\n",
    "import ast"
   ],
   "metadata": {
    "collapsed": false,
    "ExecuteTime": {
     "end_time": "2025-04-01T10:31:32.885404Z",
     "start_time": "2025-04-01T10:31:32.882050Z"
    }
   },
   "id": "5147199305d5398a",
   "execution_count": 2
  },
  {
   "cell_type": "code",
   "outputs": [],
   "source": [],
   "metadata": {
    "collapsed": false,
    "ExecuteTime": {
     "end_time": "2025-04-01T10:31:32.888153Z",
     "start_time": "2025-04-01T10:31:32.886614Z"
    }
   },
   "id": "80b120c13ebb5fbe",
   "execution_count": 2
  },
  {
   "cell_type": "markdown",
   "source": [
    "# Parser"
   ],
   "metadata": {
    "collapsed": false
   },
   "id": "77fab37758ef91df"
  },
  {
   "cell_type": "code",
   "outputs": [],
   "source": [
    "def parse_bazaraki_property(html: str, page_url: str) -> dict:\n",
    "    soup = BeautifulSoup(html, 'html.parser')\n",
    "    \n",
    "    def get_text_by_label(label):\n",
    "        tag = soup.find('span', text=label)\n",
    "        if tag:\n",
    "            value_span = tag.find_next('span', class_='value-chars')\n",
    "            if value_span:\n",
    "                return value_span.get_text(strip=True)\n",
    "        return None\n",
    "\n",
    "    data = {\n",
    "        'Link': page_url,\n",
    "        'District': soup.find('a', class_='announcement__location').get_text(strip=True) if soup.find('a', class_='announcement__location') else None,\n",
    "        'CountOfRooms': get_text_by_label('Bedrooms:'),\n",
    "        'Floor': get_text_by_label('Floor:'),\n",
    "        'Square': get_text_by_label('Property area:'),\n",
    "        'Furnishing': get_text_by_label('Furnishing:'),\n",
    "        'Parking': get_text_by_label('Parking:'),\n",
    "        'Balcony': 'Balcony' in soup.get_text(),  # fuzzy match\n",
    "        'AC': get_text_by_label('Air conditioning:'),\n",
    "        'EnergyEfficiency': get_text_by_label('Energy Efficiency:'),\n",
    "        'DistanceToJob': '100 meters from the sea' in soup.get_text(),  # example heuristic\n",
    "        'DistanceToBeach': '100 meters from the sea' in soup.get_text(),\n",
    "        'DoubleGlazedWindows': 'double glazed' in soup.get_text().lower(),\n",
    "        'Elevator': 'elevator' in soup.get_text().lower(),\n",
    "        'WiFi': 'wifi' in soup.get_text().lower() or 'wi-fi' in soup.get_text().lower(),\n",
    "        'SoundProofing': 'soundproof' in soup.get_text().lower(),\n",
    "        'GeoDot': str(get_geo_dot(soup))\n",
    "    }\n",
    "\n",
    "    # Extracting price\n",
    "    price_block = soup.select_one('.announcement-price__cost')\n",
    "    if price_block:\n",
    "        price_text = price_block.get_text(strip=True)\n",
    "        price_match = re.search(r'€\\s?([\\d,.]+)', price_text)\n",
    "        data['Price'] = price_match.group(1).replace(',', '') if price_match else None\n",
    "    else:\n",
    "        data['Price'] = None\n",
    "\n",
    "    return data"
   ],
   "metadata": {
    "collapsed": false,
    "ExecuteTime": {
     "end_time": "2025-04-01T10:31:48.387526Z",
     "start_time": "2025-04-01T10:31:48.375333Z"
    }
   },
   "id": "3d682e2cdd21d9f0",
   "execution_count": 3
  },
  {
   "cell_type": "code",
   "outputs": [],
   "source": [
    "def get_geo_dot(soup):\n",
    "    \"\"\"\n",
    "    Retrieve geodot from Show on the map script\n",
    "    :param soup: \n",
    "    :return: \n",
    "    \"\"\"\n",
    "    tag = soup.find('a', class_='js-open-announcement-location', attrs={'data-coords': True})\n",
    "    \n",
    "    if tag:\n",
    "        coords = tag['data-coords']  # e.g. \"SRID=4326;POINT (33.0278635 34.6880101)\"\n",
    "        match = re.search(r'POINT\\s*\\(([\\d.]+)\\s+([\\d.]+)\\)', coords)\n",
    "        if match:\n",
    "            lon, lat = float(match.group(1)), float(match.group(2))\n",
    "            return {'lat': lat, 'lon': lon}\n",
    "    return None"
   ],
   "metadata": {
    "collapsed": false,
    "ExecuteTime": {
     "end_time": "2025-04-01T10:31:48.540983Z",
     "start_time": "2025-04-01T10:31:48.536375Z"
    }
   },
   "id": "5e329efcdc8858f7",
   "execution_count": 4
  },
  {
   "cell_type": "code",
   "outputs": [],
   "source": [
    "url = 'https://www.bazaraki.com/adv/5694629_1-bedroom-apartment-to-rent/?p=1'\n",
    "headers = {'User-Agent': 'Mozilla/5.0'}\n",
    "response = requests.get(url, headers=headers)\n",
    "listing_data = parse_bazaraki_property(response.text, url)\n"
   ],
   "metadata": {
    "collapsed": false,
    "ExecuteTime": {
     "end_time": "2025-04-01T11:31:50.854134Z",
     "start_time": "2025-04-01T11:31:49.975614Z"
    }
   },
   "id": "983de115d00d57ad",
   "execution_count": 17
  },
  {
   "cell_type": "code",
   "outputs": [
    {
     "data": {
      "text/plain": "{'Link': 'https://www.bazaraki.com/adv/5694629_1-bedroom-apartment-to-rent/?p=1',\n 'District': 'Limassol, Germasogeia',\n 'CountOfRooms': '1',\n 'Floor': '1st',\n 'Square': '1st',\n 'Furnishing': 'Full, all rooms',\n 'Parking': 'No',\n 'Balcony': True,\n 'AC': 'Full, all rooms',\n 'EnergyEfficiency': 'A',\n 'DistanceToJob': False,\n 'DistanceToBeach': False,\n 'DoubleGlazedWindows': False,\n 'Elevator': True,\n 'WiFi': False,\n 'SoundProofing': False,\n 'GeoDot': \"{'lat': 34.700778, 'lon': 33.055763}\",\n 'Price': '1.690'}"
     },
     "execution_count": 18,
     "metadata": {},
     "output_type": "execute_result"
    }
   ],
   "source": [
    "listing_data"
   ],
   "metadata": {
    "collapsed": false,
    "ExecuteTime": {
     "end_time": "2025-04-01T11:31:50.860097Z",
     "start_time": "2025-04-01T11:31:50.855416Z"
    }
   },
   "id": "21225a8fb325d79",
   "execution_count": 18
  },
  {
   "cell_type": "code",
   "outputs": [
    {
     "data": {
      "text/plain": "' 34.700778,  33.055763'"
     },
     "execution_count": 19,
     "metadata": {},
     "output_type": "execute_result"
    }
   ],
   "source": [
    "listing_data['GeoDot'].replace(\"{\", \"\").\\\n",
    "    replace(\"}\", \"\").replace(\"'\", \"\").replace(\":\", \"\").\\\n",
    "    replace(\"lat\", \"\").replace(\"lon\", \"\")"
   ],
   "metadata": {
    "collapsed": false,
    "ExecuteTime": {
     "end_time": "2025-04-01T11:31:51.974909Z",
     "start_time": "2025-04-01T11:31:51.965003Z"
    }
   },
   "id": "146904655ac48d7e",
   "execution_count": 19
  },
  {
   "cell_type": "code",
   "outputs": [],
   "source": [],
   "metadata": {
    "collapsed": false,
    "ExecuteTime": {
     "end_time": "2025-04-01T10:31:48.894330Z",
     "start_time": "2025-04-01T10:31:48.891147Z"
    }
   },
   "id": "bb90d9c1363ecae7",
   "execution_count": 4
  },
  {
   "cell_type": "code",
   "outputs": [],
   "source": [
    "links_str = f\"\"\"\n",
    "             https://www.bazaraki.com/adv/5711809_1-bedroom-apartment-to-rent/?p=1\n",
    "             \n",
    "             \n",
    "             \n",
    "             \"\"\""
   ],
   "metadata": {
    "collapsed": false
   },
   "id": "4a8340d2217f6876"
  }
 ],
 "metadata": {
  "kernelspec": {
   "display_name": "Python 3",
   "language": "python",
   "name": "python3"
  },
  "language_info": {
   "codemirror_mode": {
    "name": "ipython",
    "version": 2
   },
   "file_extension": ".py",
   "mimetype": "text/x-python",
   "name": "python",
   "nbconvert_exporter": "python",
   "pygments_lexer": "ipython2",
   "version": "2.7.6"
  }
 },
 "nbformat": 4,
 "nbformat_minor": 5
}
