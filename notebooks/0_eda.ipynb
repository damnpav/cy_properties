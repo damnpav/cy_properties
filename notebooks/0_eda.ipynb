{
 "cells": [
  {
   "cell_type": "markdown",
   "source": [
    "# Import"
   ],
   "metadata": {
    "collapsed": false
   },
   "id": "932f8bd59d7a291a"
  },
  {
   "cell_type": "code",
   "outputs": [],
   "source": [
    "import requests\n",
    "import re\n",
    "from bs4 import BeautifulSoup"
   ],
   "metadata": {
    "collapsed": false,
    "ExecuteTime": {
     "end_time": "2025-03-29T17:02:33.925051Z",
     "start_time": "2025-03-29T17:02:33.806676Z"
    }
   },
   "id": "1a8d968c23998ef1",
   "execution_count": 3
  },
  {
   "cell_type": "code",
   "outputs": [],
   "source": [
    "import pandas as pd"
   ],
   "metadata": {
    "collapsed": false,
    "ExecuteTime": {
     "end_time": "2025-03-29T17:02:34.390337Z",
     "start_time": "2025-03-29T17:02:34.035341Z"
    }
   },
   "id": "46bb05d89b6b2faa",
   "execution_count": 4
  },
  {
   "cell_type": "code",
   "outputs": [],
   "source": [
    "from tqdm import tqdm"
   ],
   "metadata": {
    "collapsed": false,
    "ExecuteTime": {
     "end_time": "2025-03-29T17:02:34.397759Z",
     "start_time": "2025-03-29T17:02:34.391835Z"
    }
   },
   "id": "8efd058efc25b4a9",
   "execution_count": 5
  },
  {
   "cell_type": "code",
   "outputs": [],
   "source": [
    "import time"
   ],
   "metadata": {
    "collapsed": false,
    "ExecuteTime": {
     "end_time": "2025-03-29T17:02:34.438582Z",
     "start_time": "2025-03-29T17:02:34.435748Z"
    }
   },
   "id": "e783b868b3119f09",
   "execution_count": 6
  },
  {
   "cell_type": "code",
   "outputs": [],
   "source": [
    "import warnings\n",
    "warnings.filterwarnings('ignore')\n"
   ],
   "metadata": {
    "collapsed": false,
    "ExecuteTime": {
     "end_time": "2025-03-29T17:02:34.660829Z",
     "start_time": "2025-03-29T17:02:34.658791Z"
    }
   },
   "id": "5895f2265f64988b",
   "execution_count": 7
  },
  {
   "cell_type": "markdown",
   "source": [
    "# Drafts"
   ],
   "metadata": {
    "collapsed": false
   },
   "id": "ec894e214291157e"
  },
  {
   "cell_type": "code",
   "outputs": [],
   "source": [
    "def parse_bazaraki_property(html: str, page_url: str) -> dict:\n",
    "    soup = BeautifulSoup(html, 'html.parser')\n",
    "    \n",
    "    def get_text_by_label(label):\n",
    "        tag = soup.find('span', text=label)\n",
    "        if tag:\n",
    "            value_span = tag.find_next('span', class_='value-chars')\n",
    "            if value_span:\n",
    "                return value_span.get_text(strip=True)\n",
    "        return None\n",
    "\n",
    "    data = {\n",
    "        'Link': page_url,\n",
    "        'District': soup.find('a', class_='announcement__location').get_text(strip=True) if soup.find('a', class_='announcement__location') else None,\n",
    "        'CountOfRooms': get_text_by_label('Bedrooms:'),\n",
    "        'Floor': get_text_by_label('Floor:'),\n",
    "        'Square': get_text_by_label('Property area:'),\n",
    "        'Furnishing': get_text_by_label('Furnishing:'),\n",
    "        'Parking': get_text_by_label('Parking:'),\n",
    "        'Balcony': 'Balcony' in soup.get_text(),  # fuzzy match\n",
    "        'AC': get_text_by_label('Air conditioning:'),\n",
    "        'EnergyEfficiency': get_text_by_label('Energy Efficiency:'),\n",
    "        'DistanceToJob': '100 meters from the sea' in soup.get_text(),  # example heuristic\n",
    "        'DistanceToBeach': '100 meters from the sea' in soup.get_text(),\n",
    "        'DoubleGlazedWindows': 'double glazed' in soup.get_text().lower(),\n",
    "        'Elevator': 'elevator' in soup.get_text().lower(),\n",
    "        'WiFi': 'wifi' in soup.get_text().lower() or 'wi-fi' in soup.get_text().lower(),\n",
    "        'SoundProofing': 'soundproof' in soup.get_text().lower(),\n",
    "    }\n",
    "\n",
    "    # Extracting price\n",
    "    price_block = soup.select_one('.announcement-price__cost')\n",
    "    if price_block:\n",
    "        price_text = price_block.get_text(strip=True)\n",
    "        price_match = re.search(r'€\\s?([\\d,.]+)', price_text)\n",
    "        data['Price'] = price_match.group(1).replace(',', '') if price_match else None\n",
    "    else:\n",
    "        data['Price'] = None\n",
    "\n",
    "    return data"
   ],
   "metadata": {
    "collapsed": false,
    "ExecuteTime": {
     "end_time": "2025-03-24T13:39:30.776662Z",
     "start_time": "2025-03-24T13:39:30.765450Z"
    }
   },
   "id": "ae0555be087fee25",
   "execution_count": 21
  },
  {
   "cell_type": "code",
   "outputs": [],
   "source": [],
   "metadata": {
    "collapsed": false,
    "ExecuteTime": {
     "end_time": "2025-03-24T13:25:36.951295Z",
     "start_time": "2025-03-24T13:25:36.949132Z"
    }
   },
   "id": "3e4e6c712a25c915",
   "execution_count": 3
  },
  {
   "cell_type": "code",
   "outputs": [
    {
     "name": "stdout",
     "output_type": "stream",
     "text": [
      "{'Link': 'https://www.bazaraki.com/adv/5708036_2-bedroom-apartment-to-rent/', 'District': 'Limassol, Limassol - Neapolis', 'CountOfRooms': '1', 'Floor': '2nd', 'Square': '2nd', 'Furnishing': 'Full, all rooms', 'Parking': 'Uncovered', 'Balcony': True, 'AC': 'Full, all rooms', 'EnergyEfficiency': 'B', 'DistanceToJob': True, 'DistanceToBeach': True, 'DoubleGlazedWindows': False, 'Elevator': False, 'WiFi': False, 'SoundProofing': False, 'Price': '1.300'}\n"
     ]
    },
    {
     "name": "stderr",
     "output_type": "stream",
     "text": [
      "/var/folders/0d/nn90v_dn4y56s_xnhsv23lf00000gn/T/ipykernel_14145/1141320045.py:5: DeprecationWarning: The 'text' argument to find()-type methods is deprecated. Use 'string' instead.\n",
      "  tag = soup.find('span', text=label)\n"
     ]
    }
   ],
   "source": [
    "# Example usage\n",
    "url = 'https://www.bazaraki.com/adv/5708036_2-bedroom-apartment-to-rent/'\n",
    "headers = {'User-Agent': 'Mozilla/5.0'}\n",
    "response = requests.get(url, headers=headers)\n",
    "listing_data = parse_bazaraki_property(response.text, url)\n",
    "print(listing_data)"
   ],
   "metadata": {
    "collapsed": false,
    "ExecuteTime": {
     "end_time": "2025-03-24T13:39:33.370269Z",
     "start_time": "2025-03-24T13:39:31.972835Z"
    }
   },
   "id": "1258be7787f9e4d",
   "execution_count": 22
  },
  {
   "cell_type": "code",
   "outputs": [],
   "source": [],
   "metadata": {
    "collapsed": false,
    "ExecuteTime": {
     "end_time": "2025-03-24T13:38:58.924036Z",
     "start_time": "2025-03-24T13:38:58.922399Z"
    }
   },
   "id": "97c09f4d36034299",
   "execution_count": 17
  },
  {
   "cell_type": "markdown",
   "source": [
    "# Links"
   ],
   "metadata": {
    "collapsed": false
   },
   "id": "d39abd262ec88671"
  },
  {
   "cell_type": "code",
   "outputs": [],
   "source": [
    "link_text = f\"\"\"\n",
    "             BazarakiBot, [2 мар. 2025 в 13:05]\n",
    "Subscription saved to: https://www.bazaraki.com/real-estate-to-rent/apartments-flats/area_min---50/furnishing---1/number-of-bedrooms---2/?ordering=cheapest&price_max=1750&polygon=%7Br%7BrEaj%7BgEbiHx%7BD%7BjAikSdhE%7DvAwoJseWs%7BK~%7BEuW%7CkKrsApoG\n",
    "\n",
    "BazarakiBot, [2 мар. 2025 в 13:07]\n",
    "€1350 2-bedroom apartment to rent\n",
    "Limassol, Limassol - Petrou Kai Pavlou\n",
    "https://www.bazaraki.com/adv/5645424_2-bedroom-apartment-to-rent/\n",
    "\n",
    "BazarakiBot, [2 мар. 2025 в 13:07]\n",
    "€1550 2-bedroom apartment to rent\n",
    "Limassol, Ypsonas\n",
    "https://www.bazaraki.com/adv/5590302_2-bedroom-apartment-to-rent/\n",
    "\n",
    "BazarakiBot, [2 мар. 2025 в 13:07]\n",
    "€1590 2-bedroom apartment to rent\n",
    "Limassol, Limassol - Zakaki\n",
    "https://www.bazaraki.com/adv/5660339_2-bedroom-apartment-to-rent/\n",
    "\n",
    "BazarakiBot, [2 мар. 2025 в 13:07]\n",
    "€1650 2-bedroom apartment to rent\n",
    "Limassol, Limassol - Agios Nektarios\n",
    "https://www.bazaraki.com/adv/5619778_2-bedroom-apartment-to-rent/\n",
    "\n",
    "BazarakiBot, [2 мар. 2025 в 13:07]\n",
    "€1700 2-bedroom apartment to rent\n",
    "Limassol, Germasogeia Tourist Area\n",
    "https://www.bazaraki.com/adv/5552662_1-bedroom-penthouse-to-rent/\n",
    "\n",
    "BazarakiBot, [2 мар. 2025 в 13:07]\n",
    "€1750 2-bedroom apartment to rent\n",
    "Limassol, Limassol - Katholiki\n",
    "https://www.bazaraki.com/adv/5461258_2-bedroom-apartment-to-rent/\n",
    "\n",
    "BazarakiBot, [2 мар. 2025 в 13:07]\n",
    "€650 2-bedroom apartment to rent\n",
    "Limassol, Limassol - Agios Georgios\n",
    "https://www.bazaraki.com/adv/5679527_2-bedroom-apartment-to-rent/\n",
    "\n",
    "BazarakiBot, [2 мар. 2025 в 13:07]\n",
    "€950 2-bedroom apartment to rent\n",
    "Limassol, Kolossi -Agios Loukas\n",
    "https://www.bazaraki.com/adv/5606152_2-bedroom-apartment-to-rent/\n",
    "\n",
    "BazarakiBot, [2 мар. 2025 в 13:07]\n",
    "€1000 2-bedroom apartment to rent\n",
    "Limassol, Limassol - Agios Spyridon\n",
    "https://www.bazaraki.com/adv/5678254_2-bedroom-apartment-to-rent/\n",
    "\n",
    "BazarakiBot, [2 мар. 2025 в 13:07]\n",
    "€1000 2-bedroom apartment to rent\n",
    "Limassol, Limassol - Linopetra\n",
    "https://www.bazaraki.com/adv/5674188_2-bedroom-apartment-to-rent/\n",
    "\n",
    "BazarakiBot, [2 мар. 2025 в 13:07]\n",
    "€1000 2-bedroom apartment to rent\n",
    "Limassol, Limassol - Zakaki\n",
    "https://www.bazaraki.com/adv/5650999_2-bedroom-apartment-to-rent/\n",
    "\n",
    "BazarakiBot, [2 мар. 2025 в 13:07]\n",
    "€1000 2-bedroom apartment to rent\n",
    "Limassol, Limassol - Agios Ioannis\n",
    "https://www.bazaraki.com/adv/5635812_2-bedroom-apartment-to-rent/\n",
    "\n",
    "BazarakiBot, [2 мар. 2025 в 13:07]\n",
    "€1100 2-bedroom apartment to rent\n",
    "Limassol, Agios Athanasios\n",
    "https://www.bazaraki.com/adv/5624938_2-bedroom-apartment-to-rent/\n",
    "\n",
    "BazarakiBot, [2 мар. 2025 в 13:07]\n",
    "€1100 2-bedroom apartment to rent\n",
    "Limassol, Erimi\n",
    "https://www.bazaraki.com/adv/5643367_2-bedroom-apartment-to-rent/\n",
    "\n",
    "BazarakiBot, [2 мар. 2025 в 13:07]\n",
    "€1100 2-bedroom apartment to rent\n",
    "Limassol, Limassol - Omonia\n",
    "https://www.bazaraki.com/adv/5642861_2-bedroom-apartment-to-rent/\n",
    "\n",
    "BazarakiBot, [2 мар. 2025 в 13:07]\n",
    "€1150 2-bedroom apartment to rent\n",
    "Limassol, Limassol - Mesa Geitonia\n",
    "https://www.bazaraki.com/adv/5670002_2-bedroom-apartment-to-rent/\n",
    "\n",
    "BazarakiBot, [2 мар. 2025 в 13:07]\n",
    "€1200 2-bedroom apartment to rent\n",
    "Limassol, Agios Tychon Tourist Area\n",
    "https://www.bazaraki.com/adv/5664359_2-bedroom-apartment-to-rent/\n",
    "\n",
    "BazarakiBot, [2 мар. 2025 в 13:07]\n",
    "€1200 2-bedroom apartment to rent\n",
    "Limassol, Germasogeia Tourist Area\n",
    "https://www.bazaraki.com/adv/5678301_2-bedroom-apartment-to-rent/\n",
    "\n",
    "BazarakiBot, [2 мар. 2025 в 13:07]\n",
    "€1200 2-bedroom apartment to rent\n",
    "Limassol, Potamos Germasogeias\n",
    "https://www.bazaraki.com/adv/5272205_2-bedroom-apartment-to-rent/\n",
    "\n",
    "BazarakiBot, [2 мар. 2025 в 13:07]\n",
    "€1200 2-bedroom apartment to rent\n",
    "Limassol, Limassol - Petrou Kai Pavlou\n",
    "https://www.bazaraki.com/adv/5677113_2-bedroom-apartment-to-rent/\n",
    "\n",
    "BazarakiBot, [2 мар. 2025 в 13:07]\n",
    "€1200 2-bedroom apartment to rent\n",
    "Limassol, Limassol - Zakaki\n",
    "https://www.bazaraki.com/adv/5636325_2-bedroom-penthouse-to-rent/\n",
    "\n",
    "BazarakiBot, [2 мар. 2025 в 13:07]\n",
    "€1200 2-bedroom apartment to rent\n",
    "Limassol, Limassol - Agios Ioannis\n",
    "https://www.bazaraki.com/adv/5601682_2-bedroom-apartment-to-rent/\n",
    "\n",
    "BazarakiBot, [2 мар. 2025 в 13:07]\n",
    "€1200 2-bedroom apartment to rent\n",
    "Limassol, Limassol - Kapsalos\n",
    "https://www.bazaraki.com/adv/5666842_2-bedroom-apartment-to-rent/\n",
    "\n",
    "BazarakiBot, [2 мар. 2025 в 13:07]\n",
    "€1200 2-bedroom apartment to rent\n",
    "Limassol, Limassol - Agia Zoni\n",
    "https://www.bazaraki.com/adv/5635691_2-bedroom-apartment-to-rent/\n",
    "\n",
    "BazarakiBot, [2 мар. 2025 в 13:07]\n",
    "€1200 2-bedroom apartment to rent\n",
    "Limassol, Limassol - Linopetra\n",
    "https://www.bazaraki.com/adv/5665425_2-bedroom-apartment-to-rent/\n",
    "\n",
    "BazarakiBot, [2 мар. 2025 в 13:07]\n",
    "€1200 2-bedroom apartment to rent\n",
    "Limassol, Limassol - Linopetra\n",
    "https://www.bazaraki.com/adv/5625342_2-bedroom-apartment-to-rent/\n",
    "\n",
    "BazarakiBot, [2 мар. 2025 в 13:07]\n",
    "€1200 2-bedroom apartment to rent\n",
    "Limassol, Ypsonas\n",
    "https://www.bazaraki.com/adv/5593137_2-bedroom-apartment-to-rent/\n",
    "\n",
    "BazarakiBot, [2 мар. 2025 в 13:07]\n",
    "€1250 2-bedroom apartment to rent\n",
    "Limassol, Germasogeia Tourist Area\n",
    "https://www.bazaraki.com/adv/5664143_2-bedroom-apartment-to-rent/\n",
    "\n",
    "BazarakiBot, [2 мар. 2025 в 13:07]\n",
    "€1250 2-bedroom apartment to rent\n",
    "Limassol, Limassol - Katholiki\n",
    "https://www.bazaraki.com/adv/5613596_1-bedroom-apartment-to-rent/\n",
    "\n",
    "BazarakiBot, [2 мар. 2025 в 13:07]\n",
    "€1250 2-bedroom apartment to rent\n",
    "Limassol, Germasogeia Tourist Area\n",
    "https://www.bazaraki.com/adv/5486591_2-bedroom-apartment-to-rent/\n",
    "\n",
    "BazarakiBot, [2 мар. 2025 в 13:07]\n",
    "€1300 2-bedroom apartment to rent\n",
    "Limassol, Agios Tychon Tourist Area\n",
    "https://www.bazaraki.com/adv/5631055_2-bedroom-apartment-to-rent/\n",
    "\n",
    "BazarakiBot, [2 мар. 2025 в 13:07]\n",
    "€1300 2-bedroom apartment to rent\n",
    "Limassol, Agios Tychon Tourist Area\n",
    "https://www.bazaraki.com/adv/5657823_2-bedroom-apartment-to-rent/\n",
    "\n",
    "BazarakiBot, [2 мар. 2025 в 13:07]\n",
    "€1300 2-bedroom apartment to rent\n",
    "Limassol, Germasogeia Tourist Area\n",
    "https://www.bazaraki.com/adv/5645042_2-bedroom-apartment-to-rent/\n",
    "\n",
    "BazarakiBot, [2 мар. 2025 в 13:07]\n",
    "€1300 2-bedroom apartment to rent\n",
    "Limassol, Limassol - Mesa Geitonia\n",
    "https://www.bazaraki.com/adv/5670779_2-bedroom-apartment-to-rent/\n",
    "\n",
    "BazarakiBot, [2 мар. 2025 в 13:07]\n",
    "€1300 2-bedroom apartment to rent\n",
    "Limassol, Limassol - Mesa Geitonia\n",
    "https://www.bazaraki.com/adv/5673259_2-bedroom-apartment-to-rent/\n",
    "\n",
    "BazarakiBot, [2 мар. 2025 в 13:07]\n",
    "€1300 2-bedroom penthouse to rent\n",
    "Limassol, Limassol - Mesa Geitonia\n",
    "https://www.bazaraki.com/adv/5671175_2-bedroom-penthouse-to-rent/\n",
    "\n",
    "BazarakiBot, [2 мар. 2025 в 13:07]\n",
    "€1300 2-bedroom apartment to rent\n",
    "Limassol, Limassol - Tsirion\n",
    "https://www.bazaraki.com/adv/5621114_2-bedroom-apartment-to-rent/\n",
    "\n",
    "BazarakiBot, [2 мар. 2025 в 13:07]\n",
    "€1300 2-bedroom apartment to rent\n",
    "Limassol, Germasogeia\n",
    "https://www.bazaraki.com/adv/5669603_2-bedroom-apartment-to-rent/\n",
    "\n",
    "BazarakiBot, [2 мар. 2025 в 13:07]\n",
    "€1300 2-bedroom apartment to rent\n",
    "Limassol, Limassol - Agios Georgios\n",
    "https://www.bazaraki.com/adv/5669159_2-bedroom-apartment-to-rent/\n",
    "\n",
    "BazarakiBot, [2 мар. 2025 в 13:07]\n",
    "€1300 2-bedroom apartment to rent\n",
    "Limassol, Limassol - Agios Spyridon\n",
    "https://www.bazaraki.com/adv/5558862_2-bedroom-apartment-to-rent/\n",
    "\n",
    "BazarakiBot, [2 мар. 2025 в 13:07]\n",
    "€1300 2-bedroom apartment to rent\n",
    "Limassol, Limassol - Agios Nicolaos\n",
    "https://www.bazaraki.com/adv/5609635_2-bedroom-apartment-to-rent/\n",
    "\n",
    "BazarakiBot, [2 мар. 2025 в 13:07]\n",
    "€1300 2-bedroom apartment to rent\n",
    "Limassol, Limassol - Kapsalos\n",
    "https://www.bazaraki.com/adv/5660681_2-bedroom-apartment-to-rent/\n",
    "\n",
    "BazarakiBot, [2 мар. 2025 в 13:07]\n",
    "€1300 2-bedroom apartment to rent\n",
    "Limassol, Limassol - Agios Georgios\n",
    "https://www.bazaraki.com/adv/5660563_2-bedroom-apartment-to-rent/\n",
    "\n",
    "BazarakiBot, [2 мар. 2025 в 13:07]\n",
    "€1300 2-bedroom apartment to rent\n",
    "Limassol, Polemidia Kato\n",
    "https://www.bazaraki.com/adv/5610072_2-bedroom-apartment-to-rent/\n",
    "\n",
    "BazarakiBot, [2 мар. 2025 в 13:07]\n",
    "€1300 2-bedroom apartment to rent\n",
    "Limassol, Agios Ioannis\n",
    "https://www.bazaraki.com/adv/5650676_2-bedroom-apartment-to-rent/\n",
    "\n",
    "BazarakiBot, [2 мар. 2025 в 13:07]\n",
    "€1300 2-bedroom apartment to rent\n",
    "Limassol, Limassol - Kapsalos\n",
    "https://www.bazaraki.com/adv/5570765_2-bedroom-apartment-to-rent/\n",
    "\n",
    "BazarakiBot, [2 мар. 2025 в 13:07]\n",
    "€1300 2-bedroom apartment to rent\n",
    "Limassol, Polemidia - Apostolos Varnavas\n",
    "https://www.bazaraki.com/adv/5537810_2-bedroom-apartment-to-rent/\n",
    "\n",
    "BazarakiBot, [2 мар. 2025 в 13:07]\n",
    "€1350 2-bedroom apartment to rent\n",
    "Limassol, Ypsonas\n",
    "https://www.bazaraki.com/adv/5590310_2-bedroom-apartment-to-rent/\n",
    "\n",
    "BazarakiBot, [2 мар. 2025 в 13:07]\n",
    "€1350 2-bedroom apartment to rent\n",
    "Limassol, Limassol - Zakaki\n",
    "https://www.bazaraki.com/adv/5675339_2-bedroom-apartment-to-rent/\n",
    "\n",
    "BazarakiBot, [2 мар. 2025 в 13:07]\n",
    "€1350 2-bedroom penthouse to rent\n",
    "Limassol, Limassol - Zakaki\n",
    "https://www.bazaraki.com/adv/5673782_2-bedroom-penthouse-to-rent/\n",
    "\n",
    "BazarakiBot, [2 мар. 2025 в 13:07]\n",
    "€1350 2-bedroom apartment to rent\n",
    "Limassol, Historical Center\n",
    "https://www.bazaraki.com/adv/5657706_2-bedroom-apartment-to-rent/\n",
    "\n",
    "BazarakiBot, [2 мар. 2025 в 13:07]\n",
    "€1350 2-bedroom apartment to rent\n",
    "Limassol, Ypsonas\n",
    "https://www.bazaraki.com/adv/5672977_2-bedroom-apartment-to-rent/\n",
    "\n",
    "BazarakiBot, [2 мар. 2025 в 13:07]\n",
    "€1350 2-bedroom apartment to rent\n",
    "Limassol, Limassol - Agios Nicolaos\n",
    "https://www.bazaraki.com/adv/5669144_2-bedroom-apartment-to-rent/\n",
    "\n",
    "BazarakiBot, [2 мар. 2025 в 13:07]\n",
    "€1350 2-bedroom apartment to rent\n",
    "Limassol, Ypsonas\n",
    "https://www.bazaraki.com/adv/5638723_2-bedroom-apartment-to-rent/\n",
    "\n",
    "BazarakiBot, [2 мар. 2025 в 13:07]\n",
    "€1350 2-bedroom apartment to rent\n",
    "Limassol, Polemidia Kato\n",
    "https://www.bazaraki.com/adv/5664577_2-bedroom-apartment-to-rent/\n",
    "\n",
    "BazarakiBot, [2 мар. 2025 в 13:07]\n",
    "€1350 2-bedroom apartment to rent\n",
    "Limassol, Limassol - Agios Spyridon\n",
    "https://www.bazaraki.com/adv/5642123_2-bedroom-apartment-to-rent/\n",
    "\n",
    "BazarakiBot, [2 мар. 2025 в 13:07]\n",
    "€1350 2-bedroom apartment to rent\n",
    "Limassol, Germasogeia\n",
    "https://www.bazaraki.com/adv/5634156_2-bedroom-apartment-to-rent/\n",
    "\n",
    "BazarakiBot, [2 мар. 2025 в 13:07]\n",
    "€1350 2-bedroom apartment to rent\n",
    "Limassol, Historical Center\n",
    "https://www.bazaraki.com/adv/5640601_2-bedroom-apartment-to-rent/\n",
    "\n",
    "BazarakiBot, [2 мар. 2025 в 13:07]\n",
    "€1350 2-bedroom apartment to rent\n",
    "Limassol, Polemidia Kato\n",
    "https://www.bazaraki.com/adv/5627688_2-bedroom-apartment-to-rent/\n",
    "\n",
    "BazarakiBot, [2 мар. 2025 в 17:14]\n",
    "€1350 2-bedroom apartment to rent\n",
    "Limassol, Ypsonas\n",
    "https://www.bazaraki.com/adv/5651041_2-bedroom-apartment-to-rent/\n",
    "\n",
    "BazarakiBot, [2 мар. 2025 в 23:50]\n",
    "€1350 2-bedroom apartment to rent\n",
    "Limassol, Germasogeia Tourist Area\n",
    "https://www.bazaraki.com/adv/5644708_2-bedroom-apartment-to-rent/\n",
    "\n",
    "BazarakiBot, [3 мар. 2025 в 11:43]\n",
    "€1350 2-bedroom apartment to rent\n",
    "Limassol, Limassol - Tsiflikoudia\n",
    "https://www.bazaraki.com/adv/5633394_2-bedroom-apartment-to-rent/\n",
    "\n",
    "BazarakiBot, [3 мар. 2025 в 21:51]\n",
    "€1365 2-bedroom apartment to rent\n",
    "Limassol, Limassol - Mesa Geitonia\n",
    "https://www.bazaraki.com/adv/5651432_2-bedroom-apartment-to-rent/\n",
    "\n",
    "BazarakiBot, [4 мар. 2025 в 00:11]\n",
    "€1400 2-bedroom apartment to rent\n",
    "Limassol, Limassol - Petrou Kai Pavlou\n",
    "https://www.bazaraki.com/adv/5514212_2-bedroom-apartment-to-rent/\n",
    "\n",
    "BazarakiBot, [4 мар. 2025 в 09:42]\n",
    "€1350 2-bedroom apartment to rent\n",
    "Limassol, Germasogeia\n",
    "https://www.bazaraki.com/adv/5614537_2-bedroom-apartment-to-rent/\n",
    "\n",
    "BazarakiBot, [4 мар. 2025 в 12:22]\n",
    "€1100 2-bedroom apartment to rent\n",
    "Limassol, Limassol - Zakaki\n",
    "https://www.bazaraki.com/adv/5677160_2-bedroom-apartment-to-rent/\n",
    "\n",
    "BazarakiBot, [4 мар. 2025 в 14:25]\n",
    "€1300 2-bedroom apartment to rent\n",
    "Limassol, Mouttagiaka Tourist Area\n",
    "https://www.bazaraki.com/adv/5496193_2-bedroom-apartment-to-rent/\n",
    "\n",
    "BazarakiBot, [4 мар. 2025 в 14:25]\n",
    "€1350 2-bedroom apartment to rent\n",
    "Limassol, Polemidia Pano\n",
    "https://www.bazaraki.com/adv/5682760_2-bedroom-apartment-to-rent/\n",
    "\n",
    "BazarakiBot, [4 мар. 2025 в 16:55]\n",
    "€1350 2-bedroom apartment to rent\n",
    "Limassol, Polemidia Kato\n",
    "https://www.bazaraki.com/adv/5683377_2-bedroom-apartment-to-rent/\n",
    "\n",
    "BazarakiBot, [4 мар. 2025 в 17:16]\n",
    "€1100 2-bedroom apartment to rent\n",
    "Limassol, Limassol Marina\n",
    "https://www.bazaraki.com/adv/5683405_2-bedroom-apartment-to-rent/\n",
    "\n",
    "BazarakiBot, [4 мар. 2025 в 18:17]\n",
    "€1350 2-bedroom apartment to rent\n",
    "Limassol, Limassol - Petrou Kai Pavlou\n",
    "https://www.bazaraki.com/adv/5683648_2-bedroom-apartment-to-rent/\n",
    "\n",
    "BazarakiBot, [4 мар. 2025 в 18:17]\n",
    "€1350 2-bedroom apartment to rent\n",
    "Limassol, Limassol - Agios Nicolaos\n",
    "https://www.bazaraki.com/adv/5683639_2-bedroom-apartment-to-rent/\n",
    "\n",
    "BazarakiBot, [4 мар. 2025 в 18:28]\n",
    "€1350 2-bedroom apartment to rent\n",
    "Limassol, Limassol - Zakaki\n",
    "https://www.bazaraki.com/adv/5683655_2-bedroom-apartment-to-rent/\n",
    "\n",
    "BazarakiBot, [4 мар. 2025 в 21:54]\n",
    "€1200 2-bedroom apartment to rent\n",
    "Limassol, Germasogeia\n",
    "https://www.bazaraki.com/adv/5540812_1-bedroom-apartment-to-rent/\n",
    "\n",
    "BazarakiBot, [4 мар. 2025 в 22:05]\n",
    "€1350 2-bedroom apartment to rent\n",
    "Limassol, Limassol - Agios Nicolaos\n",
    "https://www.bazaraki.com/adv/5683980_2-bedroom-apartment-to-rent/\n",
    "\n",
    "BazarakiBot, [4 мар. 2025 в 22:25]\n",
    "€1350 2-bedroom apartment to rent\n",
    "Limassol, Historical Center\n",
    "https://www.bazaraki.com/adv/5684009_2-bedroom-apartment-to-rent/\n",
    "\n",
    "BazarakiBot, [5 мар. 2025 в 12:46]\n",
    "€1300 2-bedroom apartment to rent\n",
    "Limassol, Germasogeia Tourist Area\n",
    "https://www.bazaraki.com/adv/5684816_2-bedroom-apartment-to-rent/\n",
    "\n",
    "BazarakiBot, [5 мар. 2025 в 14:34]\n",
    "€ 1350 ➝ 1250 2-bedroom apartment to rent\n",
    "Limassol, Ypsonas\n",
    "https://www.bazaraki.com/adv/5672977_2-bedroom-apartment-to-rent/\n",
    "\n",
    "BazarakiBot, [5 мар. 2025 в 15:23]\n",
    "€1350 2-bedroom apartment to rent\n",
    "Limassol, Limassol - Agios Nicolaos\n",
    "https://www.bazaraki.com/adv/5685112_2-bedroom-apartment-to-rent/\n",
    "\n",
    "BazarakiBot, [5 мар. 2025 в 16:59]\n",
    "€1100 2-bedroom apartment to rent\n",
    "Limassol, Polemidia Kato\n",
    "https://www.bazaraki.com/adv/5685131_2-bedroom-apartment-to-rent/\n",
    "\n",
    "BazarakiBot, [5 мар. 2025 в 17:48]\n",
    "€1500 2-bedroom apartment to rent\n",
    "Limassol, Limassol - Zakaki\n",
    "https://www.bazaraki.com/adv/5607752_2-bedroom-apartment-to-rent/\n",
    "\n",
    "BazarakiBot, [5 мар. 2025 в 17:58]\n",
    "€1740 2-bedroom apartment to rent\n",
    "Limassol, Mouttagiaka Tourist Area\n",
    "https://www.bazaraki.com/adv/5630099_2-bedroom-apartment-to-rent/\n",
    "\n",
    "BazarakiBot, [5 мар. 2025 в 18:09]\n",
    "€ 1650 ➝ 1450 2-bedroom apartment to rent\n",
    "Limassol, Limassol - Agios Nektarios\n",
    "https://www.bazaraki.com/adv/5619778_2-bedroom-apartment-to-rent/\n",
    "\n",
    "BazarakiBot, [6 мар. 2025 в 11:40]\n",
    "€1250 2-bedroom apartment to rent\n",
    "Limassol, Limassol - Agios Nektarios\n",
    "https://www.bazaraki.com/adv/5686561_2-bedroom-apartment-to-rent/\n",
    "\n",
    "BazarakiBot, [6 мар. 2025 в 12:09]\n",
    "€1500 2-bedroom apartment to rent\n",
    "Limassol, Limassol - Neapolis\n",
    "https://www.bazaraki.com/adv/5686603_2-bedroom-apartment-to-rent/\n",
    "\n",
    "BazarakiBot, [6 мар. 2025 в 12:09]\n",
    "€1600 2-bedroom apartment to rent\n",
    "Limassol, Limassol - Agia Zoni\n",
    "https://www.bazaraki.com/adv/5686560_2-bedroom-apartment-to-rent/\n",
    "\n",
    "BazarakiBot, [6 мар. 2025 в 13:10]\n",
    "€ 1500 ➝ 1450 2-bedroom apartment to rent\n",
    "Limassol, Limassol - Zakaki\n",
    "https://www.bazaraki.com/adv/5607752_2-bedroom-apartment-to-rent/\n",
    "\n",
    "BazarakiBot, [6 мар. 2025 в 13:10]\n",
    "€ 1740 ➝ 1690 2-bedroom apartment to rent\n",
    "Limassol, Mouttagiaka Tourist Area\n",
    "https://www.bazaraki.com/adv/5630099_2-bedroom-apartment-to-rent/\n",
    "\n",
    "BazarakiBot, [6 мар. 2025 в 13:46]\n",
    "€1350 2-bedroom apartment to rent\n",
    "Limassol, Limassol - Omonia\n",
    "https://www.bazaraki.com/adv/5397909_2-bedroom-apartment-to-rent/\n",
    "\n",
    "BazarakiBot, [6 мар. 2025 в 16:42]\n",
    "€1500 2-bedroom apartment to rent\n",
    "Limassol, Limassol - Neapolis\n",
    "https://www.bazaraki.com/adv/5667831_2-bedroom-apartment-to-rent/\n",
    "\n",
    "BazarakiBot, [6 мар. 2025 в 23:02]\n",
    "€1350 2-bedroom apartment to rent\n",
    "Limassol, Limassol - Zakaki\n",
    "https://www.bazaraki.com/adv/5545760_2-bedroom-apartment-to-rent/\n",
    "\n",
    "BazarakiBot, [7 мар. 2025 в 11:07]\n",
    "€1350 2-bedroom apartment to rent\n",
    "Limassol, Potamos Germasogeias\n",
    "https://www.bazaraki.com/adv/5640116_2-bedroom-apartment-to-rent/\n",
    "\n",
    "BazarakiBot, [7 мар. 2025 в 15:06]\n",
    "€1600 2-bedroom apartment to rent\n",
    "Limassol, Limassol - Mesa Geitonia\n",
    "https://www.bazaraki.com/adv/5688850_2-bedroom-apartment-to-rent/\n",
    "\n",
    "BazarakiBot, [7 мар. 2025 в 16:27]\n",
    "€ 1300 ➝ 1200 2-bedroom apartment to rent\n",
    "Limassol, Limassol - Agios Spyridon\n",
    "https://www.bazaraki.com/adv/5558862_2-bedroom-apartment-to-rent/\n",
    "\n",
    "BazarakiBot, [7 мар. 2025 в 16:56]\n",
    "€1350 2-bedroom apartment to rent\n",
    "Limassol, Limassol - Agia Zoni\n",
    "https://www.bazaraki.com/adv/5644684_2-bedroom-apartment-to-rent/\n",
    "\n",
    "BazarakiBot, [7 мар. 2025 в 22:39]\n",
    "€1350 2-bedroom apartment to rent\n",
    "Limassol, Polemidia Kato\n",
    "https://www.bazaraki.com/adv/5689660_2-bedroom-apartment-to-rent/\n",
    "\n",
    "BazarakiBot, [8 мар. 2025 в 10:24]\n",
    "€ 1350 ➝ 1300 2-bedroom apartment to rent\n",
    "Limassol, Limassol - Zakaki\n",
    "https://www.bazaraki.com/adv/5545760_2-bedroom-apartment-to-rent/\n",
    "\n",
    "BazarakiBot, [8 мар. 2025 в 12:53]\n",
    "€1200 2-bedroom apartment to rent\n",
    "Limassol, Limassol - Apostolos Andreas\n",
    "https://www.bazaraki.com/adv/5690093_2-bedroom-apartment-to-rent/\n",
    "\n",
    "BazarakiBot, [8 мар. 2025 в 15:54]\n",
    "€950 2-bedroom apartment to rent\n",
    "Limassol, Limassol - Omonia\n",
    "https://www.bazaraki.com/adv/5690355_2-bedroom-apartment-to-rent/\n",
    "\n",
    "BazarakiBot, [8 мар. 2025 в 16:44]\n",
    "€1300 2-bedroom apartment to rent\n",
    "Limassol, Limassol - Neapolis\n",
    "https://www.bazaraki.com/adv/5682838_2-bedroom-apartment-to-rent/\n",
    "\n",
    "BazarakiBot, [8 мар. 2025 в 17:52]\n",
    "€1000 2-bedroom apartment to rent\n",
    "Limassol, Germasogeia\n",
    "https://www.bazaraki.com/adv/5690474_2-bedroom-apartment-to-rent/\n",
    "\n",
    "BazarakiBot, [9 мар. 2025 в 11:55]\n",
    "€1200 2-bedroom apartment to rent\n",
    "Limassol, Limassol - Tsirion\n",
    "https://www.bazaraki.com/adv/5691074_2-bedroom-apartment-to-rent/\n",
    "\n",
    "BazarakiBot, [10 мар. 2025 в 09:21]\n",
    "€1650 2-bedroom apartment to rent\n",
    "Limassol, Polemidia Kato\n",
    "https://www.bazaraki.com/adv/5692055_2-bedroom-apartment-to-rent/\n",
    "\n",
    "BazarakiBot, [10 мар. 2025 в 10:02]\n",
    "€1100 2-bedroom apartment to rent\n",
    "Limassol, Polemidia - Apostolos Varnavas\n",
    "https://www.bazaraki.com/adv/5692081_2-bedroom-apartment-to-rent/\n",
    "\n",
    "BazarakiBot, [10 мар. 2025 в 10:31]\n",
    "€1750 2-bedroom apartment to rent\n",
    "Limassol, Panthea\n",
    "https://www.bazaraki.com/adv/5692107_2-bedroom-apartment-to-rent/\n",
    "\n",
    "BazarakiBot, [10 мар. 2025 в 13:04]\n",
    "€ 1690 ➝ 1600 2-bedroom apartment to rent\n",
    "Limassol, Mouttagiaka Tourist Area\n",
    "https://www.bazaraki.com/adv/5630099_2-bedroom-apartment-to-rent/\n",
    "\n",
    "BazarakiBot, [10 мар. 2025 в 13:04]\n",
    "€1350 2-bedroom apartment to rent\n",
    "Limassol, Limassol - Agios Ioannis\n",
    "https://www.bazaraki.com/adv/5673455_4-bedroom-apartment-to-rent/\n",
    "\n",
    "BazarakiBot, [10 мар. 2025 в 17:35]\n",
    "€1300 2-bedroom apartment to rent\n",
    "Limassol, Potamos Germasogeias\n",
    "https://www.bazaraki.com/adv/5676627_2-bedroom-apartment-to-rent/\n",
    "\n",
    "BazarakiBot, [10 мар. 2025 в 18:36]\n",
    "€ 1590 ➝ 1490 2-bedroom apartment to rent\n",
    "Limassol, Limassol - Zakaki\n",
    "https://www.bazaraki.com/adv/5660339_2-bedroom-apartment-to-rent/\n",
    "\n",
    "BazarakiBot, [10 мар. 2025 в 18:36]\n",
    "€1200 2-bedroom apartment to rent\n",
    "Limassol, Limassol - Omonia\n",
    "https://www.bazaraki.com/adv/5693101_2-bedroom-apartment-to-rent/\n",
    "\n",
    "BazarakiBot, [10 мар. 2025 в 22:45]\n",
    "€1200 2-bedroom apartment to rent\n",
    "Limassol, Limassol - Agios Ioannis\n",
    "https://www.bazaraki.com/adv/5693505_2-bedroom-apartment-to-rent/\n",
    "\n",
    "BazarakiBot, [11 мар. 2025 в 08:55]\n",
    "€ 1300 ➝ 1200 2-bedroom apartment to rent\n",
    "Limassol, Agios Tychon Tourist Area\n",
    "https://www.bazaraki.com/adv/5657823_2-bedroom-apartment-to-rent/\n",
    "\n",
    "BazarakiBot, [11 мар. 2025 в 10:04]\n",
    "€ 1300 ➝ 1200 2-bedroom apartment to rent\n",
    "Limassol, Mouttagiaka Tourist Area\n",
    "https://www.bazaraki.com/adv/5496193_2-bedroom-apartment-to-rent/\n",
    "\n",
    "BazarakiBot, [11 мар. 2025 в 10:54]\n",
    "€1350 2-bedroom apartment to rent\n",
    "Limassol, Limassol - Omonia\n",
    "https://www.bazaraki.com/adv/5693859_2-bedroom-apartment-to-rent/\n",
    "\n",
    "BazarakiBot, [11 мар. 2025 в 12:35]\n",
    "€ 1300 ➝ 1200 2-bedroom apartment to rent\n",
    "Limassol, Germasogeia Tourist Area\n",
    "https://www.bazaraki.com/adv/5684816_2-bedroom-apartment-to-rent/\n",
    "\n",
    "BazarakiBot, [11 мар. 2025 в 13:39]\n",
    "€1250 2-bedroom apartment to rent\n",
    "Limassol, Limassol - Zakaki\n",
    "https://www.bazaraki.com/adv/5693977_2-bedroom-apartment-to-rent/\n",
    "\n",
    "BazarakiBot, [11 мар. 2025 в 16:11]\n",
    "€1400 2-bedroom apartment to rent\n",
    "Limassol, Mesa Geitonia\n",
    "https://www.bazaraki.com/adv/5598297_2-bedroom-apartment-to-rent/\n",
    "\n",
    "BazarakiBot, [11 мар. 2025 в 18:16]\n",
    "€1300 2-bedroom apartment to rent\n",
    "Limassol, Limassol - Mesa Geitonia\n",
    "https://www.bazaraki.com/adv/5694782_2-bedroom-apartment-to-rent/\n",
    "\n",
    "BazarakiBot, [11 мар. 2025 в 20:26]\n",
    "€1350 2-bedroom apartment to rent\n",
    "Limassol, Limassol Marina\n",
    "https://www.bazaraki.com/adv/5651172_2-bedroom-apartment-to-rent/\n",
    "\n",
    "BazarakiBot, [12 мар. 2025 в 09:28]\n",
    "€1000 2-bedroom apartment to rent\n",
    "Limassol, Limassol - Apostolos Andreas\n",
    "https://www.bazaraki.com/adv/5695480_2-bedroom-apartment-to-rent/\n",
    "\n",
    "BazarakiBot, [12 мар. 2025 в 10:48]\n",
    "€1300 2-bedroom apartment to rent\n",
    "Limassol, Polemidia - Agios Nikolaos\n",
    "https://www.bazaraki.com/adv/5671166_2-bedroom-apartment-to-rent/\n",
    "\n",
    "BazarakiBot, [12 мар. 2025 в 15:02]\n",
    "€1200 2-bedroom apartment to rent\n",
    "Limassol, Limassol - Agia Zoni\n",
    "https://www.bazaraki.com/adv/5696037_2-bedroom-apartment-to-rent/\n",
    "\n",
    "BazarakiBot, [12 мар. 2025 в 22:34]\n",
    "€1350 2-bedroom apartment to rent\n",
    "Limassol, Limassol - Agia Napa\n",
    "https://www.bazaraki.com/adv/5684007_2-bedroom-apartment-to-rent/\n",
    "\n",
    "BazarakiBot, [12 мар. 2025 в 23:14]\n",
    "€1300 2-bedroom apartment to rent\n",
    "Limassol, Limassol - Agios Nektarios\n",
    "https://www.bazaraki.com/adv/5697264_2-bedroom-apartment-to-rent/\n",
    "\n",
    "BazarakiBot, [13 мар. 2025 в 10:30]\n",
    "€1295 2-bedroom apartment to rent\n",
    "Limassol, Limassol - Agia Fyla\n",
    "https://www.bazaraki.com/adv/5563133_2-bedroom-apartment-to-rent/\n",
    "\n",
    "BazarakiBot, [13 мар. 2025 в 12:37]\n",
    "€1300 2-bedroom penthouse to rent\n",
    "Limassol, Limassol - Mesa Geitonia\n",
    "https://www.bazaraki.com/adv/5697715_2-bedroom-penthouse-to-rent/\n",
    "\n",
    "BazarakiBot, [14 мар. 2025 в 09:26]\n",
    "€ 1350 ➝ 1300 2-bedroom apartment to rent\n",
    "Limassol, Historical Center\n",
    "https://www.bazaraki.com/adv/5684009_2-bedroom-apartment-to-rent/\n",
    "\n",
    "BazarakiBot, [14 мар. 2025 в 18:04]\n",
    "€1300 2-bedroom apartment to rent\n",
    "Limassol, Limassol - Agios Nicolaos\n",
    "https://www.bazaraki.com/adv/5683886_2-bedroom-apartment-to-rent/\n",
    "\n",
    "BazarakiBot, [15 мар. 2025 в 18:27]\n",
    "€ 1300 ➝ 1200 2-bedroom apartment to rent\n",
    "Limassol, Limassol - Neapolis\n",
    "https://www.bazaraki.com/adv/5682838_2-bedroom-apartment-to-rent/\n",
    "\n",
    "BazarakiBot, [16 мар. 2025 в 16:41]\n",
    "€1200 2-bedroom apartment to rent\n",
    "Limassol, Limassol - Agia Fyla\n",
    "https://www.bazaraki.com/adv/5702668_2-bedroom-apartment-to-rent/\n",
    "\n",
    "BazarakiBot, [17 мар. 2025 в 10:16]\n",
    "€850 2-bedroom apartment to rent\n",
    "Limassol, Ypsonas\n",
    "https://www.bazaraki.com/adv/5703204_2-bedroom-apartment-to-rent/\n",
    "\n",
    "BazarakiBot, [17 мар. 2025 в 11:35]\n",
    "€1200 2-bedroom apartment to rent\n",
    "Limassol, Historical Center\n",
    "https://www.bazaraki.com/adv/5703433_2-bedroom-apartment-to-rent/\n",
    "\n",
    "BazarakiBot, [17 мар. 2025 в 11:40]\n",
    "€1150 2-bedroom apartment to rent\n",
    "Limassol, Limassol - Neapolis\n",
    "https://www.bazaraki.com/adv/5703404_2-bedroom-apartment-to-rent/\n",
    "\n",
    "BazarakiBot, [17 мар. 2025 в 12:06]\n",
    "€1200 2-bedroom apartment to rent\n",
    "Limassol, Germasogeia\n",
    "https://www.bazaraki.com/adv/5517035_2-bedroom-detached-house-to-rent/\n",
    "\n",
    "BazarakiBot, [17 мар. 2025 в 12:58]\n",
    "€1300 2-bedroom apartment to rent\n",
    "Limassol, Mesa Geitonia\n",
    "https://www.bazaraki.com/adv/5634085_2-bedroom-apartment-to-rent/\n",
    "\n",
    "BazarakiBot, [17 мар. 2025 в 15:18]\n",
    "€1300 2-bedroom apartment to rent\n",
    "Limassol, Limassol - Katholiki\n",
    "https://www.bazaraki.com/adv/5697467_2-bedroom-apartment-to-rent/\n",
    "\n",
    "BazarakiBot, [17 мар. 2025 в 19:15]\n",
    "€1300 2-bedroom apartment to rent\n",
    "Limassol, Germasogeia Tourist Area\n",
    "https://www.bazaraki.com/adv/5705332_2-bedroom-apartment-to-rent/\n",
    "\n",
    "BazarakiBot, [17 мар. 2025 в 19:24]\n",
    "€1350 2-bedroom apartment to rent\n",
    "Limassol, Kolossi -Agios Loukas\n",
    "https://www.bazaraki.com/adv/5698300_2-bedroom-apartment-to-rent/\n",
    "\n",
    "BazarakiBot, [17 мар. 2025 в 20:26]\n",
    "€1300 2-bedroom apartment to rent\n",
    "Limassol, Mesa Geitonia\n",
    "https://www.bazaraki.com/adv/5705448_2-bedroom-apartment-to-rent/\n",
    "\n",
    "BazarakiBot, [17 мар. 2025 в 20:46]\n",
    "€ 1350 ➝ 1300 2-bedroom apartment to rent\n",
    "Limassol, Historical Center\n",
    "https://www.bazaraki.com/adv/5657706_2-bedroom-apartment-to-rent/\n",
    "\n",
    "BazarakiBot, [17 мар. 2025 в 21:26]\n",
    "€ 1300 ➝ 1200 2-bedroom apartment to rent\n",
    "Limassol, Limassol - Agios Georgios\n",
    "https://www.bazaraki.com/adv/5669159_2-bedroom-apartment-to-rent/\n",
    "\n",
    "BazarakiBot, [18 мар. 2025 в 14:06]\n",
    "€ 1200 ➝ 1150 2-bedroom apartment to rent\n",
    "Limassol, Limassol - Apostolos Andreas\n",
    "https://www.bazaraki.com/adv/5690093_2-bedroom-apartment-to-rent/\n",
    "\n",
    "BazarakiBot, [18 мар. 2025 в 18:22]\n",
    "€1200 2-bedroom apartment to rent\n",
    "Limassol, Historical Center\n",
    "https://www.bazaraki.com/adv/5604355_2-bedroom-apartment-to-rent/\n",
    "\n",
    "BazarakiBot, [19 мар. 2025 в 10:15]\n",
    "€1200 2-bedroom apartment to rent\n",
    "Limassol, Germasogeia\n",
    "https://www.bazaraki.com/adv/5708926_2-bedroom-apartment-to-rent/\n",
    "\n",
    "BazarakiBot, [19 мар. 2025 в 12:07]\n",
    "€1400 2-bedroom apartment to rent\n",
    "Limassol, Limassol - Zakaki\n",
    "https://www.bazaraki.com/adv/5705434_2-bedroom-apartment-to-rent/\n",
    "\n",
    "BazarakiBot, [19 мар. 2025 в 13:08]\n",
    "€1400 2-bedroom apartment to rent\n",
    "Limassol, Limassol - Katholiki\n",
    "https://www.bazaraki.com/adv/5707844_2-bedroom-apartment-to-rent/\n",
    "\n",
    "BazarakiBot, [19 мар. 2025 в 15:17]\n",
    "€1400 2-bedroom apartment to rent\n",
    "Limassol, Limassol - Neapolis\n",
    "https://www.bazaraki.com/adv/5708036_2-bedroom-apartment-to-rent/\n",
    "\n",
    "BazarakiBot, [19 мар. 2025 в 15:39]\n",
    "€1400 2-bedroom apartment to rent\n",
    "Limassol, Limassol - Neapolis\n",
    "https://www.bazaraki.com/adv/5684644_2-bedroom-apartment-to-rent/\n",
    "\n",
    "BazarakiBot, [19 мар. 2025 в 18:29]\n",
    "€1400 2-bedroom apartment to rent\n",
    "Limassol, Limassol - Katholiki\n",
    "https://www.bazaraki.com/adv/5704773_2-bedroom-apartment-to-rent/\n",
    "\n",
    "BazarakiBot, [19 мар. 2025 в 19:10]\n",
    "€1300 2-bedroom apartment to rent\n",
    "Limassol, Mesa Geitonia\n",
    "https://www.bazaraki.com/adv/5708561_2-bedroom-apartment-to-rent/\n",
    "\n",
    "BazarakiBot, [19 мар. 2025 в 19:19]\n",
    "€1400 2-bedroom apartment to rent\n",
    "Limassol, Limassol - Katholiki\n",
    "https://www.bazaraki.com/adv/5710260_2-bedroom-apartment-to-rent/\n",
    "\n",
    "BazarakiBot, [20 мар. 2025 в 11:49]\n",
    "€1350 2-bedroom apartment to rent\n",
    "Limassol, Limassol - Agios Spyridon\n",
    "https://www.bazaraki.com/adv/5700476_2-bedroom-apartment-to-rent/\n",
    "\n",
    "BazarakiBot, [20 мар. 2025 в 13:18]\n",
    "€ 1600 ➝ 1580 2-bedroom apartment to rent\n",
    "Limassol, Mouttagiaka Tourist Area\n",
    "https://www.bazaraki.com/adv/5630099_2-bedroom-apartment-to-rent/\n",
    "\n",
    "BazarakiBot, [20 мар. 2025 в 13:18]\n",
    "€1350 2-bedroom apartment to rent\n",
    "Limassol, Limassol - Zakaki\n",
    "https://www.bazaraki.com/adv/5589210_2-bedroom-apartment-to-rent/\n",
    "\n",
    "BazarakiBot, [20 мар. 2025 в 17:27]\n",
    "€1400 2-bedroom penthouse to rent\n",
    "Limassol, Limassol - Apostolos Andreas\n",
    "https://www.bazaraki.com/adv/5703109_2-bedroom-penthouse-to-rent/\n",
    "\n",
    "BazarakiBot, [20 мар. 2025 в 18:37]\n",
    "€1300 2-bedroom apartment to rent\n",
    "Limassol, Limassol - Katholiki\n",
    "https://www.bazaraki.com/adv/5696839_2-bedroom-apartment-to-rent/\n",
    "\n",
    "BazarakiBot, [20 мар. 2025 в 21:21]\n",
    "€1200 2-bedroom apartment to rent\n",
    "Limassol, Polemidia Pano\n",
    "https://www.bazaraki.com/adv/5712047_2-bedroom-apartment-to-rent/\n",
    "\n",
    "BazarakiBot, [21 мар. 2025 в 08:28]\n",
    "€ 1500 ➝ 1300 2-bedroom apartment to rent\n",
    "Limassol, Limassol - Neapolis\n",
    "https://www.bazaraki.com/adv/5667831_2-bedroom-apartment-to-rent/\n",
    "\n",
    "BazarakiBot, [21 мар. 2025 в 11:07]\n",
    "€1600 2-bedroom apartment to rent\n",
    "Limassol, Agios Athanasios\n",
    "https://www.bazaraki.com/adv/5492010_2-bedroom-apartment-to-rent/\n",
    "\n",
    "BazarakiBot, [21 мар. 2025 в 12:37]\n",
    "€1300 2-bedroom apartment to rent\n",
    "Limassol, Mouttagiaka Tourist Area\n",
    "https://www.bazaraki.com/adv/5712507_2-bedroom-apartment-to-rent/\n",
    "\n",
    "BazarakiBot, [21 мар. 2025 в 16:08]\n",
    "€1700 2-bedroom apartment to rent\n",
    "Limassol, Limassol - Zakaki\n",
    "https://www.bazaraki.com/adv/5704866_2-bedroom-apartment-to-rent/\n",
    "\n",
    "BazarakiBot, [21 мар. 2025 в 18:01]\n",
    "€1200 2-bedroom apartment to rent\n",
    "Limassol, Limassol - Agios Georgios\n",
    "https://www.bazaraki.com/adv/5713189_2-bedroom-apartment-to-rent/\n",
    "\n",
    "BazarakiBot, [21 мар. 2025 в 18:10]\n",
    "€1300 2-bedroom apartment to rent\n",
    "Limassol, Germasogeia Tourist Area\n",
    "https://www.bazaraki.com/adv/5712790_2-bedroom-apartment-to-rent/\n",
    "\n",
    "BazarakiBot, [21 мар. 2025 в 20:51]\n",
    "€1350 2-bedroom penthouse to rent\n",
    "Limassol, Episkopi Lemesou\n",
    "https://www.bazaraki.com/adv/5620506_3-bedroom-apartment-to-rent/\n",
    "\n",
    "BazarakiBot, [22 мар. 2025 в 05:39]\n",
    "€1400 2-bedroom apartment to rent\n",
    "Limassol, Limassol - Mesa Geitonia\n",
    "https://www.bazaraki.com/adv/5532017_3-bedroom-apartment-to-rent/\n",
    "\n",
    "BazarakiBot, [22 мар. 2025 в 09:39]\n",
    "€1200 2-bedroom apartment to rent\n",
    "Limassol, Limassol - Omonia\n",
    "https://www.bazaraki.com/adv/5713817_2-bedroom-apartment-to-rent/\n",
    "\n",
    "BazarakiBot, [22 мар. 2025 в 10:29]\n",
    "€ 1750 ➝ 1700 2-bedroom apartment to rent\n",
    "Limassol, Limassol - Katholiki\n",
    "https://www.bazaraki.com/adv/5461258_2-bedroom-apartment-to-rent/\n",
    "\n",
    "BazarakiBot, [22 мар. 2025 в 19:10]\n",
    "€ 1700 ➝ 1650 2-bedroom apartment to rent\n",
    "Limassol, Limassol - Katholiki\n",
    "https://www.bazaraki.com/adv/5461258_2-bedroom-apartment-to-rent/\n",
    "\n",
    "BazarakiBot, [23 мар. 2025 в 13:16]\n",
    "€1400 2-bedroom penthouse to rent\n",
    "Limassol, Limassol - Apostolos Andreas\n",
    "https://www.bazaraki.com/adv/5711210_2-bedroom-penthouse-to-rent/\n",
    "\n",
    "BazarakiBot, [23 мар. 2025 в 13:29]\n",
    "€1700 2-bedroom penthouse to rent\n",
    "Limassol, Germasogeia\n",
    "https://www.bazaraki.com/adv/5715425_2-bedroom-penthouse-to-rent/\n",
    "\n",
    "BazarakiBot, [23 мар. 2025 в 19:05]\n",
    "€1400 2-bedroom apartment to rent\n",
    "Limassol, Limassol - Agia Fyla\n",
    "https://www.bazaraki.com/adv/5715840_2-bedroom-apartment-to-rent/\n",
    "\n",
    "BazarakiBot, [23 мар. 2025 в 22:36]\n",
    "€1350 2-bedroom apartment to rent\n",
    "Limassol, Germasogeia Tourist Area\n",
    "https://www.bazaraki.com/adv/5716075_2-bedroom-apartment-to-rent/\n",
    "\n",
    "BazarakiBot, [24 мар. 2025 в 11:31]\n",
    "€1400 2-bedroom apartment to rent\n",
    "Limassol, Limassol - Mesa Geitonia\n",
    "https://www.bazaraki.com/adv/5712375_2-bedroom-apartment-to-rent/\n",
    "\n",
    "BazarakiBot, [24 мар. 2025 в 12:33]\n",
    "€1300 2-bedroom apartment to rent\n",
    "Limassol, Limassol - Neapolis\n",
    "https://www.bazaraki.com/adv/5685682_2-bedroom-apartment-to-rent/\n",
    "\n",
    "BazarakiBot, [24 мар. 2025 в 13:14]\n",
    "€ 1700 ➝ 1600 2-bedroom apartment to rent\n",
    "Limassol, Limassol - Zakaki\n",
    "https://www.bazaraki.com/adv/5704866_2-bedroom-apartment-to-rent/\n",
    "\n",
    "BazarakiBot, [24 мар. 2025 в 14:38]\n",
    "€1300 2-bedroom apartment to rent\n",
    "Limassol, Limassol - Neapolis\n",
    "https://www.bazaraki.com/adv/5669795_2-bedroom-apartment-to-rent/\n",
    "\n",
    "BazarakiBot, [24 мар. 2025 в 15:04]\n",
    "€ 1400 ➝ 1300 2-bedroom apartment to rent\n",
    "Limassol, Limassol - Neapolis\n",
    "https://www.bazaraki.com/adv/5708036_2-bedroom-apartment-to-rent/\n",
    "             \"\"\""
   ],
   "metadata": {
    "collapsed": false,
    "ExecuteTime": {
     "end_time": "2025-03-29T17:02:44.902661Z",
     "start_time": "2025-03-29T17:02:44.883851Z"
    }
   },
   "id": "2996ed5faa77c02f",
   "execution_count": 8
  },
  {
   "cell_type": "code",
   "outputs": [],
   "source": [
    "re.findall(r'https://')"
   ],
   "metadata": {
    "collapsed": false,
    "ExecuteTime": {
     "end_time": "2025-03-24T13:49:40.347801Z",
     "start_time": "2025-03-24T13:49:40.346258Z"
    }
   },
   "id": "dc6dcbd9260bdc",
   "execution_count": 22
  },
  {
   "cell_type": "code",
   "outputs": [],
   "source": [
    "pattern = r'https://www\\.bazaraki\\.com/adv/\\d+_[\\w-]+/'\n",
    "links_list = re.findall(pattern, link_text)"
   ],
   "metadata": {
    "collapsed": false,
    "ExecuteTime": {
     "end_time": "2025-03-29T17:02:46.299113Z",
     "start_time": "2025-03-29T17:02:46.293264Z"
    }
   },
   "id": "1baf82c7adced05",
   "execution_count": 9
  },
  {
   "cell_type": "code",
   "outputs": [
    {
     "data": {
      "text/plain": "177"
     },
     "execution_count": 26,
     "metadata": {},
     "output_type": "execute_result"
    }
   ],
   "source": [
    "len(links_list)"
   ],
   "metadata": {
    "collapsed": false,
    "ExecuteTime": {
     "end_time": "2025-03-24T13:55:29.445337Z",
     "start_time": "2025-03-24T13:55:29.429906Z"
    }
   },
   "id": "c71187b12b117ef1",
   "execution_count": 26
  },
  {
   "cell_type": "code",
   "outputs": [
    {
     "data": {
      "text/plain": "155"
     },
     "execution_count": 27,
     "metadata": {},
     "output_type": "execute_result"
    }
   ],
   "source": [
    "len(set(links_list))"
   ],
   "metadata": {
    "collapsed": false,
    "ExecuteTime": {
     "end_time": "2025-03-24T13:55:34.867414Z",
     "start_time": "2025-03-24T13:55:34.858324Z"
    }
   },
   "id": "5c3ce424a14c0378",
   "execution_count": 27
  },
  {
   "cell_type": "code",
   "outputs": [],
   "source": [
    "unique_list = list(set(links_list))"
   ],
   "metadata": {
    "collapsed": false,
    "ExecuteTime": {
     "end_time": "2025-03-29T17:02:54.537149Z",
     "start_time": "2025-03-29T17:02:54.533001Z"
    }
   },
   "id": "1b3c884c9ef6e7a7",
   "execution_count": 11
  },
  {
   "cell_type": "code",
   "outputs": [],
   "source": [
    "links_df = pd.DataFrame()\n",
    "links_df['link'] = unique_list"
   ],
   "metadata": {
    "collapsed": false,
    "ExecuteTime": {
     "end_time": "2025-03-29T17:03:21.106800Z",
     "start_time": "2025-03-29T17:03:21.085028Z"
    }
   },
   "id": "878f96ffb19db10a",
   "execution_count": 12
  },
  {
   "cell_type": "code",
   "outputs": [],
   "source": [
    "links_df.to_excel(f'../data/unique_links290325.xlsx', index=False)"
   ],
   "metadata": {
    "collapsed": false,
    "ExecuteTime": {
     "end_time": "2025-03-29T17:03:44.007279Z",
     "start_time": "2025-03-29T17:03:43.916452Z"
    }
   },
   "id": "278f36338b2ae8a2",
   "execution_count": 13
  },
  {
   "cell_type": "markdown",
   "source": [
    "# Parse Loops"
   ],
   "metadata": {
    "collapsed": false
   },
   "id": "81de59ca379c6492"
  },
  {
   "cell_type": "code",
   "outputs": [
    {
     "name": "stderr",
     "output_type": "stream",
     "text": [
      "100%|██████████| 155/155 [15:26<00:00,  5.98s/it]  \n"
     ]
    }
   ],
   "source": [
    "listing_dicts = []\n",
    "for link in tqdm(unique_list):\n",
    "    try:\n",
    "        # Example usage\n",
    "        url = link\n",
    "        headers = {'User-Agent': 'Mozilla/5.0'}\n",
    "        response = requests.get(url, headers=headers)\n",
    "        listing_data = parse_bazaraki_property(response.text, url)\n",
    "        listing_dicts.append(listing_data)\n",
    "        time.sleep(0.4)\n",
    "    except Exception as e:\n",
    "        print(f'Exception on {link}: {e}\\n')"
   ],
   "metadata": {
    "collapsed": false,
    "ExecuteTime": {
     "end_time": "2025-03-24T14:20:01.005432Z",
     "start_time": "2025-03-24T14:04:34.667272Z"
    }
   },
   "id": "3284067e0cf3743f",
   "execution_count": 43
  },
  {
   "cell_type": "code",
   "outputs": [
    {
     "data": {
      "text/plain": "{'Link': 'https://www.bazaraki.com/adv/5664359_2-bedroom-apartment-to-rent/',\n 'District': None,\n 'CountOfRooms': None,\n 'Floor': None,\n 'Square': None,\n 'Furnishing': None,\n 'Parking': None,\n 'Balcony': False,\n 'AC': None,\n 'EnergyEfficiency': None,\n 'DistanceToJob': False,\n 'DistanceToBeach': False,\n 'DoubleGlazedWindows': False,\n 'Elevator': False,\n 'WiFi': False,\n 'SoundProofing': False,\n 'Price': None}"
     },
     "execution_count": 45,
     "metadata": {},
     "output_type": "execute_result"
    }
   ],
   "source": [
    "listing_dicts[0]"
   ],
   "metadata": {
    "collapsed": false,
    "ExecuteTime": {
     "end_time": "2025-03-24T14:24:08.206675Z",
     "start_time": "2025-03-24T14:24:08.197070Z"
    }
   },
   "id": "df02dc208a2ae54d",
   "execution_count": 45
  },
  {
   "cell_type": "code",
   "outputs": [],
   "source": [
    "prices_df = pd.DataFrame(listing_dicts)"
   ],
   "metadata": {
    "collapsed": false,
    "ExecuteTime": {
     "end_time": "2025-03-24T14:26:56.284184Z",
     "start_time": "2025-03-24T14:26:56.277893Z"
    }
   },
   "id": "a9782e7e06e8b4af",
   "execution_count": 52
  },
  {
   "cell_type": "code",
   "outputs": [
    {
     "data": {
      "text/plain": "                                                  Link  \\\n0    https://www.bazaraki.com/adv/5664359_2-bedroom...   \n1    https://www.bazaraki.com/adv/5593137_2-bedroom...   \n2    https://www.bazaraki.com/adv/5693859_2-bedroom...   \n3    https://www.bazaraki.com/adv/5669144_2-bedroom...   \n4    https://www.bazaraki.com/adv/5693505_2-bedroom...   \n..                                                 ...   \n150  https://www.bazaraki.com/adv/5621114_2-bedroom...   \n151  https://www.bazaraki.com/adv/5397909_2-bedroom...   \n152  https://www.bazaraki.com/adv/5272205_2-bedroom...   \n153  https://www.bazaraki.com/adv/5700476_2-bedroom...   \n154  https://www.bazaraki.com/adv/5634085_2-bedroom...   \n\n                                District CountOfRooms Floor Square  \\\n0                                   None         None  None   None   \n1                      Limassol, Ypsonas            2   2nd    2nd   \n2            Limassol, Limassol - Omonia            2   1st    1st   \n3    Limassol, Limassol - Agios Nicolaos            1   4th    4th   \n4     Limassol, Limassol - Agios Ioannis            1   4th    4th   \n..                                   ...          ...   ...    ...   \n150         Limassol, Limassol - Tsirion            1   1st    1st   \n151          Limassol, Limassol - Omonia            2   1st    1st   \n152       Limassol, Potamos Germasogeias            1   3rd    3rd   \n153  Limassol, Limassol - Agios Spyridon            2   1st    1st   \n154              Limassol, Mesa Geitonia            1   2nd    2nd   \n\n          Furnishing    Parking  Balcony               AC EnergyEfficiency  \\\n0               None       None    False             None             None   \n1    Full, all rooms  Uncovered     True  Full, all rooms                A   \n2    Full, all rooms    Covered     True  Full, all rooms              N/A   \n3               3105         No    False  Full, all rooms              N/A   \n4               3065         No    False  Full, all rooms                A   \n..               ...        ...      ...              ...              ...   \n150             3081    Covered     True  Full, all rooms              N/A   \n151             3048    Covered     True  Full, all rooms              N/A   \n152             4040    Covered     True  Full, all rooms              N/A   \n153  Full, all rooms    Covered     True  Full, all rooms                A   \n154  Full, all rooms  Uncovered     True  Full, all rooms                A   \n\n     DistanceToJob  DistanceToBeach  DoubleGlazedWindows  Elevator   WiFi  \\\n0            False            False                False     False  False   \n1            False            False                False      True  False   \n2            False            False                False      True  False   \n3            False            False                False     False  False   \n4            False            False                False     False  False   \n..             ...              ...                  ...       ...    ...   \n150          False            False                False      True  False   \n151          False            False                False      True  False   \n152          False            False                False      True  False   \n153          False            False                False      True  False   \n154          False            False                False      True  False   \n\n     SoundProofing  Price  \n0            False   None  \n1            False  1.200  \n2            False  1.350  \n3            False  1.350  \n4            False  1.200  \n..             ...    ...  \n150          False  1.300  \n151          False  1.350  \n152          False  1.200  \n153          False  1.400  \n154          False  1.300  \n\n[155 rows x 17 columns]",
      "text/html": "<div>\n<style scoped>\n    .dataframe tbody tr th:only-of-type {\n        vertical-align: middle;\n    }\n\n    .dataframe tbody tr th {\n        vertical-align: top;\n    }\n\n    .dataframe thead th {\n        text-align: right;\n    }\n</style>\n<table border=\"1\" class=\"dataframe\">\n  <thead>\n    <tr style=\"text-align: right;\">\n      <th></th>\n      <th>Link</th>\n      <th>District</th>\n      <th>CountOfRooms</th>\n      <th>Floor</th>\n      <th>Square</th>\n      <th>Furnishing</th>\n      <th>Parking</th>\n      <th>Balcony</th>\n      <th>AC</th>\n      <th>EnergyEfficiency</th>\n      <th>DistanceToJob</th>\n      <th>DistanceToBeach</th>\n      <th>DoubleGlazedWindows</th>\n      <th>Elevator</th>\n      <th>WiFi</th>\n      <th>SoundProofing</th>\n      <th>Price</th>\n    </tr>\n  </thead>\n  <tbody>\n    <tr>\n      <th>0</th>\n      <td>https://www.bazaraki.com/adv/5664359_2-bedroom...</td>\n      <td>None</td>\n      <td>None</td>\n      <td>None</td>\n      <td>None</td>\n      <td>None</td>\n      <td>None</td>\n      <td>False</td>\n      <td>None</td>\n      <td>None</td>\n      <td>False</td>\n      <td>False</td>\n      <td>False</td>\n      <td>False</td>\n      <td>False</td>\n      <td>False</td>\n      <td>None</td>\n    </tr>\n    <tr>\n      <th>1</th>\n      <td>https://www.bazaraki.com/adv/5593137_2-bedroom...</td>\n      <td>Limassol, Ypsonas</td>\n      <td>2</td>\n      <td>2nd</td>\n      <td>2nd</td>\n      <td>Full, all rooms</td>\n      <td>Uncovered</td>\n      <td>True</td>\n      <td>Full, all rooms</td>\n      <td>A</td>\n      <td>False</td>\n      <td>False</td>\n      <td>False</td>\n      <td>True</td>\n      <td>False</td>\n      <td>False</td>\n      <td>1.200</td>\n    </tr>\n    <tr>\n      <th>2</th>\n      <td>https://www.bazaraki.com/adv/5693859_2-bedroom...</td>\n      <td>Limassol, Limassol - Omonia</td>\n      <td>2</td>\n      <td>1st</td>\n      <td>1st</td>\n      <td>Full, all rooms</td>\n      <td>Covered</td>\n      <td>True</td>\n      <td>Full, all rooms</td>\n      <td>N/A</td>\n      <td>False</td>\n      <td>False</td>\n      <td>False</td>\n      <td>True</td>\n      <td>False</td>\n      <td>False</td>\n      <td>1.350</td>\n    </tr>\n    <tr>\n      <th>3</th>\n      <td>https://www.bazaraki.com/adv/5669144_2-bedroom...</td>\n      <td>Limassol, Limassol - Agios Nicolaos</td>\n      <td>1</td>\n      <td>4th</td>\n      <td>4th</td>\n      <td>3105</td>\n      <td>No</td>\n      <td>False</td>\n      <td>Full, all rooms</td>\n      <td>N/A</td>\n      <td>False</td>\n      <td>False</td>\n      <td>False</td>\n      <td>False</td>\n      <td>False</td>\n      <td>False</td>\n      <td>1.350</td>\n    </tr>\n    <tr>\n      <th>4</th>\n      <td>https://www.bazaraki.com/adv/5693505_2-bedroom...</td>\n      <td>Limassol, Limassol - Agios Ioannis</td>\n      <td>1</td>\n      <td>4th</td>\n      <td>4th</td>\n      <td>3065</td>\n      <td>No</td>\n      <td>False</td>\n      <td>Full, all rooms</td>\n      <td>A</td>\n      <td>False</td>\n      <td>False</td>\n      <td>False</td>\n      <td>False</td>\n      <td>False</td>\n      <td>False</td>\n      <td>1.200</td>\n    </tr>\n    <tr>\n      <th>...</th>\n      <td>...</td>\n      <td>...</td>\n      <td>...</td>\n      <td>...</td>\n      <td>...</td>\n      <td>...</td>\n      <td>...</td>\n      <td>...</td>\n      <td>...</td>\n      <td>...</td>\n      <td>...</td>\n      <td>...</td>\n      <td>...</td>\n      <td>...</td>\n      <td>...</td>\n      <td>...</td>\n      <td>...</td>\n    </tr>\n    <tr>\n      <th>150</th>\n      <td>https://www.bazaraki.com/adv/5621114_2-bedroom...</td>\n      <td>Limassol, Limassol - Tsirion</td>\n      <td>1</td>\n      <td>1st</td>\n      <td>1st</td>\n      <td>3081</td>\n      <td>Covered</td>\n      <td>True</td>\n      <td>Full, all rooms</td>\n      <td>N/A</td>\n      <td>False</td>\n      <td>False</td>\n      <td>False</td>\n      <td>True</td>\n      <td>False</td>\n      <td>False</td>\n      <td>1.300</td>\n    </tr>\n    <tr>\n      <th>151</th>\n      <td>https://www.bazaraki.com/adv/5397909_2-bedroom...</td>\n      <td>Limassol, Limassol - Omonia</td>\n      <td>2</td>\n      <td>1st</td>\n      <td>1st</td>\n      <td>3048</td>\n      <td>Covered</td>\n      <td>True</td>\n      <td>Full, all rooms</td>\n      <td>N/A</td>\n      <td>False</td>\n      <td>False</td>\n      <td>False</td>\n      <td>True</td>\n      <td>False</td>\n      <td>False</td>\n      <td>1.350</td>\n    </tr>\n    <tr>\n      <th>152</th>\n      <td>https://www.bazaraki.com/adv/5272205_2-bedroom...</td>\n      <td>Limassol, Potamos Germasogeias</td>\n      <td>1</td>\n      <td>3rd</td>\n      <td>3rd</td>\n      <td>4040</td>\n      <td>Covered</td>\n      <td>True</td>\n      <td>Full, all rooms</td>\n      <td>N/A</td>\n      <td>False</td>\n      <td>False</td>\n      <td>False</td>\n      <td>True</td>\n      <td>False</td>\n      <td>False</td>\n      <td>1.200</td>\n    </tr>\n    <tr>\n      <th>153</th>\n      <td>https://www.bazaraki.com/adv/5700476_2-bedroom...</td>\n      <td>Limassol, Limassol - Agios Spyridon</td>\n      <td>2</td>\n      <td>1st</td>\n      <td>1st</td>\n      <td>Full, all rooms</td>\n      <td>Covered</td>\n      <td>True</td>\n      <td>Full, all rooms</td>\n      <td>A</td>\n      <td>False</td>\n      <td>False</td>\n      <td>False</td>\n      <td>True</td>\n      <td>False</td>\n      <td>False</td>\n      <td>1.400</td>\n    </tr>\n    <tr>\n      <th>154</th>\n      <td>https://www.bazaraki.com/adv/5634085_2-bedroom...</td>\n      <td>Limassol, Mesa Geitonia</td>\n      <td>1</td>\n      <td>2nd</td>\n      <td>2nd</td>\n      <td>Full, all rooms</td>\n      <td>Uncovered</td>\n      <td>True</td>\n      <td>Full, all rooms</td>\n      <td>A</td>\n      <td>False</td>\n      <td>False</td>\n      <td>False</td>\n      <td>True</td>\n      <td>False</td>\n      <td>False</td>\n      <td>1.300</td>\n    </tr>\n  </tbody>\n</table>\n<p>155 rows × 17 columns</p>\n</div>"
     },
     "execution_count": 53,
     "metadata": {},
     "output_type": "execute_result"
    }
   ],
   "source": [
    "prices_df"
   ],
   "metadata": {
    "collapsed": false,
    "ExecuteTime": {
     "end_time": "2025-03-24T14:26:59.344046Z",
     "start_time": "2025-03-24T14:26:59.317370Z"
    }
   },
   "id": "f210e5149989f8e5",
   "execution_count": 53
  },
  {
   "cell_type": "code",
   "outputs": [
    {
     "data": {
      "text/plain": "(141,)"
     },
     "execution_count": 56,
     "metadata": {},
     "output_type": "execute_result"
    }
   ],
   "source": [
    "prices_df['District'].dropna().shape"
   ],
   "metadata": {
    "collapsed": false,
    "ExecuteTime": {
     "end_time": "2025-03-24T14:27:53.984376Z",
     "start_time": "2025-03-24T14:27:53.968924Z"
    }
   },
   "id": "cd85cdaa26cbea35",
   "execution_count": 56
  },
  {
   "cell_type": "code",
   "outputs": [
    {
     "data": {
      "text/plain": "District\nLimassol, Limassol - Mesa Geitonia          10\nLimassol, Limassol - Zakaki                 10\nLimassol, Limassol - Neapolis                8\nLimassol, Germasogeia Tourist Area           8\nLimassol, Polemidia Kato                     7\nLimassol, Limassol - Katholiki               7\nLimassol, Limassol - Agios Nicolaos          6\nLimassol, Germasogeia                        6\nLimassol, Limassol - Omonia                  6\nLimassol, Ypsonas                            5\nLimassol, Historical Center                  5\nLimassol, Limassol - Kapsalos                5\nLimassol, Limassol - Agios Spyridon          4\nLimassol, Mesa Geitonia                      4\nLimassol, Limassol - Apostolos Andreas       4\nLimassol, Limassol - Agios Ioannis           3\nLimassol, Limassol - Agia Zoni               3\nLimassol, Limassol - Agia Fyla               3\nLimassol, Mouttagiaka Tourist Area           3\nLimassol, Limassol - Agios Georgios          3\nLimassol, Limassol - Petrou Kai Pavlou       3\nLimassol, Potamos Germasogeias               3\nLimassol, Agios Tychon Tourist Area          2\nLimassol, Agios Athanasios                   2\nLimassol, Polemidia Pano                     2\nLimassol, Limassol Marina                    2\nLimassol, Limassol - Agios Nektarios         2\nLimassol, Limassol - Tsirion                 2\nLimassol, Kolossi -Agios Loukas              2\nLimassol, Polemidia - Apostolos Varnavas     2\nLimassol, Erimi                              1\nLimassol, Limassol - Agia Napa               1\nLimassol, Panthea                            1\nLimassol, Polemidia - Agios Nikolaos         1\nLimassol, Limassol - Tsiflikoudia            1\nLimassol, Agios Ioannis                      1\nLimassol, Ekali                              1\nLimassol, Episkopi Lemesou                   1\nLimassol, Limassol - Linopetra               1\nName: count, dtype: int64"
     },
     "execution_count": 57,
     "metadata": {},
     "output_type": "execute_result"
    }
   ],
   "source": [
    "prices_df['District'].value_counts()"
   ],
   "metadata": {
    "collapsed": false,
    "ExecuteTime": {
     "end_time": "2025-03-24T14:27:58.846318Z",
     "start_time": "2025-03-24T14:27:58.838564Z"
    }
   },
   "id": "f6256d788a787c76",
   "execution_count": 57
  },
  {
   "cell_type": "code",
   "outputs": [],
   "source": [
    "def extract_price(x):\n",
    "    if pd.isnull(x):\n",
    "        return np.nan\n",
    "    x = str(x).replace('.', '')\n",
    "    return int(x)"
   ],
   "metadata": {
    "collapsed": false,
    "ExecuteTime": {
     "end_time": "2025-03-24T14:30:48.948496Z",
     "start_time": "2025-03-24T14:30:48.943552Z"
    }
   },
   "id": "1a6c3e53dbe5bcaa",
   "execution_count": 67
  },
  {
   "cell_type": "code",
   "outputs": [],
   "source": [
    "prices_df['price_int'] = prices_df['Price'].apply(extract_price)"
   ],
   "metadata": {
    "collapsed": false,
    "ExecuteTime": {
     "end_time": "2025-03-24T14:30:49.203184Z",
     "start_time": "2025-03-24T14:30:49.198682Z"
    }
   },
   "id": "c00af28c618ac081",
   "execution_count": 68
  },
  {
   "cell_type": "code",
   "outputs": [
    {
     "data": {
      "text/plain": "                                          min_price   mean_price  \\\nDistrict                                                           \nLimassol, Panthea                            1750.0  1750.000000   \nLimassol, Ekali                              1550.0  1550.000000   \nLimassol, Limassol - Kapsalos                1200.0  1410.000000   \nLimassol, Limassol - Katholiki               1250.0  1400.000000   \nLimassol, Limassol - Agia Zoni               1200.0  1383.333333   \nLimassol, Limassol - Zakaki                  1100.0  1364.000000   \nLimassol, Limassol - Agios Spyridon          1300.0  1362.500000   \nLimassol, Limassol - Agia Napa               1350.0  1350.000000   \nLimassol, Polemidia Kato                     1100.0  1350.000000   \nLimassol, Limassol - Tsiflikoudia            1350.0  1350.000000   \nLimassol, Agios Athanasios                   1100.0  1350.000000   \nLimassol, Episkopi Lemesou                   1350.0  1350.000000   \nLimassol, Limassol - Mesa Geitonia           1150.0  1341.500000   \nLimassol, Mouttagiaka Tourist Area           1200.0  1340.000000   \nLimassol, Limassol - Agios Nicolaos          1300.0  1333.333333   \nLimassol, Mesa Geitonia                      1300.0  1325.000000   \nLimassol, Limassol - Neapolis                1150.0  1306.250000   \nLimassol, Limassol - Petrou Kai Pavlou       1200.0  1300.000000   \nLimassol, Polemidia - Agios Nikolaos         1300.0  1300.000000   \nLimassol, Agios Ioannis                      1300.0  1300.000000   \nLimassol, Limassol - Agia Fyla               1200.0  1298.333333   \nLimassol, Germasogeia                        1000.0  1291.666667   \nLimassol, Potamos Germasogeias               1200.0  1283.333333   \nLimassol, Germasogeia Tourist Area           1200.0  1281.250000   \nLimassol, Polemidia Pano                     1200.0  1275.000000   \nLimassol, Limassol Marina                    1200.0  1275.000000   \nLimassol, Limassol - Agios Nektarios         1250.0  1275.000000   \nLimassol, Historical Center                  1200.0  1270.000000   \nLimassol, Limassol - Tsirion                 1200.0  1250.000000   \nLimassol, Agios Tychon Tourist Area          1200.0  1250.000000   \nLimassol, Limassol - Apostolos Andreas       1000.0  1237.500000   \nLimassol, Limassol - Agios Georgios          1200.0  1233.333333   \nLimassol, Ypsonas                             850.0  1230.000000   \nLimassol, Limassol - Omonia                   950.0  1216.666667   \nLimassol, Polemidia - Apostolos Varnavas     1100.0  1200.000000   \nLimassol, Limassol - Linopetra               1200.0  1200.000000   \nLimassol, Kolossi -Agios Loukas               950.0  1150.000000   \nLimassol, Limassol - Agios Ioannis           1000.0  1133.333333   \nLimassol, Erimi                              1100.0  1100.000000   \n\n                                          median_price  count_of_price  \\\nDistrict                                                                 \nLimassol, Panthea                               1750.0               1   \nLimassol, Ekali                                 1550.0               1   \nLimassol, Limassol - Kapsalos                   1300.0               5   \nLimassol, Limassol - Katholiki                  1400.0               7   \nLimassol, Limassol - Agia Zoni                  1350.0               3   \nLimassol, Limassol - Zakaki                     1350.0              10   \nLimassol, Limassol - Agios Spyridon             1375.0               4   \nLimassol, Limassol - Agia Napa                  1350.0               1   \nLimassol, Polemidia Kato                        1350.0               7   \nLimassol, Limassol - Tsiflikoudia               1350.0               1   \nLimassol, Agios Athanasios                      1350.0               2   \nLimassol, Episkopi Lemesou                      1350.0               1   \nLimassol, Limassol - Mesa Geitonia              1300.0              10   \nLimassol, Mouttagiaka Tourist Area              1300.0               3   \nLimassol, Limassol - Agios Nicolaos             1350.0               6   \nLimassol, Mesa Geitonia                         1300.0               4   \nLimassol, Limassol - Neapolis                   1300.0               8   \nLimassol, Limassol - Petrou Kai Pavlou          1350.0               3   \nLimassol, Polemidia - Agios Nikolaos            1300.0               1   \nLimassol, Agios Ioannis                         1300.0               1   \nLimassol, Limassol - Agia Fyla                  1295.0               3   \nLimassol, Germasogeia                           1250.0               6   \nLimassol, Potamos Germasogeias                  1300.0               3   \nLimassol, Germasogeia Tourist Area              1300.0               8   \nLimassol, Polemidia Pano                        1275.0               2   \nLimassol, Limassol Marina                       1275.0               2   \nLimassol, Limassol - Agios Nektarios            1275.0               2   \nLimassol, Historical Center                     1300.0               5   \nLimassol, Limassol - Tsirion                    1250.0               2   \nLimassol, Agios Tychon Tourist Area             1250.0               2   \nLimassol, Limassol - Apostolos Andreas          1275.0               4   \nLimassol, Limassol - Agios Georgios             1200.0               3   \nLimassol, Ypsonas                               1200.0               5   \nLimassol, Limassol - Omonia                     1275.0               6   \nLimassol, Polemidia - Apostolos Varnavas        1200.0               2   \nLimassol, Limassol - Linopetra                  1200.0               1   \nLimassol, Kolossi -Agios Loukas                 1150.0               2   \nLimassol, Limassol - Agios Ioannis              1200.0               3   \nLimassol, Erimi                                 1100.0               1   \n\n                                          max_price  \nDistrict                                             \nLimassol, Panthea                            1750.0  \nLimassol, Ekali                              1550.0  \nLimassol, Limassol - Kapsalos                1650.0  \nLimassol, Limassol - Katholiki               1650.0  \nLimassol, Limassol - Agia Zoni               1600.0  \nLimassol, Limassol - Zakaki                  1600.0  \nLimassol, Limassol - Agios Spyridon          1400.0  \nLimassol, Limassol - Agia Napa               1350.0  \nLimassol, Polemidia Kato                     1650.0  \nLimassol, Limassol - Tsiflikoudia            1350.0  \nLimassol, Agios Athanasios                   1600.0  \nLimassol, Episkopi Lemesou                   1350.0  \nLimassol, Limassol - Mesa Geitonia           1600.0  \nLimassol, Mouttagiaka Tourist Area           1520.0  \nLimassol, Limassol - Agios Nicolaos          1350.0  \nLimassol, Mesa Geitonia                      1400.0  \nLimassol, Limassol - Neapolis                1500.0  \nLimassol, Limassol - Petrou Kai Pavlou       1350.0  \nLimassol, Polemidia - Agios Nikolaos         1300.0  \nLimassol, Agios Ioannis                      1300.0  \nLimassol, Limassol - Agia Fyla               1400.0  \nLimassol, Germasogeia                        1700.0  \nLimassol, Potamos Germasogeias               1350.0  \nLimassol, Germasogeia Tourist Area           1350.0  \nLimassol, Polemidia Pano                     1350.0  \nLimassol, Limassol Marina                    1350.0  \nLimassol, Limassol - Agios Nektarios         1300.0  \nLimassol, Historical Center                  1350.0  \nLimassol, Limassol - Tsirion                 1300.0  \nLimassol, Agios Tychon Tourist Area          1300.0  \nLimassol, Limassol - Apostolos Andreas       1400.0  \nLimassol, Limassol - Agios Georgios          1300.0  \nLimassol, Ypsonas                            1550.0  \nLimassol, Limassol - Omonia                  1350.0  \nLimassol, Polemidia - Apostolos Varnavas     1300.0  \nLimassol, Limassol - Linopetra               1200.0  \nLimassol, Kolossi -Agios Loukas              1350.0  \nLimassol, Limassol - Agios Ioannis           1200.0  \nLimassol, Erimi                              1100.0  ",
      "text/html": "<div>\n<style scoped>\n    .dataframe tbody tr th:only-of-type {\n        vertical-align: middle;\n    }\n\n    .dataframe tbody tr th {\n        vertical-align: top;\n    }\n\n    .dataframe thead th {\n        text-align: right;\n    }\n</style>\n<table border=\"1\" class=\"dataframe\">\n  <thead>\n    <tr style=\"text-align: right;\">\n      <th></th>\n      <th>min_price</th>\n      <th>mean_price</th>\n      <th>median_price</th>\n      <th>count_of_price</th>\n      <th>max_price</th>\n    </tr>\n    <tr>\n      <th>District</th>\n      <th></th>\n      <th></th>\n      <th></th>\n      <th></th>\n      <th></th>\n    </tr>\n  </thead>\n  <tbody>\n    <tr>\n      <th>Limassol, Panthea</th>\n      <td>1750.0</td>\n      <td>1750.000000</td>\n      <td>1750.0</td>\n      <td>1</td>\n      <td>1750.0</td>\n    </tr>\n    <tr>\n      <th>Limassol, Ekali</th>\n      <td>1550.0</td>\n      <td>1550.000000</td>\n      <td>1550.0</td>\n      <td>1</td>\n      <td>1550.0</td>\n    </tr>\n    <tr>\n      <th>Limassol, Limassol - Kapsalos</th>\n      <td>1200.0</td>\n      <td>1410.000000</td>\n      <td>1300.0</td>\n      <td>5</td>\n      <td>1650.0</td>\n    </tr>\n    <tr>\n      <th>Limassol, Limassol - Katholiki</th>\n      <td>1250.0</td>\n      <td>1400.000000</td>\n      <td>1400.0</td>\n      <td>7</td>\n      <td>1650.0</td>\n    </tr>\n    <tr>\n      <th>Limassol, Limassol - Agia Zoni</th>\n      <td>1200.0</td>\n      <td>1383.333333</td>\n      <td>1350.0</td>\n      <td>3</td>\n      <td>1600.0</td>\n    </tr>\n    <tr>\n      <th>Limassol, Limassol - Zakaki</th>\n      <td>1100.0</td>\n      <td>1364.000000</td>\n      <td>1350.0</td>\n      <td>10</td>\n      <td>1600.0</td>\n    </tr>\n    <tr>\n      <th>Limassol, Limassol - Agios Spyridon</th>\n      <td>1300.0</td>\n      <td>1362.500000</td>\n      <td>1375.0</td>\n      <td>4</td>\n      <td>1400.0</td>\n    </tr>\n    <tr>\n      <th>Limassol, Limassol - Agia Napa</th>\n      <td>1350.0</td>\n      <td>1350.000000</td>\n      <td>1350.0</td>\n      <td>1</td>\n      <td>1350.0</td>\n    </tr>\n    <tr>\n      <th>Limassol, Polemidia Kato</th>\n      <td>1100.0</td>\n      <td>1350.000000</td>\n      <td>1350.0</td>\n      <td>7</td>\n      <td>1650.0</td>\n    </tr>\n    <tr>\n      <th>Limassol, Limassol - Tsiflikoudia</th>\n      <td>1350.0</td>\n      <td>1350.000000</td>\n      <td>1350.0</td>\n      <td>1</td>\n      <td>1350.0</td>\n    </tr>\n    <tr>\n      <th>Limassol, Agios Athanasios</th>\n      <td>1100.0</td>\n      <td>1350.000000</td>\n      <td>1350.0</td>\n      <td>2</td>\n      <td>1600.0</td>\n    </tr>\n    <tr>\n      <th>Limassol, Episkopi Lemesou</th>\n      <td>1350.0</td>\n      <td>1350.000000</td>\n      <td>1350.0</td>\n      <td>1</td>\n      <td>1350.0</td>\n    </tr>\n    <tr>\n      <th>Limassol, Limassol - Mesa Geitonia</th>\n      <td>1150.0</td>\n      <td>1341.500000</td>\n      <td>1300.0</td>\n      <td>10</td>\n      <td>1600.0</td>\n    </tr>\n    <tr>\n      <th>Limassol, Mouttagiaka Tourist Area</th>\n      <td>1200.0</td>\n      <td>1340.000000</td>\n      <td>1300.0</td>\n      <td>3</td>\n      <td>1520.0</td>\n    </tr>\n    <tr>\n      <th>Limassol, Limassol - Agios Nicolaos</th>\n      <td>1300.0</td>\n      <td>1333.333333</td>\n      <td>1350.0</td>\n      <td>6</td>\n      <td>1350.0</td>\n    </tr>\n    <tr>\n      <th>Limassol, Mesa Geitonia</th>\n      <td>1300.0</td>\n      <td>1325.000000</td>\n      <td>1300.0</td>\n      <td>4</td>\n      <td>1400.0</td>\n    </tr>\n    <tr>\n      <th>Limassol, Limassol - Neapolis</th>\n      <td>1150.0</td>\n      <td>1306.250000</td>\n      <td>1300.0</td>\n      <td>8</td>\n      <td>1500.0</td>\n    </tr>\n    <tr>\n      <th>Limassol, Limassol - Petrou Kai Pavlou</th>\n      <td>1200.0</td>\n      <td>1300.000000</td>\n      <td>1350.0</td>\n      <td>3</td>\n      <td>1350.0</td>\n    </tr>\n    <tr>\n      <th>Limassol, Polemidia - Agios Nikolaos</th>\n      <td>1300.0</td>\n      <td>1300.000000</td>\n      <td>1300.0</td>\n      <td>1</td>\n      <td>1300.0</td>\n    </tr>\n    <tr>\n      <th>Limassol, Agios Ioannis</th>\n      <td>1300.0</td>\n      <td>1300.000000</td>\n      <td>1300.0</td>\n      <td>1</td>\n      <td>1300.0</td>\n    </tr>\n    <tr>\n      <th>Limassol, Limassol - Agia Fyla</th>\n      <td>1200.0</td>\n      <td>1298.333333</td>\n      <td>1295.0</td>\n      <td>3</td>\n      <td>1400.0</td>\n    </tr>\n    <tr>\n      <th>Limassol, Germasogeia</th>\n      <td>1000.0</td>\n      <td>1291.666667</td>\n      <td>1250.0</td>\n      <td>6</td>\n      <td>1700.0</td>\n    </tr>\n    <tr>\n      <th>Limassol, Potamos Germasogeias</th>\n      <td>1200.0</td>\n      <td>1283.333333</td>\n      <td>1300.0</td>\n      <td>3</td>\n      <td>1350.0</td>\n    </tr>\n    <tr>\n      <th>Limassol, Germasogeia Tourist Area</th>\n      <td>1200.0</td>\n      <td>1281.250000</td>\n      <td>1300.0</td>\n      <td>8</td>\n      <td>1350.0</td>\n    </tr>\n    <tr>\n      <th>Limassol, Polemidia Pano</th>\n      <td>1200.0</td>\n      <td>1275.000000</td>\n      <td>1275.0</td>\n      <td>2</td>\n      <td>1350.0</td>\n    </tr>\n    <tr>\n      <th>Limassol, Limassol Marina</th>\n      <td>1200.0</td>\n      <td>1275.000000</td>\n      <td>1275.0</td>\n      <td>2</td>\n      <td>1350.0</td>\n    </tr>\n    <tr>\n      <th>Limassol, Limassol - Agios Nektarios</th>\n      <td>1250.0</td>\n      <td>1275.000000</td>\n      <td>1275.0</td>\n      <td>2</td>\n      <td>1300.0</td>\n    </tr>\n    <tr>\n      <th>Limassol, Historical Center</th>\n      <td>1200.0</td>\n      <td>1270.000000</td>\n      <td>1300.0</td>\n      <td>5</td>\n      <td>1350.0</td>\n    </tr>\n    <tr>\n      <th>Limassol, Limassol - Tsirion</th>\n      <td>1200.0</td>\n      <td>1250.000000</td>\n      <td>1250.0</td>\n      <td>2</td>\n      <td>1300.0</td>\n    </tr>\n    <tr>\n      <th>Limassol, Agios Tychon Tourist Area</th>\n      <td>1200.0</td>\n      <td>1250.000000</td>\n      <td>1250.0</td>\n      <td>2</td>\n      <td>1300.0</td>\n    </tr>\n    <tr>\n      <th>Limassol, Limassol - Apostolos Andreas</th>\n      <td>1000.0</td>\n      <td>1237.500000</td>\n      <td>1275.0</td>\n      <td>4</td>\n      <td>1400.0</td>\n    </tr>\n    <tr>\n      <th>Limassol, Limassol - Agios Georgios</th>\n      <td>1200.0</td>\n      <td>1233.333333</td>\n      <td>1200.0</td>\n      <td>3</td>\n      <td>1300.0</td>\n    </tr>\n    <tr>\n      <th>Limassol, Ypsonas</th>\n      <td>850.0</td>\n      <td>1230.000000</td>\n      <td>1200.0</td>\n      <td>5</td>\n      <td>1550.0</td>\n    </tr>\n    <tr>\n      <th>Limassol, Limassol - Omonia</th>\n      <td>950.0</td>\n      <td>1216.666667</td>\n      <td>1275.0</td>\n      <td>6</td>\n      <td>1350.0</td>\n    </tr>\n    <tr>\n      <th>Limassol, Polemidia - Apostolos Varnavas</th>\n      <td>1100.0</td>\n      <td>1200.000000</td>\n      <td>1200.0</td>\n      <td>2</td>\n      <td>1300.0</td>\n    </tr>\n    <tr>\n      <th>Limassol, Limassol - Linopetra</th>\n      <td>1200.0</td>\n      <td>1200.000000</td>\n      <td>1200.0</td>\n      <td>1</td>\n      <td>1200.0</td>\n    </tr>\n    <tr>\n      <th>Limassol, Kolossi -Agios Loukas</th>\n      <td>950.0</td>\n      <td>1150.000000</td>\n      <td>1150.0</td>\n      <td>2</td>\n      <td>1350.0</td>\n    </tr>\n    <tr>\n      <th>Limassol, Limassol - Agios Ioannis</th>\n      <td>1000.0</td>\n      <td>1133.333333</td>\n      <td>1200.0</td>\n      <td>3</td>\n      <td>1200.0</td>\n    </tr>\n    <tr>\n      <th>Limassol, Erimi</th>\n      <td>1100.0</td>\n      <td>1100.000000</td>\n      <td>1100.0</td>\n      <td>1</td>\n      <td>1100.0</td>\n    </tr>\n  </tbody>\n</table>\n</div>"
     },
     "execution_count": 72,
     "metadata": {},
     "output_type": "execute_result"
    }
   ],
   "source": [
    "prices_df.groupby('District').agg(min_price=('price_int', 'min'),\n",
    "                                  mean_price=('price_int', 'mean'),\n",
    "                                  median_price=('price_int', 'median'),\n",
    "                                  count_of_price=('price_int', 'count'),\n",
    "                                  max_price=('price_int', 'max')\n",
    "                                  ).sort_values(by='mean_price', ascending=False)"
   ],
   "metadata": {
    "collapsed": false,
    "ExecuteTime": {
     "end_time": "2025-03-24T14:33:40.469714Z",
     "start_time": "2025-03-24T14:33:40.437409Z"
    }
   },
   "id": "363d9fae6b3da4ab",
   "execution_count": 72
  },
  {
   "cell_type": "code",
   "outputs": [],
   "source": [
    "prices_df.to_excel(f'../data/prices_df240325.xlsx', index=False)"
   ],
   "metadata": {
    "collapsed": false,
    "ExecuteTime": {
     "end_time": "2025-03-24T14:39:12.590319Z",
     "start_time": "2025-03-24T14:39:12.521404Z"
    }
   },
   "id": "9a19a662b5e5e8b1",
   "execution_count": 76
  },
  {
   "cell_type": "code",
   "outputs": [],
   "source": [],
   "metadata": {
    "collapsed": false,
    "ExecuteTime": {
     "end_time": "2025-03-24T14:29:49.622478Z",
     "start_time": "2025-03-24T14:29:49.620203Z"
    }
   },
   "id": "12ce87137b3244c3",
   "execution_count": 63
  },
  {
   "cell_type": "code",
   "outputs": [],
   "source": [
    "import numpy as np"
   ],
   "metadata": {
    "collapsed": false,
    "ExecuteTime": {
     "end_time": "2025-03-24T14:29:53.912340Z",
     "start_time": "2025-03-24T14:29:53.908500Z"
    }
   },
   "id": "5491ba94fbf357b2",
   "execution_count": 64
  },
  {
   "cell_type": "code",
   "outputs": [
    {
     "ename": "IndentationError",
     "evalue": "unindent does not match any outer indentation level (<tokenize>, line 8)",
     "output_type": "error",
     "traceback": [
      "  \u001B[36mFile \u001B[39m\u001B[32m<tokenize>:8\u001B[39m\n\u001B[31m    \u001B[39m\u001B[31mreturn None\u001B[39m\n    ^\n\u001B[31mIndentationError\u001B[39m\u001B[31m:\u001B[39m unindent does not match any outer indentation level\n"
     ]
    }
   ],
   "source": [
    "for script in soup.find_all('script'):\n",
    "        if script.string and 'coordinates' in script.string:\n",
    "            match = re.search(r'\"coordinates\":\\s*\\[\\s*([\\d.]+)\\s*,\\s*([\\d.]+)\\s*\\]', script.string)\n",
    "            if match:\n",
    "                lon = float(match.group(1))\n",
    "                lat = float(match.group(2))\n",
    "                return {'lat': lat, 'lon': lon}\n",
    "    return None"
   ],
   "metadata": {
    "collapsed": false,
    "ExecuteTime": {
     "end_time": "2025-03-29T16:52:01.559295Z",
     "start_time": "2025-03-29T16:52:01.544877Z"
    }
   },
   "id": "1a633b474c5e7e27",
   "execution_count": 2
  },
  {
   "cell_type": "code",
   "outputs": [],
   "source": [],
   "metadata": {
    "collapsed": false,
    "ExecuteTime": {
     "end_time": "2025-03-29T16:52:01.562039Z",
     "start_time": "2025-03-29T16:52:01.561966Z"
    }
   },
   "id": "bd025e831e4fbc53"
  },
  {
   "cell_type": "code",
   "outputs": [],
   "source": [],
   "metadata": {
    "collapsed": false
   },
   "id": "5cf4e486a63e013c"
  },
  {
   "cell_type": "code",
   "outputs": [],
   "source": [],
   "metadata": {
    "collapsed": false
   },
   "id": "e4fa8be4f111ed45"
  }
 ],
 "metadata": {
  "kernelspec": {
   "name": "cy_properties",
   "language": "python",
   "display_name": "cy_properties"
  },
  "language_info": {
   "codemirror_mode": {
    "name": "ipython",
    "version": 2
   },
   "file_extension": ".py",
   "mimetype": "text/x-python",
   "name": "python",
   "nbconvert_exporter": "python",
   "pygments_lexer": "ipython2",
   "version": "2.7.6"
  }
 },
 "nbformat": 4,
 "nbformat_minor": 5
}
