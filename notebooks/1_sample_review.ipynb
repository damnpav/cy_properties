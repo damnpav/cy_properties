{
 "cells": [
  {
   "cell_type": "markdown",
   "source": [
    "# Import"
   ],
   "metadata": {
    "collapsed": false
   },
   "id": "c805a2413656efe5"
  },
  {
   "cell_type": "code",
   "outputs": [],
   "source": [
    "import requests\n",
    "import re\n",
    "from bs4 import BeautifulSoup\n",
    "import pandas as pd\n",
    "from tqdm import tqdm\n",
    "import time\n",
    "import warnings\n",
    "warnings.filterwarnings('ignore')"
   ],
   "metadata": {
    "collapsed": false,
    "ExecuteTime": {
     "end_time": "2025-03-29T16:41:20.926748Z",
     "start_time": "2025-03-29T16:41:19.263673Z"
    }
   },
   "id": "a85d87ebf3af2b85",
   "execution_count": 1
  },
  {
   "cell_type": "markdown",
   "source": [
    "# Load Data"
   ],
   "metadata": {
    "collapsed": false
   },
   "id": "d5d34c07f3f4b398"
  },
  {
   "cell_type": "code",
   "outputs": [],
   "source": [
    "prices_df = pd.read_excel(f'../data/prices_df240325.xlsx')"
   ],
   "metadata": {
    "collapsed": false,
    "ExecuteTime": {
     "end_time": "2025-03-29T16:44:25.850401Z",
     "start_time": "2025-03-29T16:44:25.672005Z"
    }
   },
   "id": "a05b90f791746157",
   "execution_count": 2
  },
  {
   "cell_type": "code",
   "outputs": [
    {
     "data": {
      "text/plain": "District\nLimassol, Limassol - Mesa Geitonia          10\nLimassol, Limassol - Zakaki                 10\nLimassol, Limassol - Neapolis                8\nLimassol, Germasogeia Tourist Area           8\nLimassol, Polemidia Kato                     7\nLimassol, Limassol - Katholiki               7\nLimassol, Limassol - Agios Nicolaos          6\nLimassol, Germasogeia                        6\nLimassol, Limassol - Omonia                  6\nLimassol, Ypsonas                            5\nLimassol, Historical Center                  5\nLimassol, Limassol - Kapsalos                5\nLimassol, Limassol - Agios Spyridon          4\nLimassol, Mesa Geitonia                      4\nLimassol, Limassol - Apostolos Andreas       4\nLimassol, Limassol - Agios Ioannis           3\nLimassol, Limassol - Agia Zoni               3\nLimassol, Limassol - Agia Fyla               3\nLimassol, Mouttagiaka Tourist Area           3\nLimassol, Limassol - Agios Georgios          3\nLimassol, Limassol - Petrou Kai Pavlou       3\nLimassol, Potamos Germasogeias               3\nLimassol, Agios Tychon Tourist Area          2\nLimassol, Agios Athanasios                   2\nLimassol, Polemidia Pano                     2\nLimassol, Limassol Marina                    2\nLimassol, Limassol - Agios Nektarios         2\nLimassol, Limassol - Tsirion                 2\nLimassol, Kolossi -Agios Loukas              2\nLimassol, Polemidia - Apostolos Varnavas     2\nLimassol, Erimi                              1\nLimassol, Limassol - Agia Napa               1\nLimassol, Panthea                            1\nLimassol, Polemidia - Agios Nikolaos         1\nLimassol, Limassol - Tsiflikoudia            1\nLimassol, Agios Ioannis                      1\nLimassol, Ekali                              1\nLimassol, Episkopi Lemesou                   1\nLimassol, Limassol - Linopetra               1\nName: count, dtype: int64"
     },
     "execution_count": 3,
     "metadata": {},
     "output_type": "execute_result"
    }
   ],
   "source": [
    "prices_df['District'].value_counts()"
   ],
   "metadata": {
    "collapsed": false,
    "ExecuteTime": {
     "end_time": "2025-03-29T16:44:51.048990Z",
     "start_time": "2025-03-29T16:44:51.018024Z"
    }
   },
   "id": "764253881a53f6be",
   "execution_count": 3
  },
  {
   "cell_type": "code",
   "outputs": [
    {
     "data": {
      "text/plain": "                                                  Link  \\\n0    https://www.bazaraki.com/adv/5664359_2-bedroom...   \n1    https://www.bazaraki.com/adv/5593137_2-bedroom...   \n2    https://www.bazaraki.com/adv/5693859_2-bedroom...   \n3    https://www.bazaraki.com/adv/5669144_2-bedroom...   \n4    https://www.bazaraki.com/adv/5693505_2-bedroom...   \n..                                                 ...   \n150  https://www.bazaraki.com/adv/5621114_2-bedroom...   \n151  https://www.bazaraki.com/adv/5397909_2-bedroom...   \n152  https://www.bazaraki.com/adv/5272205_2-bedroom...   \n153  https://www.bazaraki.com/adv/5700476_2-bedroom...   \n154  https://www.bazaraki.com/adv/5634085_2-bedroom...   \n\n                                District  CountOfRooms Floor Square  \\\n0                                    NaN           NaN   NaN    NaN   \n1                      Limassol, Ypsonas           2.0   2nd    2nd   \n2            Limassol, Limassol - Omonia           2.0   1st    1st   \n3    Limassol, Limassol - Agios Nicolaos           1.0   4th    4th   \n4     Limassol, Limassol - Agios Ioannis           1.0   4th    4th   \n..                                   ...           ...   ...    ...   \n150         Limassol, Limassol - Tsirion           1.0   1st    1st   \n151          Limassol, Limassol - Omonia           2.0   1st    1st   \n152       Limassol, Potamos Germasogeias           1.0   3rd    3rd   \n153  Limassol, Limassol - Agios Spyridon           2.0   1st    1st   \n154              Limassol, Mesa Geitonia           1.0   2nd    2nd   \n\n          Furnishing    Parking  Balcony               AC EnergyEfficiency  \\\n0                NaN        NaN    False              NaN              NaN   \n1    Full, all rooms  Uncovered     True  Full, all rooms                A   \n2    Full, all rooms    Covered     True  Full, all rooms              NaN   \n3               3105         No    False  Full, all rooms              NaN   \n4               3065         No    False  Full, all rooms                A   \n..               ...        ...      ...              ...              ...   \n150             3081    Covered     True  Full, all rooms              NaN   \n151             3048    Covered     True  Full, all rooms              NaN   \n152             4040    Covered     True  Full, all rooms              NaN   \n153  Full, all rooms    Covered     True  Full, all rooms                A   \n154  Full, all rooms  Uncovered     True  Full, all rooms                A   \n\n     DistanceToJob  DistanceToBeach  DoubleGlazedWindows  Elevator   WiFi  \\\n0            False            False                False     False  False   \n1            False            False                False      True  False   \n2            False            False                False      True  False   \n3            False            False                False     False  False   \n4            False            False                False     False  False   \n..             ...              ...                  ...       ...    ...   \n150          False            False                False      True  False   \n151          False            False                False      True  False   \n152          False            False                False      True  False   \n153          False            False                False      True  False   \n154          False            False                False      True  False   \n\n     SoundProofing  Price  price_int  \n0            False    NaN        NaN  \n1            False   1.20     1200.0  \n2            False   1.35     1350.0  \n3            False   1.35     1350.0  \n4            False   1.20     1200.0  \n..             ...    ...        ...  \n150          False   1.30     1300.0  \n151          False   1.35     1350.0  \n152          False   1.20     1200.0  \n153          False   1.40     1400.0  \n154          False   1.30     1300.0  \n\n[155 rows x 18 columns]",
      "text/html": "<div>\n<style scoped>\n    .dataframe tbody tr th:only-of-type {\n        vertical-align: middle;\n    }\n\n    .dataframe tbody tr th {\n        vertical-align: top;\n    }\n\n    .dataframe thead th {\n        text-align: right;\n    }\n</style>\n<table border=\"1\" class=\"dataframe\">\n  <thead>\n    <tr style=\"text-align: right;\">\n      <th></th>\n      <th>Link</th>\n      <th>District</th>\n      <th>CountOfRooms</th>\n      <th>Floor</th>\n      <th>Square</th>\n      <th>Furnishing</th>\n      <th>Parking</th>\n      <th>Balcony</th>\n      <th>AC</th>\n      <th>EnergyEfficiency</th>\n      <th>DistanceToJob</th>\n      <th>DistanceToBeach</th>\n      <th>DoubleGlazedWindows</th>\n      <th>Elevator</th>\n      <th>WiFi</th>\n      <th>SoundProofing</th>\n      <th>Price</th>\n      <th>price_int</th>\n    </tr>\n  </thead>\n  <tbody>\n    <tr>\n      <th>0</th>\n      <td>https://www.bazaraki.com/adv/5664359_2-bedroom...</td>\n      <td>NaN</td>\n      <td>NaN</td>\n      <td>NaN</td>\n      <td>NaN</td>\n      <td>NaN</td>\n      <td>NaN</td>\n      <td>False</td>\n      <td>NaN</td>\n      <td>NaN</td>\n      <td>False</td>\n      <td>False</td>\n      <td>False</td>\n      <td>False</td>\n      <td>False</td>\n      <td>False</td>\n      <td>NaN</td>\n      <td>NaN</td>\n    </tr>\n    <tr>\n      <th>1</th>\n      <td>https://www.bazaraki.com/adv/5593137_2-bedroom...</td>\n      <td>Limassol, Ypsonas</td>\n      <td>2.0</td>\n      <td>2nd</td>\n      <td>2nd</td>\n      <td>Full, all rooms</td>\n      <td>Uncovered</td>\n      <td>True</td>\n      <td>Full, all rooms</td>\n      <td>A</td>\n      <td>False</td>\n      <td>False</td>\n      <td>False</td>\n      <td>True</td>\n      <td>False</td>\n      <td>False</td>\n      <td>1.20</td>\n      <td>1200.0</td>\n    </tr>\n    <tr>\n      <th>2</th>\n      <td>https://www.bazaraki.com/adv/5693859_2-bedroom...</td>\n      <td>Limassol, Limassol - Omonia</td>\n      <td>2.0</td>\n      <td>1st</td>\n      <td>1st</td>\n      <td>Full, all rooms</td>\n      <td>Covered</td>\n      <td>True</td>\n      <td>Full, all rooms</td>\n      <td>NaN</td>\n      <td>False</td>\n      <td>False</td>\n      <td>False</td>\n      <td>True</td>\n      <td>False</td>\n      <td>False</td>\n      <td>1.35</td>\n      <td>1350.0</td>\n    </tr>\n    <tr>\n      <th>3</th>\n      <td>https://www.bazaraki.com/adv/5669144_2-bedroom...</td>\n      <td>Limassol, Limassol - Agios Nicolaos</td>\n      <td>1.0</td>\n      <td>4th</td>\n      <td>4th</td>\n      <td>3105</td>\n      <td>No</td>\n      <td>False</td>\n      <td>Full, all rooms</td>\n      <td>NaN</td>\n      <td>False</td>\n      <td>False</td>\n      <td>False</td>\n      <td>False</td>\n      <td>False</td>\n      <td>False</td>\n      <td>1.35</td>\n      <td>1350.0</td>\n    </tr>\n    <tr>\n      <th>4</th>\n      <td>https://www.bazaraki.com/adv/5693505_2-bedroom...</td>\n      <td>Limassol, Limassol - Agios Ioannis</td>\n      <td>1.0</td>\n      <td>4th</td>\n      <td>4th</td>\n      <td>3065</td>\n      <td>No</td>\n      <td>False</td>\n      <td>Full, all rooms</td>\n      <td>A</td>\n      <td>False</td>\n      <td>False</td>\n      <td>False</td>\n      <td>False</td>\n      <td>False</td>\n      <td>False</td>\n      <td>1.20</td>\n      <td>1200.0</td>\n    </tr>\n    <tr>\n      <th>...</th>\n      <td>...</td>\n      <td>...</td>\n      <td>...</td>\n      <td>...</td>\n      <td>...</td>\n      <td>...</td>\n      <td>...</td>\n      <td>...</td>\n      <td>...</td>\n      <td>...</td>\n      <td>...</td>\n      <td>...</td>\n      <td>...</td>\n      <td>...</td>\n      <td>...</td>\n      <td>...</td>\n      <td>...</td>\n      <td>...</td>\n    </tr>\n    <tr>\n      <th>150</th>\n      <td>https://www.bazaraki.com/adv/5621114_2-bedroom...</td>\n      <td>Limassol, Limassol - Tsirion</td>\n      <td>1.0</td>\n      <td>1st</td>\n      <td>1st</td>\n      <td>3081</td>\n      <td>Covered</td>\n      <td>True</td>\n      <td>Full, all rooms</td>\n      <td>NaN</td>\n      <td>False</td>\n      <td>False</td>\n      <td>False</td>\n      <td>True</td>\n      <td>False</td>\n      <td>False</td>\n      <td>1.30</td>\n      <td>1300.0</td>\n    </tr>\n    <tr>\n      <th>151</th>\n      <td>https://www.bazaraki.com/adv/5397909_2-bedroom...</td>\n      <td>Limassol, Limassol - Omonia</td>\n      <td>2.0</td>\n      <td>1st</td>\n      <td>1st</td>\n      <td>3048</td>\n      <td>Covered</td>\n      <td>True</td>\n      <td>Full, all rooms</td>\n      <td>NaN</td>\n      <td>False</td>\n      <td>False</td>\n      <td>False</td>\n      <td>True</td>\n      <td>False</td>\n      <td>False</td>\n      <td>1.35</td>\n      <td>1350.0</td>\n    </tr>\n    <tr>\n      <th>152</th>\n      <td>https://www.bazaraki.com/adv/5272205_2-bedroom...</td>\n      <td>Limassol, Potamos Germasogeias</td>\n      <td>1.0</td>\n      <td>3rd</td>\n      <td>3rd</td>\n      <td>4040</td>\n      <td>Covered</td>\n      <td>True</td>\n      <td>Full, all rooms</td>\n      <td>NaN</td>\n      <td>False</td>\n      <td>False</td>\n      <td>False</td>\n      <td>True</td>\n      <td>False</td>\n      <td>False</td>\n      <td>1.20</td>\n      <td>1200.0</td>\n    </tr>\n    <tr>\n      <th>153</th>\n      <td>https://www.bazaraki.com/adv/5700476_2-bedroom...</td>\n      <td>Limassol, Limassol - Agios Spyridon</td>\n      <td>2.0</td>\n      <td>1st</td>\n      <td>1st</td>\n      <td>Full, all rooms</td>\n      <td>Covered</td>\n      <td>True</td>\n      <td>Full, all rooms</td>\n      <td>A</td>\n      <td>False</td>\n      <td>False</td>\n      <td>False</td>\n      <td>True</td>\n      <td>False</td>\n      <td>False</td>\n      <td>1.40</td>\n      <td>1400.0</td>\n    </tr>\n    <tr>\n      <th>154</th>\n      <td>https://www.bazaraki.com/adv/5634085_2-bedroom...</td>\n      <td>Limassol, Mesa Geitonia</td>\n      <td>1.0</td>\n      <td>2nd</td>\n      <td>2nd</td>\n      <td>Full, all rooms</td>\n      <td>Uncovered</td>\n      <td>True</td>\n      <td>Full, all rooms</td>\n      <td>A</td>\n      <td>False</td>\n      <td>False</td>\n      <td>False</td>\n      <td>True</td>\n      <td>False</td>\n      <td>False</td>\n      <td>1.30</td>\n      <td>1300.0</td>\n    </tr>\n  </tbody>\n</table>\n<p>155 rows × 18 columns</p>\n</div>"
     },
     "execution_count": 4,
     "metadata": {},
     "output_type": "execute_result"
    }
   ],
   "source": [
    "prices_df"
   ],
   "metadata": {
    "collapsed": false,
    "ExecuteTime": {
     "end_time": "2025-03-29T16:46:05.745344Z",
     "start_time": "2025-03-29T16:46:05.731850Z"
    }
   },
   "id": "95df53280a98356c",
   "execution_count": 4
  },
  {
   "cell_type": "code",
   "outputs": [],
   "source": [],
   "metadata": {
    "collapsed": false,
    "ExecuteTime": {
     "end_time": "2025-03-29T16:40:58.855512Z",
     "start_time": "2025-03-29T16:40:58.853486Z"
    }
   },
   "id": "91f2a05fa4430bd4",
   "execution_count": 0
  },
  {
   "cell_type": "code",
   "outputs": [],
   "source": [],
   "metadata": {
    "collapsed": false,
    "ExecuteTime": {
     "end_time": "2025-03-29T16:40:59.006808Z",
     "start_time": "2025-03-29T16:40:59.003879Z"
    }
   },
   "id": "44c9606cb9748b4f",
   "execution_count": 0
  },
  {
   "cell_type": "code",
   "outputs": [],
   "source": [],
   "metadata": {
    "collapsed": false
   },
   "id": "e2a18b533f205071"
  }
 ],
 "metadata": {
  "kernelspec": {
   "display_name": "Python 3",
   "language": "python",
   "name": "python3"
  },
  "language_info": {
   "codemirror_mode": {
    "name": "ipython",
    "version": 2
   },
   "file_extension": ".py",
   "mimetype": "text/x-python",
   "name": "python",
   "nbconvert_exporter": "python",
   "pygments_lexer": "ipython2",
   "version": "2.7.6"
  }
 },
 "nbformat": 4,
 "nbformat_minor": 5
}
