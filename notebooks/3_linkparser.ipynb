{
 "cells": [
  {
   "cell_type": "markdown",
   "source": [
    "# Task"
   ],
   "metadata": {
    "collapsed": false
   },
   "id": "e30f34e26a416ec2"
  },
  {
   "cell_type": "code",
   "outputs": [],
   "source": [
    "# 2.10 - parse available link"
   ],
   "metadata": {
    "collapsed": false,
    "ExecuteTime": {
     "end_time": "2025-10-01T22:00:54.667355Z",
     "start_time": "2025-10-01T22:00:54.657264Z"
    }
   },
   "id": "a93cd45cede3f3c1",
   "execution_count": 1
  },
  {
   "cell_type": "markdown",
   "source": [
    "# Import"
   ],
   "metadata": {
    "collapsed": false
   },
   "id": "a4e19653d337ebe2"
  },
  {
   "cell_type": "code",
   "outputs": [],
   "source": [
    "import requests\n",
    "import re\n",
    "from bs4 import BeautifulSoup\n",
    "import pandas as pd\n",
    "from tqdm import tqdm\n",
    "import time\n",
    "import warnings\n",
    "warnings.filterwarnings('ignore')"
   ],
   "metadata": {
    "collapsed": false,
    "ExecuteTime": {
     "end_time": "2025-10-01T22:01:15.648665Z",
     "start_time": "2025-10-01T22:01:11.143089Z"
    }
   },
   "id": "d3a339b22bf93d35",
   "execution_count": 2
  },
  {
   "cell_type": "markdown",
   "source": [
    "# Load"
   ],
   "metadata": {
    "collapsed": false
   },
   "id": "235ea71e05788240"
  },
  {
   "cell_type": "code",
   "outputs": [],
   "source": [
    "url_pattern = f'https://www.bazaraki.com/real-estate-to-rent/apartments-flats/?page=1&lat=34.81405406013075&lng=33.009986249719596&radius=100000'"
   ],
   "metadata": {
    "collapsed": false,
    "ExecuteTime": {
     "end_time": "2025-10-01T22:02:56.777369Z",
     "start_time": "2025-10-01T22:02:56.767210Z"
    }
   },
   "id": "7f816d39d9c9de1b",
   "execution_count": 7
  },
  {
   "cell_type": "code",
   "outputs": [],
   "source": [
    "headers = {'User-Agent': 'Mozilla/5.0'}"
   ],
   "metadata": {
    "collapsed": false,
    "ExecuteTime": {
     "end_time": "2025-10-01T22:02:45.569154Z",
     "start_time": "2025-10-01T22:02:45.558269Z"
    }
   },
   "id": "9672eff303993140",
   "execution_count": 5
  },
  {
   "cell_type": "code",
   "outputs": [],
   "source": [
    "response = requests.get(url_pattern, headers=headers)"
   ],
   "metadata": {
    "collapsed": false,
    "ExecuteTime": {
     "end_time": "2025-10-01T22:03:00.689732Z",
     "start_time": "2025-10-01T22:03:00.545922Z"
    }
   },
   "id": "7dbf404fadd63b6e",
   "execution_count": 8
  },
  {
   "cell_type": "code",
   "outputs": [],
   "source": [
    "res_txt = response.text"
   ],
   "metadata": {
    "collapsed": false,
    "ExecuteTime": {
     "end_time": "2025-10-01T22:03:18.211951Z",
     "start_time": "2025-10-01T22:03:18.201278Z"
    }
   },
   "id": "31f30c8687a68188",
   "execution_count": 9
  },
  {
   "cell_type": "code",
   "outputs": [
    {
     "data": {
      "text/plain": "'<!DOCTYPE html><html lang=\"en-US\"><head><title>Just a moment...</title><meta http-equiv=\"Content-Type\" content=\"text/html; charset=UTF-8\"><meta http-equiv=\"X-UA-Compatible\" content=\"IE=Edge\"><meta name=\"robots\" content=\"noindex,nofollow\"><meta name=\"viewport\" content=\"width=device-width,initial-scale=1\"><style>*{box-sizing:border-box;margin:0;padding:0}html{line-height:1.15;-webkit-text-size-adjust:100%;color:#313131;font-family:system-ui,-apple-system,BlinkMacSystemFont,\"Segoe UI\",Roboto,\"Helvetica Neue\",Arial,\"Noto Sans\",sans-serif,\"Apple Color Emoji\",\"Segoe UI Emoji\",\"Segoe UI Symbol\",\"Noto Color Emoji\"}body{display:flex;flex-direction:column;height:100vh;min-height:100vh}.main-content{margin:8rem auto;padding-left:1.5rem;max-width:60rem}@media (width <= 720px){.main-content{margin-top:4rem}}.h2{line-height:2.25rem;font-size:1.5rem;font-weight:500}@media (width <= 720px){.h2{line-height:1.5rem;font-size:1.25rem}}#challenge-error-text{background-image:url(\"data:image/svg+xml;base64,PHN2ZyB4bWxucz0iaHR0cDovL3d3dy53My5vcmcvMjAwMC9zdmciIHdpZHRoPSIzMiIgaGVpZ2h0PSIzMiIgZmlsbD0ibm9uZSI+PHBhdGggZmlsbD0iI0IyMEYwMyIgZD0iTTE2IDNhMTMgMTMgMCAxIDAgMTMgMTNBMTMuMDE1IDEzLjAxNSAwIDAgMCAxNiAzbTAgMjRhMTEgMTEgMCAxIDEgMTEtMTEgMTEuMDEgMTEuMDEgMCAwIDEtMTEgMTEiLz48cGF0aCBmaWxsPSIjQjIwRjAzIiBkPSJNMTcuMDM4IDE4LjYxNUgxNC44N0wxNC41NjMgOS41aDIuNzgzem0tMS4wODQgMS40MjdxLjY2IDAgMS4wNTcuMzg4LjQwNy4zODkuNDA3Ljk5NCAwIC41OTYtLjQwNy45ODQtLjM5Ny4zOS0xLjA1Ny4zODktLjY1IDAtMS4wNTYtLjM4OS0uMzk4LS4zODktLjM5OC0uOTg0IDAtLjU5Ny4zOTgtLjk4NS40MDYtLjM5NyAxLjA1Ni0uMzk3Ii8+PC9zdmc+\");background-repeat:no-repeat;background-size:contain;padding-left:34px}@media (prefers-color-scheme: dark){body{background-color:#222;color:#d9d9d9}}</style><meta http-equiv=\"refresh\" content=\"360\"></head><body><div class=\"main-wrapper\" role=\"main\"><div class=\"main-content\"><noscript><div class=\"h2\"><span id=\"challenge-error-text\">Enable JavaScript and cookies to continue</span></div></noscript></div></div><script>(function(){window._cf_chl_opt = {cvId: \\'3\\',cZone: \\'www.bazaraki.com\\',cType: \\'managed\\',cRay: \\'987f3f622971d628\\',cH: \\'BtihNhVt19gTWA9qFSKTdPyS1ckGx1owX7UiA6MK7U8-1759356180-1.2.1.1-R_Z8pKiYBPW7ByDUzbJgojoIvq_zZRd5drWqCPPjk_1ozfJt9hj9Dy3aH7zpZz8m\\',cUPMDTk:\"\\\\/real-estate-to-rent\\\\/apartments-flats\\\\/?page=1&lat=34.81405406013075&lng=33.009986249719596&radius=100000&__cf_chl_tk=N2AsLsvdGnAdxsjae0P40Jd3.tyHYFeT15MX3dSJ.SI-1759356180-1.0.1.1-fAMLCAPIit9Dn59HvoUTxcT9eK49vqyWt7qu7Jwd9as\",cFPWv: \\'g\\',cITimeS: \\'1759356180\\',cTplC:0,cTplV:5,cTplB: \\'cf\\',fa:\"\\\\/real-estate-to-rent\\\\/apartments-flats\\\\/?page=1&lat=34.81405406013075&lng=33.009986249719596&radius=100000&__cf_chl_f_tk=N2AsLsvdGnAdxsjae0P40Jd3.tyHYFeT15MX3dSJ.SI-1759356180-1.0.1.1-fAMLCAPIit9Dn59HvoUTxcT9eK49vqyWt7qu7Jwd9as\",md: \\'iHRq3h9kivgGJWhiaeb2ycnc.AQKsgnJBhIU_bOfoPo-1759356180-1.2.1.1-JiUeFRbFf8AJW4wgB5xgEG7Y87Yy3tM1DU8XbPSnMFMcSvH5coeFaTZIH6aUIP5NAsol3.jjRnVfOAQgV.Qwfoht6ffUHRKevT3ZEiTCyGG5BU7c93Cn4cy98hzNwqP_8kqBYd9cApIalgJDveSxuFIBt8WY.m_eUBDf1tov5ia6qZqUupcCusUcRn66aMcb5kThzPfVFPoVqgp1fJlVfYjvnYYJR9_.9H92vYMU8TfePvk1nPu7GFTc6CqkPvtqtTT_Sd1nSRGo4Mj_QDMrO2y4c9wmYDMxzh81YsGJkM9MTujNLSe6hQFP3vdpybxOpSJ2FNq9O2C4LgPjnzFh5.eelfgvPueaa8vtgPrAYU1ugDCAoYiHNYv8MxXEzkTLS0halbo8t0t9r1FQd.z9ihu58OWah6hTQX_TKG1tFZ3.njnaBmvjjGycf9bd5mbcj7Y5KyLQqn6oCen05dYiJq1sPL7.p7xr2Ae8AvhRDerLX1TCQC34uFAOCQVZQGqM0TS_OAX.YneynvMZme.SZPt3I9llsgMgMRN.K8LjXUmxgS8K8VgHU19l3zCiPD9XrNfVPf6EVcSMc1E8rJX2_OvB_OVJrvro3A9qyHMPKS5ZS70_CfcZRO1mX8uEtYccMUfC47MfYwliPxNsl326FjdgoUgPDu6PkFzArRK_LyN8.MY2UY9jloxBEV9_Kczj3fGzN2kQ7OMGUloOkaUt5tvglhV3uKLTpizGlJSyx0VqguFOdxsvesrNlnSQgW_JxWga_4rVLdNAzxEhbp.EwZ8enPpFcLTNlpelLvqsLFxc0qdNDbfjzsNuymkqO4GnCMpnVXlvu9Hy0DF5OsaK_JrisNH4QUrZzAqJA2qRgMpZbTOHGbAFoN7Sl__mK.9RS.BUOB2aAcriWxVdXDTJeArywB__Dem5JCg045pFiNHrmILU6UHOnq1ZIbAqxHR_lSKob2v8F2TU2ykIjNB6fqVGqMO4pIADFL_nmyb7.ntyAuoloDgqji4Kov2f2X_4h7y9O2IiELmhS8Gc0nyH7XEBxR9Mu1sBsy8IAp23FAsFlbAhwRTWp.Bhzltyug4ffd0qan.2JOsjd7YqEP65fQ\\',mdrd: \\'cle1C3SE.JTfMpkDChzoLO9vqvYiSauuhSzJqwYMvEI-1759356180-1.2.1.1-Td6EmxwxEGd68HzOdVS8p3xszvGftOOfNHec1SiJ1KqpYvVUOQCotY7IpRKs3scjiBiLgdi5iN5LgOJjqQpXDKpOdhhthxgxbuya0CLVHP1iC2lRapt6YCIUkxRWOJKOIOi.v1MdWqXHCasnkkNtWho6AEG8W5CiiFGGaC3QJnbWnm1RDim23MP6N3fu8HK2Z00FdqBiIBl6xEv_.hHES3Aw_O0rP5mheIZm18M0YZ3AW_KxadG8hGT_nn8RELanjJeuTVuap2f_ZVeOoSM1WvJv3ug3XCtSFmkUJBONjJ_sSAtb4B.0WZVLhQ7JRf8BITSAkL7HkYbcBZNesSnITk4D5eejt1cT6fc.c20jjgeARU49Ho.aeHQTRV9xK.LYN_dl0Jd6WPCDedY7BNdyUhz9noqrM5kBkw0jC8xbCaUmQ8jDUCJpXuq0p50ee.iHYWS5SEZgMyXSwvhUpzaRHIEn4hBig_AbgxNdymriZHYAgBjRxfiebdBvrOklGyo5BpPUJxJsLfVEU3IWzcUdItpzyoU4JU6ft4ofaD2j6IbeS7OA.momaOVGfx7hhxOlnMZjSsyTpb2Fh93eLAm_zvsAvpKT2RhvmyNrTNMWnBMyQTEjROyuWW_Yc6C9qBHztPmTpNsRj98eLQitRiINEbDoGYpFX_cycZrZT54vDYMBy5xF1Ve1CXuGXcKsKYpMOg0Z.oSbCZ8qfK1sbz2jwMfzch_niG_CSca.HckUiY0r1nTZ1_tk15NNK7R0uLqV_MTGBPO5FCBH40B3rX7EsdY8WAvWyMfIHyAK.4_gNHCee.S5nefte0mTIdn8tsLLHnzSmlMya9BFz2yziG85cUNztwufUkD6LzCOshNIBNElqFRj3y4SoDbMRZP9a_g4JMHJpeSeA0vxVcXlg6PFYFfKcSOyE_e5s9KTAURmaMMIBOHItf88Iyu_is4rK5bVxJtVBGu_AARVVIXZjIMadBdHyHntZssj.kg9QudnrdRBLEYfmtwI_a.PDSiKN5AOUkgNhVTRPI.oMRFqmJip4nddUeknFEkxigLO6xhYaLbCMwPub3LSzMukppeyTh24xYQ1ZlnaF3KKtP5BxczRqKDcHKdEELZBlhUqBTsTug0pq.8j9SqGhcqAjQTIOYw7qA.EY89Hylsra220rv6Twz9gCC7EcQlibw5UlfJxlKP8Vmp0esEwPtdRh.HY_gEqDgZwI4MEng8uW7HMuevq1Y_i2m9bFFvy4y55lOL37M2seN2bTuZtuagGHYu0aJQ6_UMHHZ_bzgAP3ooyyFmtsbvX9RiD9KeCNr1PyUxwlU.U3.9M0MTguRXUso03ExHWUW_wkMxK8A7e4IQroPp.jqB8gIo9wMDxkdsddlviMjF5fJvcCsCq3pzP9YTZbaFpyhKyVTqSn8F9XRQXPCS37yDhyUi6UZMa.Ru7wUgbqOeV43z6M7Qn2fp.cyVPJ8wejxB7Oh0evdnMPwik8KxxbFxfPcvxjWHl.o0h3ZixNcu6FHm43_gWeK_bBfVuTmZO4xiFPoA.hPUvF6nAgwl3oXGqE.Ow7CcH_PmMwN.genxLxwrZ6Vt3D7APncXfvkzj_y7Knbhz7k5WTidiQzRP6seXYh0r0v4yzB8u4MD77SW2AkjacEVX4bPKyAbroygMiaGUavue1Q536TMdfSjErB2la_JitbDrnVQznu.jrK0ZCDd85aUdwyWqutU4t0xfqKYSNqCEPGmfVO9nObLxQnkpVHMlAh2i5CFh9ykUE6eiu_ufg48lW2F6Q6k6bk28B9d4cP4XJnwIKkRgwCYG5uQ_GpmWmTSwTNk06snJi6.Fmodpy5Gs9WvqF9aX5HlwNukTC_rR4SgLo8GhheDM9WmnP2sWODmJwuJPhxne8CEK2i33Lg9.yJ1f0pjmJ1CuWueA.Kj9F1oGE_7d31vys05IJ3JsbkqhtKA.TnuDbiYr7gTPxr3onY3JePNzwmLZ6KFiTfryH7RoF2yzNgY2FBoewkZyB45FyxfPlJ.06HtqkoV3eO1qCUbH.rVS7bWPpx5bfeI5uYm716V9.O8sD9ursdga_YAg7oFiyiMY2DVQXvG7IxlR55V1yjPLv_rQexe_LIpgHaWWIsn5erCYaY1gKIo_An1V_70TPNlx1ht3ctEfXnMC75pl1rk_qWe.2HnWuQhVOEs.EhgB30f1uR5av_QIV8rsYZv8SMSsSO59.m4K6I3okHiLX9na_rjSbiKwIPdbVzn8LZjSrIAjD0Vg0zzXw_elShMjr6yynIJJDMUeU.C9PcREcCqiH0u7SiEQ5Lzro89M3PpauUdd1uGiJswb4aBtH3PHU3OqR8.1PidZvqPQML_MxSIdOckMuXoWGPCzsEBKHEiZY_XPdg\\',};var a = document.createElement(\\'script\\');a.src = \\'/cdn-cgi/challenge-platform/h/g/orchestrate/chl_page/v1?ray=987f3f622971d628\\';window._cf_chl_opt.cOgUHash = location.hash === \\'\\' && location.href.indexOf(\\'#\\') !== -1 ? \\'#\\' : location.hash;window._cf_chl_opt.cOgUQuery = location.search === \\'\\' && location.href.slice(0, location.href.length - window._cf_chl_opt.cOgUHash.length).indexOf(\\'?\\') !== -1 ? \\'?\\' : location.search;if (window.history && window.history.replaceState) {var ogU = location.pathname + window._cf_chl_opt.cOgUQuery + window._cf_chl_opt.cOgUHash;history.replaceState(null, null,\"\\\\/real-estate-to-rent\\\\/apartments-flats\\\\/?page=1&lat=34.81405406013075&lng=33.009986249719596&radius=100000&__cf_chl_rt_tk=N2AsLsvdGnAdxsjae0P40Jd3.tyHYFeT15MX3dSJ.SI-1759356180-1.0.1.1-fAMLCAPIit9Dn59HvoUTxcT9eK49vqyWt7qu7Jwd9as\"+ window._cf_chl_opt.cOgUHash);a.onload = function() {history.replaceState(null, null, ogU);}}document.getElementsByTagName(\\'head\\')[0].appendChild(a);}());</script></body></html>'"
     },
     "execution_count": 10,
     "metadata": {},
     "output_type": "execute_result"
    }
   ],
   "source": [
    "res_txt  # ok, так не пройдет"
   ],
   "metadata": {
    "collapsed": false,
    "ExecuteTime": {
     "end_time": "2025-10-01T22:03:25.172798Z",
     "start_time": "2025-10-01T22:03:25.153579Z"
    }
   },
   "id": "d534bb96887ba441",
   "execution_count": 10
  },
  {
   "cell_type": "code",
   "outputs": [],
   "source": [
    "playwright codegen https://portal-da.ru/objects/catalog/buy/section\n"
   ],
   "metadata": {
    "collapsed": false,
    "ExecuteTime": {
     "end_time": "2025-10-01T22:02:51.561168Z",
     "start_time": "2025-10-01T22:02:51.559203Z"
    }
   },
   "id": "f802c7f0fa32f7a4",
   "execution_count": 6
  },
  {
   "cell_type": "code",
   "outputs": [],
   "source": [
    "import re\n",
    "from playwright.sync_api import Playwright, sync_playwright, expect\n",
    "\n",
    "\n",
    "def run(playwright: Playwright) -> None:\n",
    "    browser = playwright.chromium.launch(headless=False)\n",
    "    context = browser.new_context()\n",
    "    page = context.new_page()\n",
    "    page.goto(\"https://www.bazaraki.com/real-estate-to-rent/apartments-flats/\")\n",
    "    page.get_by_role(\"button\", name=\"Согласиться\").click()\n",
    "    page.locator(\"[id=\\\"5919549\\\"]\").get_by_role(\"link\").filter(has_text=re.compile(r\"^$\")).click()\n",
    "\n",
    "    # ---------------------\n",
    "    context.close()\n",
    "    browser.close()\n",
    "\n",
    "\n",
    "with sync_playwright() as playwright:\n",
    "    run(playwright)\n"
   ],
   "metadata": {
    "collapsed": false
   },
   "id": "3d54d1ef2acede32"
  },
  {
   "cell_type": "code",
   "outputs": [],
   "source": [
    "import re\n",
    "from playwright.sync_api import Playwright, sync_playwright, expect\n",
    "\n",
    "\n",
    "def run(playwright: Playwright) -> None:\n",
    "    browser = playwright.chromium.launch(headless=False)\n",
    "    context = browser.new_context()\n",
    "    page = context.new_page()\n",
    "    page.goto(\"https://www.bazaraki.com/real-estate-to-rent/apartments-flats/\")\n",
    "    page.get_by_role(\"button\", name=\"Согласиться\").click()\n",
    "    page.locator(\"[id=\\\"5974812\\\"]\").get_by_role(\"link\").filter(has_text=re.compile(r\"^$\")).click()\n",
    "\n",
    "    # ---------------------\n",
    "    context.close()\n",
    "    browser.close()\n",
    "\n",
    "\n",
    "with sync_playwright() as playwright:\n",
    "    run(playwright)\n"
   ],
   "metadata": {
    "collapsed": false
   },
   "id": "9ca20008652244c7"
  },
  {
   "cell_type": "code",
   "outputs": [],
   "source": [],
   "metadata": {
    "collapsed": false
   },
   "id": "90f38f9dbe9db16f"
  }
 ],
 "metadata": {
  "kernelspec": {
   "display_name": "Python 3",
   "language": "python",
   "name": "python3"
  },
  "language_info": {
   "codemirror_mode": {
    "name": "ipython",
    "version": 2
   },
   "file_extension": ".py",
   "mimetype": "text/x-python",
   "name": "python",
   "nbconvert_exporter": "python",
   "pygments_lexer": "ipython2",
   "version": "2.7.6"
  }
 },
 "nbformat": 4,
 "nbformat_minor": 5
}
