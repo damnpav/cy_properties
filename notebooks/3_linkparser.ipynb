{
 "cells": [
  {
   "cell_type": "markdown",
   "source": [
    "# Task"
   ],
   "metadata": {
    "collapsed": false
   },
   "id": "e30f34e26a416ec2"
  },
  {
   "cell_type": "code",
   "outputs": [],
   "source": [
    "# 2.10 - parse available link"
   ],
   "metadata": {
    "collapsed": false,
    "ExecuteTime": {
     "end_time": "2025-10-01T22:00:54.667355Z",
     "start_time": "2025-10-01T22:00:54.657264Z"
    }
   },
   "id": "a93cd45cede3f3c1",
   "execution_count": 1
  },
  {
   "cell_type": "markdown",
   "source": [
    "# Import"
   ],
   "metadata": {
    "collapsed": false
   },
   "id": "a4e19653d337ebe2"
  },
  {
   "cell_type": "code",
   "outputs": [],
   "source": [
    "import requests\n",
    "import re\n",
    "from bs4 import BeautifulSoup\n",
    "import pandas as pd\n",
    "from tqdm import tqdm\n",
    "import time\n",
    "import warnings\n",
    "warnings.filterwarnings('ignore')"
   ],
   "metadata": {
    "collapsed": false,
    "ExecuteTime": {
     "end_time": "2025-10-04T20:48:35.268504Z",
     "start_time": "2025-10-04T20:48:34.301629Z"
    }
   },
   "id": "d3a339b22bf93d35",
   "execution_count": 1
  },
  {
   "cell_type": "markdown",
   "source": [
    "# Load"
   ],
   "metadata": {
    "collapsed": false
   },
   "id": "235ea71e05788240"
  },
  {
   "cell_type": "code",
   "outputs": [],
   "source": [
    "url = 'https://www.bazaraki.com/ajax-items-list/?page=1&c=5270&rubric=3529'"
   ],
   "metadata": {
    "collapsed": false,
    "ExecuteTime": {
     "end_time": "2025-10-03T21:57:34.296686Z",
     "start_time": "2025-10-03T21:57:34.290309Z"
    }
   },
   "id": "5d77aac7907f0856",
   "execution_count": 2
  },
  {
   "cell_type": "code",
   "outputs": [],
   "source": [
    "response = requests.get(url, headers=headers)"
   ],
   "metadata": {
    "collapsed": false,
    "ExecuteTime": {
     "end_time": "2025-10-03T21:57:44.909561Z",
     "start_time": "2025-10-03T21:57:44.811146Z"
    }
   },
   "id": "ae42a9de26910274",
   "execution_count": 4
  },
  {
   "cell_type": "code",
   "outputs": [
    {
     "data": {
      "text/plain": "'<!DOCTYPE html><html lang=\"en-US\"><head><title>Just a moment...</title><meta http-equiv=\"Content-Type\" content=\"text/html; charset=UTF-8\"><meta http-equiv=\"X-UA-Compatible\" content=\"IE=Edge\"><meta name=\"robots\" content=\"noindex,nofollow\"><meta name=\"viewport\" content=\"width=device-width,initial-scale=1\"><style>*{box-sizing:border-box;margin:0;padding:0}html{line-height:1.15;-webkit-text-size-adjust:100%;color:#313131;font-family:system-ui,-apple-system,BlinkMacSystemFont,\"Segoe UI\",Roboto,\"Helvetica Neue\",Arial,\"Noto Sans\",sans-serif,\"Apple Color Emoji\",\"Segoe UI Emoji\",\"Segoe UI Symbol\",\"Noto Color Emoji\"}body{display:flex;flex-direction:column;height:100vh;min-height:100vh}.main-content{margin:8rem auto;padding-left:1.5rem;max-width:60rem}@media (width <= 720px){.main-content{margin-top:4rem}}.h2{line-height:2.25rem;font-size:1.5rem;font-weight:500}@media (width <= 720px){.h2{line-height:1.5rem;font-size:1.25rem}}#challenge-error-text{background-image:url(\"data:image/svg+xml;base64,PHN2ZyB4bWxucz0iaHR0cDovL3d3dy53My5vcmcvMjAwMC9zdmciIHdpZHRoPSIzMiIgaGVpZ2h0PSIzMiIgZmlsbD0ibm9uZSI+PHBhdGggZmlsbD0iI0IyMEYwMyIgZD0iTTE2IDNhMTMgMTMgMCAxIDAgMTMgMTNBMTMuMDE1IDEzLjAxNSAwIDAgMCAxNiAzbTAgMjRhMTEgMTEgMCAxIDEgMTEtMTEgMTEuMDEgMTEuMDEgMCAwIDEtMTEgMTEiLz48cGF0aCBmaWxsPSIjQjIwRjAzIiBkPSJNMTcuMDM4IDE4LjYxNUgxNC44N0wxNC41NjMgOS41aDIuNzgzem0tMS4wODQgMS40MjdxLjY2IDAgMS4wNTcuMzg4LjQwNy4zODkuNDA3Ljk5NCAwIC41OTYtLjQwNy45ODQtLjM5Ny4zOS0xLjA1Ny4zODktLjY1IDAtMS4wNTYtLjM4OS0uMzk4LS4zODktLjM5OC0uOTg0IDAtLjU5Ny4zOTgtLjk4NS40MDYtLjM5NyAxLjA1Ni0uMzk3Ii8+PC9zdmc+\");background-repeat:no-repeat;background-size:contain;padding-left:34px}@media (prefers-color-scheme: dark){body{background-color:#222;color:#d9d9d9}}</style><meta http-equiv=\"refresh\" content=\"360\"></head><body><div class=\"main-wrapper\" role=\"main\"><div class=\"main-content\"><noscript><div class=\"h2\"><span id=\"challenge-error-text\">Enable JavaScript and cookies to continue</span></div></noscript></div></div><script>(function(){window._cf_chl_opt = {cvId: \\'3\\',cZone: \\'www.bazaraki.com\\',cType: \\'managed\\',cRay: \\'988fb26bfaccd628\\',cH: \\'Ri23rKQLeRCaMRmDlkd_YS35FqU.KQ89E2OagzlBzpU-1759528664-1.2.1.1-elGDnEA8gVRWg9D8dZwntGeX7hYNPJGdJz8ERcILRlwKa1Nvvw_Arx03bvnxLEzU\\',cUPMDTk:\"\\\\/ajax-items-list\\\\/?page=1&c=5270&rubric=3529&__cf_chl_tk=7XRUj9L0C4.7c9xvs_7EIM1pWTINJP1hjLGpx7ytTWM-1759528664-1.0.1.1-SJFIoqo.1HfU38dpQs9LITn1fmhU_OJCRBVbe3LOtJ4\",cFPWv: \\'b\\',cITimeS: \\'1759528664\\',cTplC:0,cTplV:5,cTplB: \\'cf\\',fa:\"\\\\/ajax-items-list\\\\/?page=1&c=5270&rubric=3529&__cf_chl_f_tk=7XRUj9L0C4.7c9xvs_7EIM1pWTINJP1hjLGpx7ytTWM-1759528664-1.0.1.1-SJFIoqo.1HfU38dpQs9LITn1fmhU_OJCRBVbe3LOtJ4\",md: \\'BbjT3QDP4iTxGpWZrnkbcWazwSsYxG0ngLODclrHUWA-1759528664-1.2.1.1-5WroYkij27ZA9lsmHO45juoVi7lZZLnw.5KoYGnpdMTbI3BPhh4FAkxGdEQTAvWTal2sYIguHqANn9tVDkc8BXDcDr1T1L4SD_sfmU..P.aW1Q8KGFAbbpj7452p4pMuEHDV1AwgLo9Dt7hFhNQQrGWMA9U5Up0en7Z4jWPwKmSJe85_1maG97mvikox5v9r8naJsKVKpzMDAl7ymKHPNA7AecGjjZ3o81zgltJLOUwjISPVDeQieS0OJv56XOLKPjSqflwbH1Uv6d2hGR9FxQkmilLDZCxEU2zW1eYLyZ6Os9rHiUuLe7yNK9eZqmSiFHscAkFxBFpTFRfU3p6kKlhPoZxL1lOj6PGVaepra2nA5EF1AW6LUvAYh1bXqrha2JxHH7vOMMRFXWYWtGFV1gSObeE0pGjZdTR48TAU6kARVBXJYKCCRZ8vK6ZUJx7L5GI7W0aMWodsTRkZeoe7gsK48.dRtTuSKgQeXUlWCbxxEfqa44GUsajb68uNn9N8scu_tMYQJQ1yT72raBlfUG1nIOwbrY3FrgqjLt_zmjsrDRIDIbLYOmPHsgi9Ir_c6AtCBvHIT2E9ZI8BLRD1InWk5Ak.4RvaCtz4QWMGN1P4CUZevQ72VxP5GTzfhxDg5p3zKratqwQIXbep8G3YtJ_X4uwVm3Q9Ms2xdNrazjUhxZyEP1M9cMjzUWgOcXz7r2BznpxVt4iaqfXJD1_p1.EGdvxhnR9w8HWlb70AiltEMt_xBCpylvSAefpDeNiQRtn2lCJG.D38.vQAVBx1p.VI.gkVEClq9omPyGGGQ8d1dleMFRlFlP3YbeHv9hyzjhKKv99lzIbyAk_.r.Sw0gwk4onPijAXWAOA9sDximOPjODu_yKgS1TKffPZp2iQKTGf6HyU3DeFMRpQ7wYKDJOTutZ23S6yfH7YISzV1EbV1bSnhyOt.O.86Ew5uEFNvIdMybCTewyvcOQ1eO_zDm5x4JtjFXpB5YfqSpiYU7STKNaRWb6frpDtOCVvkQ2syj.t3AFe7iVPOCPTik_AzA\\',mdrd: \\'Gk13zWrLoa4uBVJs33OqVA8Qlq8uM9fZLFdw.dsNqhE-1759528664-1.2.1.1-hVXciXQ4QAtiwtS3uc5igURFSry5xNW0Fe.75Y5CI4DT8u2Y7XXQEpHKGfT7ms4Y9c6DmbsK695OfZQ3enr12FUaMJ5w0U0AvEsBRggmfJYmNbwMtfYVCuA2EX8b.8tXw9eRpLRSV6z0Rq94uI8DGwHJgsZF3K9rXGDVpuIK62kJmJ_Mj5I12yNcL8ALUJLYA0QA7PxFYLJKMzVNvlT9JU316itnZhUP0OtIk2_drLguXYpzt_oos2sO6Ljh_vfxKHUW34GjUuv64D5M92NFQaBbtGcLmj42_O9E_5EbMOrxs1bbaLbv34vEERsj18AKb5wpAFbyFZG_SRG2MvncY5H11nh3KeweazHlP_O8Dc6UzlezRC_KXmIv53PENX8hCQzKhypyRF6uP6oFp5WRaGZsyRnm5QGEAzO1y8Of6r5Qu2eysKBCbzLsTxAAs9HcGXtpQICAYOWVeS0zoCeoe2gW1sB5AK1pvmXgapRSTwqqUp5yMEMAhOeRC_DXdwvDnmeX9HGswGv2nOPlNSZN.Js3PIPj6.9IlkSJ_X83WO9ZhOaC05m43Y22LxU3jc3xwirpL.Aj2XJwVsZheAp1WVawJdTic68vf2HYZ1m9q9HmFWa7sQaWNZM6bsqkItk_HvSBeG4AZK5ehz7i0vvt23aYDPMV_K.ZVtSD3Zu1_BHCQZ2qX.J_evlDq.eemgyZtyMxlYwlQsxZDOMos8PNwTlCgZzQelyjFKJ3lBH5CfX6.0FsQZZgSgh0VBA1CgKkejsMNR_sH34el0jKWPMqsWs3O_N3AgDo8cvl2M_DgDHOwdlYxc27AhHvdaKzAauWWPbW.y_tDu2naI55Q8.Y_Td0eBTZ770PIbYmShUIRK6CmQz6vPUhfrrlAjpedKHYgqoeNriCiojlxuJOq91z1unJECLp1CXHJ9DUSRrzlJJhYGsPfWhIpbU_gCGNZ05QLuhDXK7LhhcAKZcXV9EygRqWoOFIom6toqqopb0ajK8xIuAhLWH79_xug6tjanY6YSre.IGuunbb6qC9jVXbl_HD5tM8ACPD5pYXqBzDdVcvAGCwyRalfYJCuoBku850ddJCRjxzDC6tMvBmoWOY5uOwjnTqeggrmMssSIBl_nunA1nisR2CTi_oVjWeTRhA_Q3CXQlTEjqU0YApchLWmQ79aMBhS1CWAlRZgo0mF5U8JkYo4j_WqSCLcvA.9G5BG_lm1j7nfFHovhzLcIZZ.C.PTGn0TIinTdNNSP7qISVpknA7uAvNNgjglbr9dZsg1kLZvmDwmFZAXTQQQNAo1pqGv1nCKkBcYbqPYKvOftv5pMfuWOlOtn5N9zHba7h2qeAHTfu0iMzdlZhcpoSK8JZuu3urZ.2S1.9X7N1f_VIAxKcxqvXzs8kuLumfiIzDqSC_E_6UQXMrhU.DFvSJHbYVGFrlJ5F01m3QGffKHtpc40jZsjTQ4avEHqdkQVjFkPjyzGXABWUHhgWsM.1LmiKO_RBj0Tu1lgM6E2_jTA7ucwEbeNbT1Vm8D4_HOfrO7T8XcINXADQ1l8tMr5Ioqj2.sJJp2nNczfPlIEit4mwMVbFuxYXeiKUW3CNzVhRmBCw_pqR546LGf22O.6iiT87F_GrHTPg7BOvHZ145aDP4V5hxH2GJ3tR7sjzM7DAl2NbbqUbuG90MiEWFbNC2OUMmye4JRAPfgZ87suonIv1W0mxHKywO2PVE0OKldsYQP9gUb9IxZQWSK.m3.zPLglZReADPKA8N9e6qYfJtTzExOjSciElj4T.p19DJwU7k45FpxlHED3gg8xoRYirAxXgcnvctLGvS06_oRyk1FZJKjRwRTKTJqBsJWQz2QzT4NNYTiUve0sFgp0v0Q8fDIdbnvboSKrOlq.JKomMgen2FlPTT8WS4F15ikwiYQ2yh3vCJ_MEGTz1LeYzhNXqVJMnnjxN9LqEs_trgypHWFJZ3IIJb1xUuq1jYLLhg2xVyZp4r54rabZi7NsOzoKEaK_GGhpz3HlxLVlan2a2CgL4wzfw7B91TI58c_8cI4ygqBANmnXWKQajCQY_VcMDXtj1mD1o9lFl.g4MdIVKhnnf.QbK7jSm84pm1vp0kg06uwaJrnzB_cHQKilxmprce1IWsTR7.6XKjwkpRPdd7YK3nZthtnmKIrfOpMnY7G6CO0WSeWGTI1lYD0nq0_KChK6GKlnk5kfLJ4C2iLROELP1C4Xhfwx3FL3UUAnfYHFMrkvE8IWbOBsLSqZGPUQpQaFdGrCamXTPljob9y_QSSslsR1Uvhv3wEFSYGg_PgftRN55vSMPJPWpAR2ydVV38IePX6GP9vnD84tEaxatj2fE\\',};var a = document.createElement(\\'script\\');a.src = \\'/cdn-cgi/challenge-platform/h/b/orchestrate/chl_page/v1?ray=988fb26bfaccd628\\';window._cf_chl_opt.cOgUHash = location.hash === \\'\\' && location.href.indexOf(\\'#\\') !== -1 ? \\'#\\' : location.hash;window._cf_chl_opt.cOgUQuery = location.search === \\'\\' && location.href.slice(0, location.href.length - window._cf_chl_opt.cOgUHash.length).indexOf(\\'?\\') !== -1 ? \\'?\\' : location.search;if (window.history && window.history.replaceState) {var ogU = location.pathname + window._cf_chl_opt.cOgUQuery + window._cf_chl_opt.cOgUHash;history.replaceState(null, null,\"\\\\/ajax-items-list\\\\/?page=1&c=5270&rubric=3529&__cf_chl_rt_tk=7XRUj9L0C4.7c9xvs_7EIM1pWTINJP1hjLGpx7ytTWM-1759528664-1.0.1.1-SJFIoqo.1HfU38dpQs9LITn1fmhU_OJCRBVbe3LOtJ4\"+ window._cf_chl_opt.cOgUHash);a.onload = function() {history.replaceState(null, null, ogU);}}document.getElementsByTagName(\\'head\\')[0].appendChild(a);}());</script></body></html>'"
     },
     "execution_count": 5,
     "metadata": {},
     "output_type": "execute_result"
    }
   ],
   "source": [
    "response.text"
   ],
   "metadata": {
    "collapsed": false,
    "ExecuteTime": {
     "end_time": "2025-10-03T21:57:49.963883Z",
     "start_time": "2025-10-03T21:57:49.952662Z"
    }
   },
   "id": "fa0bbf1310fca5dc",
   "execution_count": 5
  },
  {
   "cell_type": "code",
   "outputs": [],
   "source": [],
   "metadata": {
    "collapsed": false
   },
   "id": "82a83a47c181f73c"
  },
  {
   "cell_type": "code",
   "outputs": [],
   "source": [
    "url_pattern = f'https://www.bazaraki.com/real-estate-to-rent/apartments-flats/?page=1&lat=34.81405406013075&lng=33.009986249719596&radius=100000'"
   ],
   "metadata": {
    "collapsed": false,
    "ExecuteTime": {
     "end_time": "2025-10-01T22:02:56.777369Z",
     "start_time": "2025-10-01T22:02:56.767210Z"
    }
   },
   "id": "7f816d39d9c9de1b",
   "execution_count": 7
  },
  {
   "cell_type": "code",
   "outputs": [],
   "source": [
    "headers = {'User-Agent': 'Mozilla/5.0'}"
   ],
   "metadata": {
    "collapsed": false,
    "ExecuteTime": {
     "end_time": "2025-10-03T21:57:39.810495Z",
     "start_time": "2025-10-03T21:57:39.803783Z"
    }
   },
   "id": "9672eff303993140",
   "execution_count": 3
  },
  {
   "cell_type": "code",
   "outputs": [],
   "source": [
    "response = requests.get(url_pattern, headers=headers)"
   ],
   "metadata": {
    "collapsed": false,
    "ExecuteTime": {
     "end_time": "2025-10-01T22:03:00.689732Z",
     "start_time": "2025-10-01T22:03:00.545922Z"
    }
   },
   "id": "7dbf404fadd63b6e",
   "execution_count": 8
  },
  {
   "cell_type": "code",
   "outputs": [],
   "source": [
    "res_txt = response.text"
   ],
   "metadata": {
    "collapsed": false,
    "ExecuteTime": {
     "end_time": "2025-10-01T22:03:18.211951Z",
     "start_time": "2025-10-01T22:03:18.201278Z"
    }
   },
   "id": "31f30c8687a68188",
   "execution_count": 9
  },
  {
   "cell_type": "code",
   "outputs": [
    {
     "data": {
      "text/plain": "'<!DOCTYPE html><html lang=\"en-US\"><head><title>Just a moment...</title><meta http-equiv=\"Content-Type\" content=\"text/html; charset=UTF-8\"><meta http-equiv=\"X-UA-Compatible\" content=\"IE=Edge\"><meta name=\"robots\" content=\"noindex,nofollow\"><meta name=\"viewport\" content=\"width=device-width,initial-scale=1\"><style>*{box-sizing:border-box;margin:0;padding:0}html{line-height:1.15;-webkit-text-size-adjust:100%;color:#313131;font-family:system-ui,-apple-system,BlinkMacSystemFont,\"Segoe UI\",Roboto,\"Helvetica Neue\",Arial,\"Noto Sans\",sans-serif,\"Apple Color Emoji\",\"Segoe UI Emoji\",\"Segoe UI Symbol\",\"Noto Color Emoji\"}body{display:flex;flex-direction:column;height:100vh;min-height:100vh}.main-content{margin:8rem auto;padding-left:1.5rem;max-width:60rem}@media (width <= 720px){.main-content{margin-top:4rem}}.h2{line-height:2.25rem;font-size:1.5rem;font-weight:500}@media (width <= 720px){.h2{line-height:1.5rem;font-size:1.25rem}}#challenge-error-text{background-image:url(\"data:image/svg+xml;base64,PHN2ZyB4bWxucz0iaHR0cDovL3d3dy53My5vcmcvMjAwMC9zdmciIHdpZHRoPSIzMiIgaGVpZ2h0PSIzMiIgZmlsbD0ibm9uZSI+PHBhdGggZmlsbD0iI0IyMEYwMyIgZD0iTTE2IDNhMTMgMTMgMCAxIDAgMTMgMTNBMTMuMDE1IDEzLjAxNSAwIDAgMCAxNiAzbTAgMjRhMTEgMTEgMCAxIDEgMTEtMTEgMTEuMDEgMTEuMDEgMCAwIDEtMTEgMTEiLz48cGF0aCBmaWxsPSIjQjIwRjAzIiBkPSJNMTcuMDM4IDE4LjYxNUgxNC44N0wxNC41NjMgOS41aDIuNzgzem0tMS4wODQgMS40MjdxLjY2IDAgMS4wNTcuMzg4LjQwNy4zODkuNDA3Ljk5NCAwIC41OTYtLjQwNy45ODQtLjM5Ny4zOS0xLjA1Ny4zODktLjY1IDAtMS4wNTYtLjM4OS0uMzk4LS4zODktLjM5OC0uOTg0IDAtLjU5Ny4zOTgtLjk4NS40MDYtLjM5NyAxLjA1Ni0uMzk3Ii8+PC9zdmc+\");background-repeat:no-repeat;background-size:contain;padding-left:34px}@media (prefers-color-scheme: dark){body{background-color:#222;color:#d9d9d9}}</style><meta http-equiv=\"refresh\" content=\"360\"></head><body><div class=\"main-wrapper\" role=\"main\"><div class=\"main-content\"><noscript><div class=\"h2\"><span id=\"challenge-error-text\">Enable JavaScript and cookies to continue</span></div></noscript></div></div><script>(function(){window._cf_chl_opt = {cvId: \\'3\\',cZone: \\'www.bazaraki.com\\',cType: \\'managed\\',cRay: \\'987f3f622971d628\\',cH: \\'BtihNhVt19gTWA9qFSKTdPyS1ckGx1owX7UiA6MK7U8-1759356180-1.2.1.1-R_Z8pKiYBPW7ByDUzbJgojoIvq_zZRd5drWqCPPjk_1ozfJt9hj9Dy3aH7zpZz8m\\',cUPMDTk:\"\\\\/real-estate-to-rent\\\\/apartments-flats\\\\/?page=1&lat=34.81405406013075&lng=33.009986249719596&radius=100000&__cf_chl_tk=N2AsLsvdGnAdxsjae0P40Jd3.tyHYFeT15MX3dSJ.SI-1759356180-1.0.1.1-fAMLCAPIit9Dn59HvoUTxcT9eK49vqyWt7qu7Jwd9as\",cFPWv: \\'g\\',cITimeS: \\'1759356180\\',cTplC:0,cTplV:5,cTplB: \\'cf\\',fa:\"\\\\/real-estate-to-rent\\\\/apartments-flats\\\\/?page=1&lat=34.81405406013075&lng=33.009986249719596&radius=100000&__cf_chl_f_tk=N2AsLsvdGnAdxsjae0P40Jd3.tyHYFeT15MX3dSJ.SI-1759356180-1.0.1.1-fAMLCAPIit9Dn59HvoUTxcT9eK49vqyWt7qu7Jwd9as\",md: \\'iHRq3h9kivgGJWhiaeb2ycnc.AQKsgnJBhIU_bOfoPo-1759356180-1.2.1.1-JiUeFRbFf8AJW4wgB5xgEG7Y87Yy3tM1DU8XbPSnMFMcSvH5coeFaTZIH6aUIP5NAsol3.jjRnVfOAQgV.Qwfoht6ffUHRKevT3ZEiTCyGG5BU7c93Cn4cy98hzNwqP_8kqBYd9cApIalgJDveSxuFIBt8WY.m_eUBDf1tov5ia6qZqUupcCusUcRn66aMcb5kThzPfVFPoVqgp1fJlVfYjvnYYJR9_.9H92vYMU8TfePvk1nPu7GFTc6CqkPvtqtTT_Sd1nSRGo4Mj_QDMrO2y4c9wmYDMxzh81YsGJkM9MTujNLSe6hQFP3vdpybxOpSJ2FNq9O2C4LgPjnzFh5.eelfgvPueaa8vtgPrAYU1ugDCAoYiHNYv8MxXEzkTLS0halbo8t0t9r1FQd.z9ihu58OWah6hTQX_TKG1tFZ3.njnaBmvjjGycf9bd5mbcj7Y5KyLQqn6oCen05dYiJq1sPL7.p7xr2Ae8AvhRDerLX1TCQC34uFAOCQVZQGqM0TS_OAX.YneynvMZme.SZPt3I9llsgMgMRN.K8LjXUmxgS8K8VgHU19l3zCiPD9XrNfVPf6EVcSMc1E8rJX2_OvB_OVJrvro3A9qyHMPKS5ZS70_CfcZRO1mX8uEtYccMUfC47MfYwliPxNsl326FjdgoUgPDu6PkFzArRK_LyN8.MY2UY9jloxBEV9_Kczj3fGzN2kQ7OMGUloOkaUt5tvglhV3uKLTpizGlJSyx0VqguFOdxsvesrNlnSQgW_JxWga_4rVLdNAzxEhbp.EwZ8enPpFcLTNlpelLvqsLFxc0qdNDbfjzsNuymkqO4GnCMpnVXlvu9Hy0DF5OsaK_JrisNH4QUrZzAqJA2qRgMpZbTOHGbAFoN7Sl__mK.9RS.BUOB2aAcriWxVdXDTJeArywB__Dem5JCg045pFiNHrmILU6UHOnq1ZIbAqxHR_lSKob2v8F2TU2ykIjNB6fqVGqMO4pIADFL_nmyb7.ntyAuoloDgqji4Kov2f2X_4h7y9O2IiELmhS8Gc0nyH7XEBxR9Mu1sBsy8IAp23FAsFlbAhwRTWp.Bhzltyug4ffd0qan.2JOsjd7YqEP65fQ\\',mdrd: \\'cle1C3SE.JTfMpkDChzoLO9vqvYiSauuhSzJqwYMvEI-1759356180-1.2.1.1-Td6EmxwxEGd68HzOdVS8p3xszvGftOOfNHec1SiJ1KqpYvVUOQCotY7IpRKs3scjiBiLgdi5iN5LgOJjqQpXDKpOdhhthxgxbuya0CLVHP1iC2lRapt6YCIUkxRWOJKOIOi.v1MdWqXHCasnkkNtWho6AEG8W5CiiFGGaC3QJnbWnm1RDim23MP6N3fu8HK2Z00FdqBiIBl6xEv_.hHES3Aw_O0rP5mheIZm18M0YZ3AW_KxadG8hGT_nn8RELanjJeuTVuap2f_ZVeOoSM1WvJv3ug3XCtSFmkUJBONjJ_sSAtb4B.0WZVLhQ7JRf8BITSAkL7HkYbcBZNesSnITk4D5eejt1cT6fc.c20jjgeARU49Ho.aeHQTRV9xK.LYN_dl0Jd6WPCDedY7BNdyUhz9noqrM5kBkw0jC8xbCaUmQ8jDUCJpXuq0p50ee.iHYWS5SEZgMyXSwvhUpzaRHIEn4hBig_AbgxNdymriZHYAgBjRxfiebdBvrOklGyo5BpPUJxJsLfVEU3IWzcUdItpzyoU4JU6ft4ofaD2j6IbeS7OA.momaOVGfx7hhxOlnMZjSsyTpb2Fh93eLAm_zvsAvpKT2RhvmyNrTNMWnBMyQTEjROyuWW_Yc6C9qBHztPmTpNsRj98eLQitRiINEbDoGYpFX_cycZrZT54vDYMBy5xF1Ve1CXuGXcKsKYpMOg0Z.oSbCZ8qfK1sbz2jwMfzch_niG_CSca.HckUiY0r1nTZ1_tk15NNK7R0uLqV_MTGBPO5FCBH40B3rX7EsdY8WAvWyMfIHyAK.4_gNHCee.S5nefte0mTIdn8tsLLHnzSmlMya9BFz2yziG85cUNztwufUkD6LzCOshNIBNElqFRj3y4SoDbMRZP9a_g4JMHJpeSeA0vxVcXlg6PFYFfKcSOyE_e5s9KTAURmaMMIBOHItf88Iyu_is4rK5bVxJtVBGu_AARVVIXZjIMadBdHyHntZssj.kg9QudnrdRBLEYfmtwI_a.PDSiKN5AOUkgNhVTRPI.oMRFqmJip4nddUeknFEkxigLO6xhYaLbCMwPub3LSzMukppeyTh24xYQ1ZlnaF3KKtP5BxczRqKDcHKdEELZBlhUqBTsTug0pq.8j9SqGhcqAjQTIOYw7qA.EY89Hylsra220rv6Twz9gCC7EcQlibw5UlfJxlKP8Vmp0esEwPtdRh.HY_gEqDgZwI4MEng8uW7HMuevq1Y_i2m9bFFvy4y55lOL37M2seN2bTuZtuagGHYu0aJQ6_UMHHZ_bzgAP3ooyyFmtsbvX9RiD9KeCNr1PyUxwlU.U3.9M0MTguRXUso03ExHWUW_wkMxK8A7e4IQroPp.jqB8gIo9wMDxkdsddlviMjF5fJvcCsCq3pzP9YTZbaFpyhKyVTqSn8F9XRQXPCS37yDhyUi6UZMa.Ru7wUgbqOeV43z6M7Qn2fp.cyVPJ8wejxB7Oh0evdnMPwik8KxxbFxfPcvxjWHl.o0h3ZixNcu6FHm43_gWeK_bBfVuTmZO4xiFPoA.hPUvF6nAgwl3oXGqE.Ow7CcH_PmMwN.genxLxwrZ6Vt3D7APncXfvkzj_y7Knbhz7k5WTidiQzRP6seXYh0r0v4yzB8u4MD77SW2AkjacEVX4bPKyAbroygMiaGUavue1Q536TMdfSjErB2la_JitbDrnVQznu.jrK0ZCDd85aUdwyWqutU4t0xfqKYSNqCEPGmfVO9nObLxQnkpVHMlAh2i5CFh9ykUE6eiu_ufg48lW2F6Q6k6bk28B9d4cP4XJnwIKkRgwCYG5uQ_GpmWmTSwTNk06snJi6.Fmodpy5Gs9WvqF9aX5HlwNukTC_rR4SgLo8GhheDM9WmnP2sWODmJwuJPhxne8CEK2i33Lg9.yJ1f0pjmJ1CuWueA.Kj9F1oGE_7d31vys05IJ3JsbkqhtKA.TnuDbiYr7gTPxr3onY3JePNzwmLZ6KFiTfryH7RoF2yzNgY2FBoewkZyB45FyxfPlJ.06HtqkoV3eO1qCUbH.rVS7bWPpx5bfeI5uYm716V9.O8sD9ursdga_YAg7oFiyiMY2DVQXvG7IxlR55V1yjPLv_rQexe_LIpgHaWWIsn5erCYaY1gKIo_An1V_70TPNlx1ht3ctEfXnMC75pl1rk_qWe.2HnWuQhVOEs.EhgB30f1uR5av_QIV8rsYZv8SMSsSO59.m4K6I3okHiLX9na_rjSbiKwIPdbVzn8LZjSrIAjD0Vg0zzXw_elShMjr6yynIJJDMUeU.C9PcREcCqiH0u7SiEQ5Lzro89M3PpauUdd1uGiJswb4aBtH3PHU3OqR8.1PidZvqPQML_MxSIdOckMuXoWGPCzsEBKHEiZY_XPdg\\',};var a = document.createElement(\\'script\\');a.src = \\'/cdn-cgi/challenge-platform/h/g/orchestrate/chl_page/v1?ray=987f3f622971d628\\';window._cf_chl_opt.cOgUHash = location.hash === \\'\\' && location.href.indexOf(\\'#\\') !== -1 ? \\'#\\' : location.hash;window._cf_chl_opt.cOgUQuery = location.search === \\'\\' && location.href.slice(0, location.href.length - window._cf_chl_opt.cOgUHash.length).indexOf(\\'?\\') !== -1 ? \\'?\\' : location.search;if (window.history && window.history.replaceState) {var ogU = location.pathname + window._cf_chl_opt.cOgUQuery + window._cf_chl_opt.cOgUHash;history.replaceState(null, null,\"\\\\/real-estate-to-rent\\\\/apartments-flats\\\\/?page=1&lat=34.81405406013075&lng=33.009986249719596&radius=100000&__cf_chl_rt_tk=N2AsLsvdGnAdxsjae0P40Jd3.tyHYFeT15MX3dSJ.SI-1759356180-1.0.1.1-fAMLCAPIit9Dn59HvoUTxcT9eK49vqyWt7qu7Jwd9as\"+ window._cf_chl_opt.cOgUHash);a.onload = function() {history.replaceState(null, null, ogU);}}document.getElementsByTagName(\\'head\\')[0].appendChild(a);}());</script></body></html>'"
     },
     "execution_count": 10,
     "metadata": {},
     "output_type": "execute_result"
    }
   ],
   "source": [
    "res_txt  # ok, так не пройдет"
   ],
   "metadata": {
    "collapsed": false,
    "ExecuteTime": {
     "end_time": "2025-10-01T22:03:25.172798Z",
     "start_time": "2025-10-01T22:03:25.153579Z"
    }
   },
   "id": "d534bb96887ba441",
   "execution_count": 10
  },
  {
   "cell_type": "code",
   "outputs": [],
   "source": [
    "playwright codegen https://portal-da.ru/objects/catalog/buy/section\n"
   ],
   "metadata": {
    "collapsed": false,
    "ExecuteTime": {
     "end_time": "2025-10-01T22:02:51.561168Z",
     "start_time": "2025-10-01T22:02:51.559203Z"
    }
   },
   "id": "f802c7f0fa32f7a4",
   "execution_count": 6
  },
  {
   "cell_type": "code",
   "outputs": [],
   "source": [
    "import re\n",
    "from playwright.sync_api import Playwright, sync_playwright, expect\n",
    "\n",
    "\n",
    "def run(playwright: Playwright) -> None:\n",
    "    browser = playwright.chromium.launch(headless=False)\n",
    "    context = browser.new_context()\n",
    "    page = context.new_page()\n",
    "    page.goto(\"https://www.bazaraki.com/real-estate-to-rent/apartments-flats/\")\n",
    "    page.get_by_role(\"button\", name=\"Согласиться\").click()\n",
    "    page.locator(\"[id=\\\"5919549\\\"]\").get_by_role(\"link\").filter(has_text=re.compile(r\"^$\")).click()\n",
    "\n",
    "    # ---------------------\n",
    "    context.close()\n",
    "    browser.close()\n",
    "\n",
    "\n",
    "with sync_playwright() as playwright:\n",
    "    run(playwright)\n"
   ],
   "metadata": {
    "collapsed": false
   },
   "id": "3d54d1ef2acede32"
  },
  {
   "cell_type": "code",
   "outputs": [],
   "source": [
    "import re\n",
    "from playwright.sync_api import Playwright, sync_playwright, expect\n",
    "\n",
    "\n",
    "def run(playwright: Playwright) -> None:\n",
    "    browser = playwright.chromium.launch(headless=False)\n",
    "    context = browser.new_context()\n",
    "    page = context.new_page()\n",
    "    page.goto(\"https://www.bazaraki.com/real-estate-to-rent/apartments-flats/\")\n",
    "    page.get_by_role(\"button\", name=\"Согласиться\").click()\n",
    "    page.locator(\"[id=\\\"5974812\\\"]\").get_by_role(\"link\").filter(has_text=re.compile(r\"^$\")).click()\n",
    "\n",
    "    # ---------------------\n",
    "    context.close()\n",
    "    browser.close()\n",
    "\n",
    "\n",
    "with sync_playwright() as playwright:\n",
    "    run(playwright)\n"
   ],
   "metadata": {
    "collapsed": false
   },
   "id": "9ca20008652244c7"
  },
  {
   "cell_type": "markdown",
   "source": [
    "# Saved Links"
   ],
   "metadata": {
    "collapsed": false
   },
   "id": "50fc7b629f724a48"
  },
  {
   "cell_type": "code",
   "outputs": [],
   "source": [
    "with open(f'../scripts/links_buf1.txt', 'r') as links_file:\n",
    "    links_list = links_file.readlines()"
   ],
   "metadata": {
    "collapsed": false,
    "ExecuteTime": {
     "end_time": "2025-10-04T20:53:22.345499Z",
     "start_time": "2025-10-04T20:53:22.336218Z"
    }
   },
   "id": "ce1b947f01ac0e9e",
   "execution_count": 10
  },
  {
   "cell_type": "code",
   "outputs": [],
   "source": [
    "with open(f'../scripts/links_buf2.txt', 'r') as links_file:\n",
    "    links_list1 = links_file.readlines()"
   ],
   "metadata": {
    "collapsed": false,
    "ExecuteTime": {
     "end_time": "2025-10-04T20:53:22.535406Z",
     "start_time": "2025-10-04T20:53:22.531922Z"
    }
   },
   "id": "a5e17bbc3ba720cf",
   "execution_count": 11
  },
  {
   "cell_type": "code",
   "outputs": [
    {
     "data": {
      "text/plain": "1031"
     },
     "execution_count": 12,
     "metadata": {},
     "output_type": "execute_result"
    }
   ],
   "source": [
    "len(links_list)"
   ],
   "metadata": {
    "collapsed": false,
    "ExecuteTime": {
     "end_time": "2025-10-04T20:53:23.045471Z",
     "start_time": "2025-10-04T20:53:23.041036Z"
    }
   },
   "id": "bba4f1054c92dc1",
   "execution_count": 12
  },
  {
   "cell_type": "code",
   "outputs": [
    {
     "data": {
      "text/plain": "102"
     },
     "execution_count": 13,
     "metadata": {},
     "output_type": "execute_result"
    }
   ],
   "source": [
    "len(set(links_list))"
   ],
   "metadata": {
    "collapsed": false,
    "ExecuteTime": {
     "end_time": "2025-10-04T20:53:24.300217Z",
     "start_time": "2025-10-04T20:53:24.295956Z"
    }
   },
   "id": "86b8b83c0eb32904",
   "execution_count": 13
  },
  {
   "cell_type": "code",
   "outputs": [
    {
     "data": {
      "text/plain": "121"
     },
     "execution_count": 14,
     "metadata": {},
     "output_type": "execute_result"
    }
   ],
   "source": [
    "len(set(links_list1))"
   ],
   "metadata": {
    "collapsed": false,
    "ExecuteTime": {
     "end_time": "2025-10-04T20:53:27.624008Z",
     "start_time": "2025-10-04T20:53:27.618712Z"
    }
   },
   "id": "79f27c85bc14f643",
   "execution_count": 14
  },
  {
   "cell_type": "code",
   "outputs": [
    {
     "data": {
      "text/plain": "99"
     },
     "execution_count": 16,
     "metadata": {},
     "output_type": "execute_result"
    }
   ],
   "source": [
    "len(set(links_list) - set(links_list1))"
   ],
   "metadata": {
    "collapsed": false,
    "ExecuteTime": {
     "end_time": "2025-10-04T20:53:39.364252Z",
     "start_time": "2025-10-04T20:53:39.343027Z"
    }
   },
   "id": "bae16706d143d986",
   "execution_count": 16
  },
  {
   "cell_type": "code",
   "outputs": [
    {
     "data": {
      "text/plain": "118"
     },
     "execution_count": 17,
     "metadata": {},
     "output_type": "execute_result"
    }
   ],
   "source": [
    "len(set(links_list1) - set(links_list))"
   ],
   "metadata": {
    "collapsed": false,
    "ExecuteTime": {
     "end_time": "2025-10-04T20:54:16.336695Z",
     "start_time": "2025-10-04T20:54:16.325664Z"
    }
   },
   "id": "829c7373603ef34b",
   "execution_count": 17
  },
  {
   "cell_type": "code",
   "outputs": [],
   "source": [],
   "metadata": {
    "collapsed": false
   },
   "id": "aae0a4695a7978bb"
  }
 ],
 "metadata": {
  "kernelspec": {
   "display_name": "Python 3",
   "language": "python",
   "name": "python3"
  },
  "language_info": {
   "codemirror_mode": {
    "name": "ipython",
    "version": 2
   },
   "file_extension": ".py",
   "mimetype": "text/x-python",
   "name": "python",
   "nbconvert_exporter": "python",
   "pygments_lexer": "ipython2",
   "version": "2.7.6"
  }
 },
 "nbformat": 4,
 "nbformat_minor": 5
}
