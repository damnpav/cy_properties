{
 "cells": [
  {
   "cell_type": "markdown",
   "source": [
    "# Import"
   ],
   "metadata": {
    "collapsed": false
   },
   "id": "bddffa2082a7890d"
  },
  {
   "cell_type": "code",
   "outputs": [],
   "source": [
    "import requests\n",
    "import re\n",
    "from bs4 import BeautifulSoup\n",
    "import pandas as pd\n",
    "from tqdm import tqdm\n",
    "import time\n",
    "import warnings\n",
    "warnings.filterwarnings('ignore')"
   ],
   "metadata": {
    "collapsed": false,
    "ExecuteTime": {
     "end_time": "2025-03-29T16:51:03.642148Z",
     "start_time": "2025-03-29T16:51:03.133205Z"
    }
   },
   "id": "4e3e08df3c936",
   "execution_count": 1
  },
  {
   "cell_type": "code",
   "outputs": [],
   "source": [
    "import math\n",
    "import ast"
   ],
   "metadata": {
    "collapsed": false,
    "ExecuteTime": {
     "end_time": "2025-03-29T17:24:40.020569Z",
     "start_time": "2025-03-29T17:24:40.001573Z"
    }
   },
   "id": "9608bc1b17cc39fc",
   "execution_count": 42
  },
  {
   "cell_type": "markdown",
   "source": [
    "# Parser"
   ],
   "metadata": {
    "collapsed": false
   },
   "id": "63aebbfbcc6db5e6"
  },
  {
   "cell_type": "code",
   "outputs": [],
   "source": [
    "def parse_bazaraki_property(html: str, page_url: str) -> dict:\n",
    "    soup = BeautifulSoup(html, 'html.parser')\n",
    "    \n",
    "    def get_text_by_label(label):\n",
    "        tag = soup.find('span', text=label)\n",
    "        if tag:\n",
    "            value_span = tag.find_next('span', class_='value-chars')\n",
    "            if value_span:\n",
    "                return value_span.get_text(strip=True)\n",
    "        return None\n",
    "\n",
    "    data = {\n",
    "        'Link': page_url,\n",
    "        'District': soup.find('a', class_='announcement__location').get_text(strip=True) if soup.find('a', class_='announcement__location') else None,\n",
    "        'CountOfRooms': get_text_by_label('Bedrooms:'),\n",
    "        'Floor': get_text_by_label('Floor:'),\n",
    "        'Square': get_text_by_label('Property area:'),\n",
    "        'Furnishing': get_text_by_label('Furnishing:'),\n",
    "        'Parking': get_text_by_label('Parking:'),\n",
    "        'Balcony': 'Balcony' in soup.get_text(),  # fuzzy match\n",
    "        'AC': get_text_by_label('Air conditioning:'),\n",
    "        'EnergyEfficiency': get_text_by_label('Energy Efficiency:'),\n",
    "        'DistanceToJob': '100 meters from the sea' in soup.get_text(),  # example heuristic\n",
    "        'DistanceToBeach': '100 meters from the sea' in soup.get_text(),\n",
    "        'DoubleGlazedWindows': 'double glazed' in soup.get_text().lower(),\n",
    "        'Elevator': 'elevator' in soup.get_text().lower(),\n",
    "        'WiFi': 'wifi' in soup.get_text().lower() or 'wi-fi' in soup.get_text().lower(),\n",
    "        'SoundProofing': 'soundproof' in soup.get_text().lower(),\n",
    "        'GeoDot': str(get_geo_dot(soup))\n",
    "    }\n",
    "\n",
    "    # Extracting price\n",
    "    price_block = soup.select_one('.announcement-price__cost')\n",
    "    if price_block:\n",
    "        price_text = price_block.get_text(strip=True)\n",
    "        price_match = re.search(r'€\\s?([\\d,.]+)', price_text)\n",
    "        data['Price'] = price_match.group(1).replace(',', '') if price_match else None\n",
    "    else:\n",
    "        data['Price'] = None\n",
    "\n",
    "    return data"
   ],
   "metadata": {
    "collapsed": false,
    "ExecuteTime": {
     "end_time": "2025-03-29T17:00:13.756595Z",
     "start_time": "2025-03-29T17:00:13.745624Z"
    }
   },
   "id": "f5f8be804667ec53",
   "execution_count": 24
  },
  {
   "cell_type": "code",
   "outputs": [],
   "source": [
    "def get_geo_dot(soup):\n",
    "    \"\"\"\n",
    "    Retrieve geodot from Show on the map script\n",
    "    :param soup: \n",
    "    :return: \n",
    "    \"\"\"\n",
    "    tag = soup.find('a', class_='js-open-announcement-location', attrs={'data-coords': True})\n",
    "    \n",
    "    if tag:\n",
    "        coords = tag['data-coords']  # e.g. \"SRID=4326;POINT (33.0278635 34.6880101)\"\n",
    "        match = re.search(r'POINT\\s*\\(([\\d.]+)\\s+([\\d.]+)\\)', coords)\n",
    "        if match:\n",
    "            lon, lat = float(match.group(1)), float(match.group(2))\n",
    "            return {'lat': lat, 'lon': lon}\n",
    "    return None"
   ],
   "metadata": {
    "collapsed": false,
    "ExecuteTime": {
     "end_time": "2025-03-29T17:00:11.855187Z",
     "start_time": "2025-03-29T17:00:11.844524Z"
    }
   },
   "id": "b3ee2b72dd81641b",
   "execution_count": 23
  },
  {
   "cell_type": "markdown",
   "source": [
    "# Links"
   ],
   "metadata": {
    "collapsed": false
   },
   "id": "2134876d955462e5"
  },
  {
   "cell_type": "code",
   "outputs": [],
   "source": [
    "link_text = f\"\"\"\n",
    "             BazarakiBot, [2 мар. 2025 в 13:05]\n",
    "Subscription saved to: https://www.bazaraki.com/real-estate-to-rent/apartments-flats/area_min---50/furnishing---1/number-of-bedrooms---2/?ordering=cheapest&price_max=1750&polygon=%7Br%7BrEaj%7BgEbiHx%7BD%7BjAikSdhE%7DvAwoJseWs%7BK~%7BEuW%7CkKrsApoG\n",
    "\n",
    "BazarakiBot, [2 мар. 2025 в 13:07]\n",
    "€1350 2-bedroom apartment to rent\n",
    "Limassol, Limassol - Petrou Kai Pavlou\n",
    "https://www.bazaraki.com/adv/5645424_2-bedroom-apartment-to-rent/\n",
    "\n",
    "BazarakiBot, [2 мар. 2025 в 13:07]\n",
    "€1550 2-bedroom apartment to rent\n",
    "Limassol, Ypsonas\n",
    "https://www.bazaraki.com/adv/5590302_2-bedroom-apartment-to-rent/\n",
    "\n",
    "BazarakiBot, [2 мар. 2025 в 13:07]\n",
    "€1590 2-bedroom apartment to rent\n",
    "Limassol, Limassol - Zakaki\n",
    "https://www.bazaraki.com/adv/5660339_2-bedroom-apartment-to-rent/\"\"\""
   ],
   "metadata": {
    "collapsed": false,
    "ExecuteTime": {
     "end_time": "2025-03-29T16:54:03.658809Z",
     "start_time": "2025-03-29T16:54:03.644797Z"
    }
   },
   "id": "685726756ea94276",
   "execution_count": 3
  },
  {
   "cell_type": "code",
   "outputs": [],
   "source": [
    "pattern = r'https://www\\.bazaraki\\.com/adv/\\d+_[\\w-]+/'\n",
    "links_list = re.findall(pattern, link_text)"
   ],
   "metadata": {
    "collapsed": false,
    "ExecuteTime": {
     "end_time": "2025-03-29T16:54:29.815635Z",
     "start_time": "2025-03-29T16:54:29.804548Z"
    }
   },
   "id": "f05f09c32c3d03cb",
   "execution_count": 7
  },
  {
   "cell_type": "code",
   "outputs": [
    {
     "data": {
      "text/plain": "3"
     },
     "execution_count": 8,
     "metadata": {},
     "output_type": "execute_result"
    }
   ],
   "source": [
    "len(links_list)"
   ],
   "metadata": {
    "collapsed": false,
    "ExecuteTime": {
     "end_time": "2025-03-29T16:54:30.599713Z",
     "start_time": "2025-03-29T16:54:30.577945Z"
    }
   },
   "id": "bac04f7c6a9f464",
   "execution_count": 8
  },
  {
   "cell_type": "code",
   "outputs": [
    {
     "data": {
      "text/plain": "3"
     },
     "execution_count": 9,
     "metadata": {},
     "output_type": "execute_result"
    }
   ],
   "source": [
    "len(set(links_list))"
   ],
   "metadata": {
    "collapsed": false,
    "ExecuteTime": {
     "end_time": "2025-03-29T16:54:31.709180Z",
     "start_time": "2025-03-29T16:54:31.691153Z"
    }
   },
   "id": "eafd2582869ca522",
   "execution_count": 9
  },
  {
   "cell_type": "code",
   "outputs": [],
   "source": [
    "unique_list = list(set(links_list))"
   ],
   "metadata": {
    "collapsed": false,
    "ExecuteTime": {
     "end_time": "2025-03-29T16:54:33.008013Z",
     "start_time": "2025-03-29T16:54:32.987285Z"
    }
   },
   "id": "4852dc39d458552c",
   "execution_count": 10
  },
  {
   "cell_type": "markdown",
   "source": [
    "# Parse Loops"
   ],
   "metadata": {
    "collapsed": false
   },
   "id": "5c4ca4fa375839e2"
  },
  {
   "cell_type": "code",
   "outputs": [
    {
     "name": "stderr",
     "output_type": "stream",
     "text": [
      "100%|██████████| 3/3 [00:03<00:00,  1.33s/it]\n"
     ]
    }
   ],
   "source": [
    "listing_dicts = []\n",
    "for link in tqdm(unique_list):\n",
    "    try:\n",
    "        # Example usage\n",
    "        url = link\n",
    "        headers = {'User-Agent': 'Mozilla/5.0'}\n",
    "        response = requests.get(url, headers=headers)\n",
    "        listing_data = parse_bazaraki_property(response.text, url)\n",
    "        listing_dicts.append(listing_data)\n",
    "        time.sleep(0.4)\n",
    "    except Exception as e:\n",
    "        print(f'Exception on {link}: {e}\\n')"
   ],
   "metadata": {
    "collapsed": false,
    "ExecuteTime": {
     "end_time": "2025-03-29T17:00:22.057351Z",
     "start_time": "2025-03-29T17:00:18.068520Z"
    }
   },
   "id": "a561ee0c0c1e6b03",
   "execution_count": 25
  },
  {
   "cell_type": "code",
   "outputs": [],
   "source": [
    "prices_df = pd.DataFrame(listing_dicts)"
   ],
   "metadata": {
    "collapsed": false,
    "ExecuteTime": {
     "end_time": "2025-03-29T17:00:22.074245Z",
     "start_time": "2025-03-29T17:00:22.062024Z"
    }
   },
   "id": "3ef6f155259c7f43",
   "execution_count": 26
  },
  {
   "cell_type": "code",
   "outputs": [
    {
     "data": {
      "text/plain": "                                                Link  \\\n0  https://www.bazaraki.com/adv/5645424_2-bedroom...   \n1  https://www.bazaraki.com/adv/5660339_2-bedroom...   \n2  https://www.bazaraki.com/adv/5590302_2-bedroom...   \n\n                                 District CountOfRooms Floor   Square  \\\n0  Limassol, Limassol - Petrou Kai Pavlou         None  None  Covered   \n1             Limassol, Limassol - Zakaki            2  None  Covered   \n2                       Limassol, Ypsonas            2   1st      1st   \n\n        Furnishing    Parking  Balcony               AC EnergyEfficiency  \\\n0  Full, all rooms    Covered     True  Full, all rooms                B   \n1             3046    Covered     True  Full, all rooms                A   \n2  Full, all rooms  Uncovered     True  Full, all rooms                A   \n\n   DistanceToJob  DistanceToBeach  DoubleGlazedWindows  Elevator   WiFi  \\\n0          False            False                False      True  False   \n1          False            False                False     False  False   \n2          False            False                False      True  False   \n\n   SoundProofing                                  GeoDot  Price  \n0          False  {'lat': 34.6880101, 'lon': 33.0278635}  1.350  \n1          False    {'lat': 34.656304, 'lon': 33.002983}  1.490  \n2          False    {'lat': 34.697375, 'lon': 32.968702}  1.550  ",
      "text/html": "<div>\n<style scoped>\n    .dataframe tbody tr th:only-of-type {\n        vertical-align: middle;\n    }\n\n    .dataframe tbody tr th {\n        vertical-align: top;\n    }\n\n    .dataframe thead th {\n        text-align: right;\n    }\n</style>\n<table border=\"1\" class=\"dataframe\">\n  <thead>\n    <tr style=\"text-align: right;\">\n      <th></th>\n      <th>Link</th>\n      <th>District</th>\n      <th>CountOfRooms</th>\n      <th>Floor</th>\n      <th>Square</th>\n      <th>Furnishing</th>\n      <th>Parking</th>\n      <th>Balcony</th>\n      <th>AC</th>\n      <th>EnergyEfficiency</th>\n      <th>DistanceToJob</th>\n      <th>DistanceToBeach</th>\n      <th>DoubleGlazedWindows</th>\n      <th>Elevator</th>\n      <th>WiFi</th>\n      <th>SoundProofing</th>\n      <th>GeoDot</th>\n      <th>Price</th>\n    </tr>\n  </thead>\n  <tbody>\n    <tr>\n      <th>0</th>\n      <td>https://www.bazaraki.com/adv/5645424_2-bedroom...</td>\n      <td>Limassol, Limassol - Petrou Kai Pavlou</td>\n      <td>None</td>\n      <td>None</td>\n      <td>Covered</td>\n      <td>Full, all rooms</td>\n      <td>Covered</td>\n      <td>True</td>\n      <td>Full, all rooms</td>\n      <td>B</td>\n      <td>False</td>\n      <td>False</td>\n      <td>False</td>\n      <td>True</td>\n      <td>False</td>\n      <td>False</td>\n      <td>{'lat': 34.6880101, 'lon': 33.0278635}</td>\n      <td>1.350</td>\n    </tr>\n    <tr>\n      <th>1</th>\n      <td>https://www.bazaraki.com/adv/5660339_2-bedroom...</td>\n      <td>Limassol, Limassol - Zakaki</td>\n      <td>2</td>\n      <td>None</td>\n      <td>Covered</td>\n      <td>3046</td>\n      <td>Covered</td>\n      <td>True</td>\n      <td>Full, all rooms</td>\n      <td>A</td>\n      <td>False</td>\n      <td>False</td>\n      <td>False</td>\n      <td>False</td>\n      <td>False</td>\n      <td>False</td>\n      <td>{'lat': 34.656304, 'lon': 33.002983}</td>\n      <td>1.490</td>\n    </tr>\n    <tr>\n      <th>2</th>\n      <td>https://www.bazaraki.com/adv/5590302_2-bedroom...</td>\n      <td>Limassol, Ypsonas</td>\n      <td>2</td>\n      <td>1st</td>\n      <td>1st</td>\n      <td>Full, all rooms</td>\n      <td>Uncovered</td>\n      <td>True</td>\n      <td>Full, all rooms</td>\n      <td>A</td>\n      <td>False</td>\n      <td>False</td>\n      <td>False</td>\n      <td>True</td>\n      <td>False</td>\n      <td>False</td>\n      <td>{'lat': 34.697375, 'lon': 32.968702}</td>\n      <td>1.550</td>\n    </tr>\n  </tbody>\n</table>\n</div>"
     },
     "execution_count": 27,
     "metadata": {},
     "output_type": "execute_result"
    }
   ],
   "source": [
    "prices_df"
   ],
   "metadata": {
    "collapsed": false,
    "ExecuteTime": {
     "end_time": "2025-03-29T17:00:22.656748Z",
     "start_time": "2025-03-29T17:00:22.645503Z"
    }
   },
   "id": "3144124cdad34fe8",
   "execution_count": 27
  },
  {
   "cell_type": "markdown",
   "source": [
    "# Parse All Links"
   ],
   "metadata": {
    "collapsed": false
   },
   "id": "82d6d317868e7c47"
  },
  {
   "cell_type": "code",
   "outputs": [],
   "source": [
    "links_df = pd.read_excel(f'../data/unique_links290325.xlsx')"
   ],
   "metadata": {
    "collapsed": false,
    "ExecuteTime": {
     "end_time": "2025-03-29T17:04:56.638182Z",
     "start_time": "2025-03-29T17:04:56.454923Z"
    }
   },
   "id": "f3f32af37019493c",
   "execution_count": 28
  },
  {
   "cell_type": "code",
   "outputs": [
    {
     "name": "stderr",
     "output_type": "stream",
     "text": [
      "100%|██████████| 155/155 [02:24<00:00,  1.08it/s]\n"
     ]
    }
   ],
   "source": [
    "listing_dicts = []\n",
    "for link in tqdm(links_df['link'].to_list()):\n",
    "    try:\n",
    "        # Example usage\n",
    "        url = link\n",
    "        headers = {'User-Agent': 'Mozilla/5.0'}\n",
    "        response = requests.get(url, headers=headers)\n",
    "        listing_data = parse_bazaraki_property(response.text, url)\n",
    "        listing_dicts.append(listing_data)\n",
    "        time.sleep(0.1)\n",
    "    except Exception as e:\n",
    "        print(f'Exception on {link}: {e}\\n')\n",
    "prices_df = pd.DataFrame(listing_dicts)"
   ],
   "metadata": {
    "collapsed": false,
    "ExecuteTime": {
     "end_time": "2025-03-29T17:08:13.966043Z",
     "start_time": "2025-03-29T17:05:49.801362Z"
    }
   },
   "id": "b86ba5c3a5accb3",
   "execution_count": 32
  },
  {
   "cell_type": "code",
   "outputs": [
    {
     "data": {
      "text/plain": "(128, 18)"
     },
     "execution_count": 37,
     "metadata": {},
     "output_type": "execute_result"
    }
   ],
   "source": [
    "prices_df.loc[prices_df['GeoDot']!='None'].shape"
   ],
   "metadata": {
    "collapsed": false,
    "ExecuteTime": {
     "end_time": "2025-03-29T17:11:14.100620Z",
     "start_time": "2025-03-29T17:11:14.077972Z"
    }
   },
   "id": "74cba1063975cdd7",
   "execution_count": 37
  },
  {
   "cell_type": "code",
   "outputs": [],
   "source": [
    "prices_df.to_excel(f'../data/prices_df290325.xlsx', index=False)"
   ],
   "metadata": {
    "collapsed": false,
    "ExecuteTime": {
     "end_time": "2025-03-29T17:11:43.560385Z",
     "start_time": "2025-03-29T17:11:43.487883Z"
    }
   },
   "id": "e0eb4bbe7f9d6e6a",
   "execution_count": 38
  },
  {
   "cell_type": "code",
   "outputs": [
    {
     "data": {
      "text/plain": "0                                        None\n1                                        None\n2        {'lat': 34.68205, 'lon': 33.0006363}\n3        {'lat': 34.656304, 'lon': 33.002983}\n4        {'lat': 34.710598, 'lon': 33.133668}\n                        ...                  \n150    {'lat': 34.6657927, 'lon': 33.0034017}\n151      {'lat': 34.703698, 'lon': 32.996048}\n152    {'lat': 34.6880101, 'lon': 33.0278635}\n153     {'lat': 34.677058, 'lon': 33.0073458}\n154      {'lat': 34.656304, 'lon': 33.002983}\nName: GeoDot, Length: 155, dtype: object"
     },
     "execution_count": 40,
     "metadata": {},
     "output_type": "execute_result"
    }
   ],
   "source": [
    "prices_df['GeoDot']"
   ],
   "metadata": {
    "collapsed": false,
    "ExecuteTime": {
     "end_time": "2025-03-29T17:12:02.740015Z",
     "start_time": "2025-03-29T17:12:02.728526Z"
    }
   },
   "id": "fab9929de79a9f28",
   "execution_count": 40
  },
  {
   "cell_type": "code",
   "outputs": [
    {
     "data": {
      "text/plain": "                                                  Link  \\\n0    https://www.bazaraki.com/adv/5678254_2-bedroom...   \n1    https://www.bazaraki.com/adv/5683377_2-bedroom...   \n2    https://www.bazaraki.com/adv/5692081_2-bedroom...   \n3    https://www.bazaraki.com/adv/5675339_2-bedroom...   \n4    https://www.bazaraki.com/adv/5631055_2-bedroom...   \n..                                                 ...   \n150  https://www.bazaraki.com/adv/5642861_2-bedroom...   \n151  https://www.bazaraki.com/adv/5712047_2-bedroom...   \n152  https://www.bazaraki.com/adv/5677113_2-bedroom...   \n153  https://www.bazaraki.com/adv/5642123_2-bedroom...   \n154  https://www.bazaraki.com/adv/5660339_2-bedroom...   \n\n                                     District CountOfRooms         Floor  \\\n0                                        None         None          None   \n1                                        None         None          None   \n2    Limassol, Polemidia - Apostolos Varnavas            2  Ground floor   \n3                 Limassol, Limassol - Zakaki            2           3rd   \n4         Limassol, Agios Tychon Tourist Area            1           1st   \n..                                        ...          ...           ...   \n150               Limassol, Limassol - Omonia            2           2nd   \n151                  Limassol, Polemidia Pano            1           1st   \n152    Limassol, Limassol - Petrou Kai Pavlou            1           2nd   \n153       Limassol, Limassol - Agios Spyridon            1          None   \n154               Limassol, Limassol - Zakaki            2          None   \n\n           Square       Furnishing    Parking  Balcony               AC  \\\n0            None             None       None    False             None   \n1            None             None       None    False             None   \n2    Ground floor  Full, all rooms  Uncovered    False  Full, all rooms   \n3             3rd             3046    Covered     True  Full, all rooms   \n4             1st             4531  Uncovered    False  Full, all rooms   \n..            ...              ...        ...      ...              ...   \n150           2nd  Full, all rooms  Uncovered     True  Full, all rooms   \n151           1st  Full, all rooms    Covered     True  Full, all rooms   \n152           2nd  Full, all rooms    Covered     True  Full, all rooms   \n153     Uncovered             3051  Uncovered     True  Full, all rooms   \n154       Covered             3046    Covered     True  Full, all rooms   \n\n    EnergyEfficiency  DistanceToJob  DistanceToBeach  DoubleGlazedWindows  \\\n0               None          False            False                False   \n1               None          False            False                False   \n2                N/A          False            False                False   \n3                  A          False            False                False   \n4                  B          False            False                False   \n..               ...            ...              ...                  ...   \n150                A          False            False                False   \n151               B+          False            False                False   \n152                A          False            False                False   \n153              N/A          False            False                False   \n154                A          False            False                False   \n\n     Elevator   WiFi  SoundProofing                                  GeoDot  \\\n0       False  False          False                                    None   \n1       False  False          False                                    None   \n2       False  False          False    {'lat': 34.68205, 'lon': 33.0006363}   \n3        True  False          False    {'lat': 34.656304, 'lon': 33.002983}   \n4        True  False          False    {'lat': 34.710598, 'lon': 33.133668}   \n..        ...    ...            ...                                     ...   \n150     False  False          False  {'lat': 34.6657927, 'lon': 33.0034017}   \n151      True  False          False    {'lat': 34.703698, 'lon': 32.996048}   \n152      True  False          False  {'lat': 34.6880101, 'lon': 33.0278635}   \n153      True  False          False   {'lat': 34.677058, 'lon': 33.0073458}   \n154     False  False          False    {'lat': 34.656304, 'lon': 33.002983}   \n\n     Price  \n0     None  \n1     None  \n2    1.100  \n3    1.350  \n4    1.300  \n..     ...  \n150  1.100  \n151  1.200  \n152  1.200  \n153  1.350  \n154  1.490  \n\n[155 rows x 18 columns]",
      "text/html": "<div>\n<style scoped>\n    .dataframe tbody tr th:only-of-type {\n        vertical-align: middle;\n    }\n\n    .dataframe tbody tr th {\n        vertical-align: top;\n    }\n\n    .dataframe thead th {\n        text-align: right;\n    }\n</style>\n<table border=\"1\" class=\"dataframe\">\n  <thead>\n    <tr style=\"text-align: right;\">\n      <th></th>\n      <th>Link</th>\n      <th>District</th>\n      <th>CountOfRooms</th>\n      <th>Floor</th>\n      <th>Square</th>\n      <th>Furnishing</th>\n      <th>Parking</th>\n      <th>Balcony</th>\n      <th>AC</th>\n      <th>EnergyEfficiency</th>\n      <th>DistanceToJob</th>\n      <th>DistanceToBeach</th>\n      <th>DoubleGlazedWindows</th>\n      <th>Elevator</th>\n      <th>WiFi</th>\n      <th>SoundProofing</th>\n      <th>GeoDot</th>\n      <th>Price</th>\n    </tr>\n  </thead>\n  <tbody>\n    <tr>\n      <th>0</th>\n      <td>https://www.bazaraki.com/adv/5678254_2-bedroom...</td>\n      <td>None</td>\n      <td>None</td>\n      <td>None</td>\n      <td>None</td>\n      <td>None</td>\n      <td>None</td>\n      <td>False</td>\n      <td>None</td>\n      <td>None</td>\n      <td>False</td>\n      <td>False</td>\n      <td>False</td>\n      <td>False</td>\n      <td>False</td>\n      <td>False</td>\n      <td>None</td>\n      <td>None</td>\n    </tr>\n    <tr>\n      <th>1</th>\n      <td>https://www.bazaraki.com/adv/5683377_2-bedroom...</td>\n      <td>None</td>\n      <td>None</td>\n      <td>None</td>\n      <td>None</td>\n      <td>None</td>\n      <td>None</td>\n      <td>False</td>\n      <td>None</td>\n      <td>None</td>\n      <td>False</td>\n      <td>False</td>\n      <td>False</td>\n      <td>False</td>\n      <td>False</td>\n      <td>False</td>\n      <td>None</td>\n      <td>None</td>\n    </tr>\n    <tr>\n      <th>2</th>\n      <td>https://www.bazaraki.com/adv/5692081_2-bedroom...</td>\n      <td>Limassol, Polemidia - Apostolos Varnavas</td>\n      <td>2</td>\n      <td>Ground floor</td>\n      <td>Ground floor</td>\n      <td>Full, all rooms</td>\n      <td>Uncovered</td>\n      <td>False</td>\n      <td>Full, all rooms</td>\n      <td>N/A</td>\n      <td>False</td>\n      <td>False</td>\n      <td>False</td>\n      <td>False</td>\n      <td>False</td>\n      <td>False</td>\n      <td>{'lat': 34.68205, 'lon': 33.0006363}</td>\n      <td>1.100</td>\n    </tr>\n    <tr>\n      <th>3</th>\n      <td>https://www.bazaraki.com/adv/5675339_2-bedroom...</td>\n      <td>Limassol, Limassol - Zakaki</td>\n      <td>2</td>\n      <td>3rd</td>\n      <td>3rd</td>\n      <td>3046</td>\n      <td>Covered</td>\n      <td>True</td>\n      <td>Full, all rooms</td>\n      <td>A</td>\n      <td>False</td>\n      <td>False</td>\n      <td>False</td>\n      <td>True</td>\n      <td>False</td>\n      <td>False</td>\n      <td>{'lat': 34.656304, 'lon': 33.002983}</td>\n      <td>1.350</td>\n    </tr>\n    <tr>\n      <th>4</th>\n      <td>https://www.bazaraki.com/adv/5631055_2-bedroom...</td>\n      <td>Limassol, Agios Tychon Tourist Area</td>\n      <td>1</td>\n      <td>1st</td>\n      <td>1st</td>\n      <td>4531</td>\n      <td>Uncovered</td>\n      <td>False</td>\n      <td>Full, all rooms</td>\n      <td>B</td>\n      <td>False</td>\n      <td>False</td>\n      <td>False</td>\n      <td>True</td>\n      <td>False</td>\n      <td>False</td>\n      <td>{'lat': 34.710598, 'lon': 33.133668}</td>\n      <td>1.300</td>\n    </tr>\n    <tr>\n      <th>...</th>\n      <td>...</td>\n      <td>...</td>\n      <td>...</td>\n      <td>...</td>\n      <td>...</td>\n      <td>...</td>\n      <td>...</td>\n      <td>...</td>\n      <td>...</td>\n      <td>...</td>\n      <td>...</td>\n      <td>...</td>\n      <td>...</td>\n      <td>...</td>\n      <td>...</td>\n      <td>...</td>\n      <td>...</td>\n      <td>...</td>\n    </tr>\n    <tr>\n      <th>150</th>\n      <td>https://www.bazaraki.com/adv/5642861_2-bedroom...</td>\n      <td>Limassol, Limassol - Omonia</td>\n      <td>2</td>\n      <td>2nd</td>\n      <td>2nd</td>\n      <td>Full, all rooms</td>\n      <td>Uncovered</td>\n      <td>True</td>\n      <td>Full, all rooms</td>\n      <td>A</td>\n      <td>False</td>\n      <td>False</td>\n      <td>False</td>\n      <td>False</td>\n      <td>False</td>\n      <td>False</td>\n      <td>{'lat': 34.6657927, 'lon': 33.0034017}</td>\n      <td>1.100</td>\n    </tr>\n    <tr>\n      <th>151</th>\n      <td>https://www.bazaraki.com/adv/5712047_2-bedroom...</td>\n      <td>Limassol, Polemidia Pano</td>\n      <td>1</td>\n      <td>1st</td>\n      <td>1st</td>\n      <td>Full, all rooms</td>\n      <td>Covered</td>\n      <td>True</td>\n      <td>Full, all rooms</td>\n      <td>B+</td>\n      <td>False</td>\n      <td>False</td>\n      <td>False</td>\n      <td>True</td>\n      <td>False</td>\n      <td>False</td>\n      <td>{'lat': 34.703698, 'lon': 32.996048}</td>\n      <td>1.200</td>\n    </tr>\n    <tr>\n      <th>152</th>\n      <td>https://www.bazaraki.com/adv/5677113_2-bedroom...</td>\n      <td>Limassol, Limassol - Petrou Kai Pavlou</td>\n      <td>1</td>\n      <td>2nd</td>\n      <td>2nd</td>\n      <td>Full, all rooms</td>\n      <td>Covered</td>\n      <td>True</td>\n      <td>Full, all rooms</td>\n      <td>A</td>\n      <td>False</td>\n      <td>False</td>\n      <td>False</td>\n      <td>True</td>\n      <td>False</td>\n      <td>False</td>\n      <td>{'lat': 34.6880101, 'lon': 33.0278635}</td>\n      <td>1.200</td>\n    </tr>\n    <tr>\n      <th>153</th>\n      <td>https://www.bazaraki.com/adv/5642123_2-bedroom...</td>\n      <td>Limassol, Limassol - Agios Spyridon</td>\n      <td>1</td>\n      <td>None</td>\n      <td>Uncovered</td>\n      <td>3051</td>\n      <td>Uncovered</td>\n      <td>True</td>\n      <td>Full, all rooms</td>\n      <td>N/A</td>\n      <td>False</td>\n      <td>False</td>\n      <td>False</td>\n      <td>True</td>\n      <td>False</td>\n      <td>False</td>\n      <td>{'lat': 34.677058, 'lon': 33.0073458}</td>\n      <td>1.350</td>\n    </tr>\n    <tr>\n      <th>154</th>\n      <td>https://www.bazaraki.com/adv/5660339_2-bedroom...</td>\n      <td>Limassol, Limassol - Zakaki</td>\n      <td>2</td>\n      <td>None</td>\n      <td>Covered</td>\n      <td>3046</td>\n      <td>Covered</td>\n      <td>True</td>\n      <td>Full, all rooms</td>\n      <td>A</td>\n      <td>False</td>\n      <td>False</td>\n      <td>False</td>\n      <td>False</td>\n      <td>False</td>\n      <td>False</td>\n      <td>{'lat': 34.656304, 'lon': 33.002983}</td>\n      <td>1.490</td>\n    </tr>\n  </tbody>\n</table>\n<p>155 rows × 18 columns</p>\n</div>"
     },
     "execution_count": 41,
     "metadata": {},
     "output_type": "execute_result"
    }
   ],
   "source": [
    "prices_df"
   ],
   "metadata": {
    "collapsed": false,
    "ExecuteTime": {
     "end_time": "2025-03-29T17:12:39.579354Z",
     "start_time": "2025-03-29T17:12:39.547185Z"
    }
   },
   "id": "c25f1f4cfd8a5a07",
   "execution_count": 41
  },
  {
   "cell_type": "markdown",
   "source": [
    "# Search for Closest locations"
   ],
   "metadata": {
    "collapsed": false
   },
   "id": "35879429ac3afe1a"
  },
  {
   "cell_type": "code",
   "outputs": [],
   "source": [
    "def add_distance_column(df: pd.DataFrame, target_point: dict, geo_col='GeoDot') -> pd.DataFrame:\n",
    "    distances = []\n",
    "\n",
    "    for val in df[geo_col]:\n",
    "        try:\n",
    "            if val == \"None\" or pd.isna(val):\n",
    "                distances.append(None)\n",
    "                continue\n",
    "\n",
    "            # Safely parse the string to a dict\n",
    "            geo = ast.literal_eval(val)\n",
    "\n",
    "            dist = haversine(\n",
    "                lat1=geo['lat'],\n",
    "                lon1=geo['lon'],\n",
    "                lat2=target_point['lat'],\n",
    "                lon2=target_point['lon']\n",
    "            )\n",
    "            distances.append(dist)\n",
    "        except Exception:\n",
    "            distances.append(None)\n",
    "\n",
    "    df = df.copy()\n",
    "    df[\"DistanceKm\"] = distances\n",
    "    df = df.sort_values(by=\"DistanceKm\", ascending=True, na_position='last')\n",
    "    return df"
   ],
   "metadata": {
    "collapsed": false,
    "ExecuteTime": {
     "end_time": "2025-03-29T17:40:15.291457Z",
     "start_time": "2025-03-29T17:40:15.269691Z"
    }
   },
   "id": "b30410090ff5cd00",
   "execution_count": 45
  },
  {
   "cell_type": "code",
   "outputs": [],
   "source": [
    "new_df = add_distance_column(prices_df.copy(), \n",
    "                             target_point={'lat': 34.711125, 'lon': 33.059491}, \n",
    "                             geo_col='GeoDot')"
   ],
   "metadata": {
    "collapsed": false,
    "ExecuteTime": {
     "end_time": "2025-03-29T19:36:55.528458Z",
     "start_time": "2025-03-29T19:36:55.505933Z"
    }
   },
   "id": "9e2d9bf9e5e833c4",
   "execution_count": 156
  },
  {
   "cell_type": "code",
   "outputs": [],
   "source": [
    "new_df['PriceFl'] = new_df['Price'].astype(str).str.replace('.', '').str.replace('None', '0').astype(float)"
   ],
   "metadata": {
    "collapsed": false,
    "ExecuteTime": {
     "end_time": "2025-03-29T19:36:56.476165Z",
     "start_time": "2025-03-29T19:36:56.460492Z"
    }
   },
   "id": "e1ebae88f0eac371",
   "execution_count": 157
  },
  {
   "cell_type": "code",
   "outputs": [],
   "source": [],
   "metadata": {
    "collapsed": false,
    "ExecuteTime": {
     "end_time": "2025-03-29T19:36:58.749846Z",
     "start_time": "2025-03-29T19:36:58.746024Z"
    }
   },
   "id": "d69ecc2e32bf9f46",
   "execution_count": 157
  },
  {
   "cell_type": "code",
   "outputs": [],
   "source": [
    "new_df1 = new_df.loc[new_df['DistanceKm']<=2].copy()"
   ],
   "metadata": {
    "collapsed": false,
    "ExecuteTime": {
     "end_time": "2025-03-29T19:37:03.318754Z",
     "start_time": "2025-03-29T19:37:03.308479Z"
    }
   },
   "id": "eec12c95bc4d57fe",
   "execution_count": 158
  },
  {
   "cell_type": "code",
   "outputs": [
    {
     "data": {
      "text/plain": "12"
     },
     "execution_count": 159,
     "metadata": {},
     "output_type": "execute_result"
    }
   ],
   "source": [
    "new_df1.shape[0]"
   ],
   "metadata": {
    "collapsed": false,
    "ExecuteTime": {
     "end_time": "2025-03-29T19:37:03.519416Z",
     "start_time": "2025-03-29T19:37:03.515877Z"
    }
   },
   "id": "b2084d4cf43df82e",
   "execution_count": 159
  },
  {
   "cell_type": "code",
   "outputs": [
    {
     "data": {
      "text/plain": "['https://www.bazaraki.com/adv/5690474_2-bedroom-apartment-to-rent/',\n 'https://www.bazaraki.com/adv/5669603_2-bedroom-apartment-to-rent/',\n 'https://www.bazaraki.com/adv/5517035_2-bedroom-detached-house-to-rent/',\n 'https://www.bazaraki.com/adv/5708926_2-bedroom-apartment-to-rent/',\n 'https://www.bazaraki.com/adv/5715425_2-bedroom-penthouse-to-rent/',\n 'https://www.bazaraki.com/adv/5624938_2-bedroom-apartment-to-rent/',\n 'https://www.bazaraki.com/adv/5492010_2-bedroom-apartment-to-rent/',\n 'https://www.bazaraki.com/adv/5665425_2-bedroom-apartment-to-rent/',\n 'https://www.bazaraki.com/adv/5708561_2-bedroom-apartment-to-rent/',\n 'https://www.bazaraki.com/adv/5598297_2-bedroom-apartment-to-rent/',\n 'https://www.bazaraki.com/adv/5634085_2-bedroom-apartment-to-rent/',\n 'https://www.bazaraki.com/adv/5705448_2-bedroom-apartment-to-rent/']"
     },
     "execution_count": 160,
     "metadata": {},
     "output_type": "execute_result"
    }
   ],
   "source": [
    "new_df1['Link'].to_list()"
   ],
   "metadata": {
    "collapsed": false,
    "ExecuteTime": {
     "end_time": "2025-03-29T19:37:05.446106Z",
     "start_time": "2025-03-29T19:37:05.428081Z"
    }
   },
   "id": "f7ed4acd3875a15d",
   "execution_count": 160
  },
  {
   "cell_type": "code",
   "outputs": [
    {
     "name": "stdout",
     "output_type": "stream",
     "text": [
      "Price min: 1000.0\n",
      "Price max: 1700.0\n",
      "Price mean: 1300.0\n",
      "Price median: 1300.0\n"
     ]
    }
   ],
   "source": [
    "print(f\"Price min: {new_df1['PriceFl'].min()}\")\n",
    "print(f\"Price max: {new_df1['PriceFl'].max()}\")\n",
    "print(f\"Price mean: {new_df1['PriceFl'].mean()}\")\n",
    "print(f\"Price median: {new_df1['PriceFl'].median()}\")"
   ],
   "metadata": {
    "collapsed": false,
    "ExecuteTime": {
     "end_time": "2025-03-29T19:37:13.913977Z",
     "start_time": "2025-03-29T19:37:13.901882Z"
    }
   },
   "id": "af6c6cddd9c65c3",
   "execution_count": 161
  },
  {
   "cell_type": "code",
   "outputs": [
    {
     "data": {
      "text/plain": "                                                  Link  \\\n62   https://www.bazaraki.com/adv/5665425_2-bedroom...   \n44   https://www.bazaraki.com/adv/5682838_2-bedroom...   \n131  https://www.bazaraki.com/adv/5684644_2-bedroom...   \n97   https://www.bazaraki.com/adv/5667831_2-bedroom...   \n129  https://www.bazaraki.com/adv/5708036_2-bedroom...   \n128  https://www.bazaraki.com/adv/5703404_2-bedroom...   \n92   https://www.bazaraki.com/adv/5669795_2-bedroom...   \n88   https://www.bazaraki.com/adv/5685682_2-bedroom...   \n\n                           District CountOfRooms Floor Square  \\\n62   Limassol, Limassol - Linopetra            1   2nd    2nd   \n44    Limassol, Limassol - Neapolis            1   5th    5th   \n131   Limassol, Limassol - Neapolis            1   5th    5th   \n97    Limassol, Limassol - Neapolis            1   2nd    2nd   \n129   Limassol, Limassol - Neapolis            1   2nd    2nd   \n128   Limassol, Limassol - Neapolis            1   5th    5th   \n92    Limassol, Limassol - Neapolis            1   2nd    2nd   \n88    Limassol, Limassol - Neapolis            1   2nd    2nd   \n\n          Furnishing    Parking  Balcony               AC EnergyEfficiency  \\\n62   Full, all rooms  Uncovered     True  Full, all rooms              N/A   \n44   Full, all rooms  Uncovered     True  Full, all rooms              N/A   \n131  Full, all rooms    Covered     True  Full, all rooms                A   \n97              3107  Uncovered     True  Full, all rooms               B+   \n129  Full, all rooms  Uncovered     True  Full, all rooms                B   \n128  Full, all rooms    Covered     True  Full, all rooms              N/A   \n92   Full, all rooms  Uncovered     True  Full, all rooms                B   \n88              3107  Uncovered     True  Full, all rooms                B   \n\n     DistanceToJob  DistanceToBeach  DoubleGlazedWindows  Elevator   WiFi  \\\n62           False            False                False      True  False   \n44           False            False                False      True  False   \n131          False            False                False      True  False   \n97           False            False                False     False  False   \n129           True             True                False     False  False   \n128          False            False                False      True  False   \n92            True             True                False     False  False   \n88           False            False                False     False  False   \n\n     SoundProofing                                  GeoDot  Price  DistanceKm  \\\n62           False  {'lat': 34.6973675, 'lon': 33.0675682}  1.200    0.875105   \n44           False  {'lat': 34.6893639, 'lon': 33.0539774}  1.200    0.963298   \n131          False  {'lat': 34.6893639, 'lon': 33.0539774}  1.400    0.963298   \n97           False  {'lat': 34.6893639, 'lon': 33.0539774}  1.300    0.963298   \n129          False  {'lat': 34.6893639, 'lon': 33.0539774}  1.300    0.963298   \n128          False  {'lat': 34.6893639, 'lon': 33.0539774}  1.150    0.963298   \n92           False  {'lat': 34.6893639, 'lon': 33.0539774}  1.300    0.963298   \n88           False  {'lat': 34.6893639, 'lon': 33.0539774}  1.300    0.963298   \n\n     PriceFl  \n62    1200.0  \n44    1200.0  \n131   1400.0  \n97    1300.0  \n129   1300.0  \n128   1150.0  \n92    1300.0  \n88    1300.0  ",
      "text/html": "<div>\n<style scoped>\n    .dataframe tbody tr th:only-of-type {\n        vertical-align: middle;\n    }\n\n    .dataframe tbody tr th {\n        vertical-align: top;\n    }\n\n    .dataframe thead th {\n        text-align: right;\n    }\n</style>\n<table border=\"1\" class=\"dataframe\">\n  <thead>\n    <tr style=\"text-align: right;\">\n      <th></th>\n      <th>Link</th>\n      <th>District</th>\n      <th>CountOfRooms</th>\n      <th>Floor</th>\n      <th>Square</th>\n      <th>Furnishing</th>\n      <th>Parking</th>\n      <th>Balcony</th>\n      <th>AC</th>\n      <th>EnergyEfficiency</th>\n      <th>DistanceToJob</th>\n      <th>DistanceToBeach</th>\n      <th>DoubleGlazedWindows</th>\n      <th>Elevator</th>\n      <th>WiFi</th>\n      <th>SoundProofing</th>\n      <th>GeoDot</th>\n      <th>Price</th>\n      <th>DistanceKm</th>\n      <th>PriceFl</th>\n    </tr>\n  </thead>\n  <tbody>\n    <tr>\n      <th>62</th>\n      <td>https://www.bazaraki.com/adv/5665425_2-bedroom...</td>\n      <td>Limassol, Limassol - Linopetra</td>\n      <td>1</td>\n      <td>2nd</td>\n      <td>2nd</td>\n      <td>Full, all rooms</td>\n      <td>Uncovered</td>\n      <td>True</td>\n      <td>Full, all rooms</td>\n      <td>N/A</td>\n      <td>False</td>\n      <td>False</td>\n      <td>False</td>\n      <td>True</td>\n      <td>False</td>\n      <td>False</td>\n      <td>{'lat': 34.6973675, 'lon': 33.0675682}</td>\n      <td>1.200</td>\n      <td>0.875105</td>\n      <td>1200.0</td>\n    </tr>\n    <tr>\n      <th>44</th>\n      <td>https://www.bazaraki.com/adv/5682838_2-bedroom...</td>\n      <td>Limassol, Limassol - Neapolis</td>\n      <td>1</td>\n      <td>5th</td>\n      <td>5th</td>\n      <td>Full, all rooms</td>\n      <td>Uncovered</td>\n      <td>True</td>\n      <td>Full, all rooms</td>\n      <td>N/A</td>\n      <td>False</td>\n      <td>False</td>\n      <td>False</td>\n      <td>True</td>\n      <td>False</td>\n      <td>False</td>\n      <td>{'lat': 34.6893639, 'lon': 33.0539774}</td>\n      <td>1.200</td>\n      <td>0.963298</td>\n      <td>1200.0</td>\n    </tr>\n    <tr>\n      <th>131</th>\n      <td>https://www.bazaraki.com/adv/5684644_2-bedroom...</td>\n      <td>Limassol, Limassol - Neapolis</td>\n      <td>1</td>\n      <td>5th</td>\n      <td>5th</td>\n      <td>Full, all rooms</td>\n      <td>Covered</td>\n      <td>True</td>\n      <td>Full, all rooms</td>\n      <td>A</td>\n      <td>False</td>\n      <td>False</td>\n      <td>False</td>\n      <td>True</td>\n      <td>False</td>\n      <td>False</td>\n      <td>{'lat': 34.6893639, 'lon': 33.0539774}</td>\n      <td>1.400</td>\n      <td>0.963298</td>\n      <td>1400.0</td>\n    </tr>\n    <tr>\n      <th>97</th>\n      <td>https://www.bazaraki.com/adv/5667831_2-bedroom...</td>\n      <td>Limassol, Limassol - Neapolis</td>\n      <td>1</td>\n      <td>2nd</td>\n      <td>2nd</td>\n      <td>3107</td>\n      <td>Uncovered</td>\n      <td>True</td>\n      <td>Full, all rooms</td>\n      <td>B+</td>\n      <td>False</td>\n      <td>False</td>\n      <td>False</td>\n      <td>False</td>\n      <td>False</td>\n      <td>False</td>\n      <td>{'lat': 34.6893639, 'lon': 33.0539774}</td>\n      <td>1.300</td>\n      <td>0.963298</td>\n      <td>1300.0</td>\n    </tr>\n    <tr>\n      <th>129</th>\n      <td>https://www.bazaraki.com/adv/5708036_2-bedroom...</td>\n      <td>Limassol, Limassol - Neapolis</td>\n      <td>1</td>\n      <td>2nd</td>\n      <td>2nd</td>\n      <td>Full, all rooms</td>\n      <td>Uncovered</td>\n      <td>True</td>\n      <td>Full, all rooms</td>\n      <td>B</td>\n      <td>True</td>\n      <td>True</td>\n      <td>False</td>\n      <td>False</td>\n      <td>False</td>\n      <td>False</td>\n      <td>{'lat': 34.6893639, 'lon': 33.0539774}</td>\n      <td>1.300</td>\n      <td>0.963298</td>\n      <td>1300.0</td>\n    </tr>\n    <tr>\n      <th>128</th>\n      <td>https://www.bazaraki.com/adv/5703404_2-bedroom...</td>\n      <td>Limassol, Limassol - Neapolis</td>\n      <td>1</td>\n      <td>5th</td>\n      <td>5th</td>\n      <td>Full, all rooms</td>\n      <td>Covered</td>\n      <td>True</td>\n      <td>Full, all rooms</td>\n      <td>N/A</td>\n      <td>False</td>\n      <td>False</td>\n      <td>False</td>\n      <td>True</td>\n      <td>False</td>\n      <td>False</td>\n      <td>{'lat': 34.6893639, 'lon': 33.0539774}</td>\n      <td>1.150</td>\n      <td>0.963298</td>\n      <td>1150.0</td>\n    </tr>\n    <tr>\n      <th>92</th>\n      <td>https://www.bazaraki.com/adv/5669795_2-bedroom...</td>\n      <td>Limassol, Limassol - Neapolis</td>\n      <td>1</td>\n      <td>2nd</td>\n      <td>2nd</td>\n      <td>Full, all rooms</td>\n      <td>Uncovered</td>\n      <td>True</td>\n      <td>Full, all rooms</td>\n      <td>B</td>\n      <td>True</td>\n      <td>True</td>\n      <td>False</td>\n      <td>False</td>\n      <td>False</td>\n      <td>False</td>\n      <td>{'lat': 34.6893639, 'lon': 33.0539774}</td>\n      <td>1.300</td>\n      <td>0.963298</td>\n      <td>1300.0</td>\n    </tr>\n    <tr>\n      <th>88</th>\n      <td>https://www.bazaraki.com/adv/5685682_2-bedroom...</td>\n      <td>Limassol, Limassol - Neapolis</td>\n      <td>1</td>\n      <td>2nd</td>\n      <td>2nd</td>\n      <td>3107</td>\n      <td>Uncovered</td>\n      <td>True</td>\n      <td>Full, all rooms</td>\n      <td>B</td>\n      <td>False</td>\n      <td>False</td>\n      <td>False</td>\n      <td>False</td>\n      <td>False</td>\n      <td>False</td>\n      <td>{'lat': 34.6893639, 'lon': 33.0539774}</td>\n      <td>1.300</td>\n      <td>0.963298</td>\n      <td>1300.0</td>\n    </tr>\n  </tbody>\n</table>\n</div>"
     },
     "execution_count": 142,
     "metadata": {},
     "output_type": "execute_result"
    }
   ],
   "source": [
    "new_df1"
   ],
   "metadata": {
    "collapsed": false,
    "ExecuteTime": {
     "end_time": "2025-03-29T19:19:02.980941Z",
     "start_time": "2025-03-29T19:19:02.947470Z"
    }
   },
   "id": "c4078eb51815914a",
   "execution_count": 142
  },
  {
   "cell_type": "code",
   "outputs": [
    {
     "data": {
      "text/plain": "np.float64(1326.6666666666667)"
     },
     "execution_count": 85,
     "metadata": {},
     "output_type": "execute_result"
    }
   ],
   "source": [],
   "metadata": {
    "collapsed": false,
    "ExecuteTime": {
     "end_time": "2025-03-29T18:06:16.424069Z",
     "start_time": "2025-03-29T18:06:16.413402Z"
    }
   },
   "id": "b5acfb79f237ffb0",
   "execution_count": 85
  },
  {
   "cell_type": "code",
   "outputs": [
    {
     "data": {
      "text/plain": "np.float64(1300.0)"
     },
     "execution_count": 86,
     "metadata": {},
     "output_type": "execute_result"
    }
   ],
   "source": [],
   "metadata": {
    "collapsed": false,
    "ExecuteTime": {
     "end_time": "2025-03-29T18:06:19.664806Z",
     "start_time": "2025-03-29T18:06:19.653178Z"
    }
   },
   "id": "ff0e213b89d37078",
   "execution_count": 86
  },
  {
   "cell_type": "code",
   "outputs": [],
   "source": [],
   "metadata": {
    "collapsed": false
   },
   "id": "b78d99f5b96dd5e5"
  },
  {
   "cell_type": "markdown",
   "source": [
    "# Drafts"
   ],
   "metadata": {
    "collapsed": false
   },
   "id": "5ce476893d3f70d1"
  },
  {
   "cell_type": "code",
   "outputs": [],
   "source": [
    "def haversine(lat1, lon1, lat2, lon2):\n",
    "    R = 6371.0  # Earth radius in km\n",
    "\n",
    "    phi1 = math.radians(lat1)\n",
    "    phi2 = math.radians(lat2)\n",
    "    delta_phi = math.radians(lat2 - lat1)\n",
    "    delta_lambda = math.radians(lon2 - lon1)\n",
    "\n",
    "    a = math.sin(delta_phi / 2)**2 + \\\n",
    "        math.cos(phi1) * math.cos(phi2) * math.sin(delta_lambda / 2)**2\n",
    "\n",
    "    c = 2 * math.atan2(math.sqrt(a), math.sqrt(1 - a))\n",
    "\n",
    "    return R * c"
   ],
   "metadata": {
    "collapsed": false,
    "ExecuteTime": {
     "end_time": "2025-03-29T17:24:53.631881Z",
     "start_time": "2025-03-29T17:24:53.615798Z"
    }
   },
   "id": "f76e48dfe2c9e3e0",
   "execution_count": 43
  },
  {
   "cell_type": "code",
   "outputs": [
    {
     "data": {
      "text/plain": "                                                                   152  \\\nLink                 https://www.bazaraki.com/adv/5677113_2-bedroom...   \nDistrict                        Limassol, Limassol - Petrou Kai Pavlou   \nCountOfRooms                                                         1   \nFloor                                                              2nd   \nSquare                                                             2nd   \nFurnishing                                             Full, all rooms   \nParking                                                        Covered   \nBalcony                                                           True   \nAC                                                     Full, all rooms   \nEnergyEfficiency                                                     A   \nDistanceToJob                                                    False   \nDistanceToBeach                                                  False   \nDoubleGlazedWindows                                              False   \nElevator                                                          True   \nWiFi                                                             False   \nSoundProofing                                                    False   \nGeoDot                          {'lat': 34.6880101, 'lon': 33.0278635}   \nPrice                                                            1.200   \nDistanceKm                                                    0.000047   \nPriceFl                                                         1200.0   \n\n                                                                   20   \\\nLink                 https://www.bazaraki.com/adv/5645424_2-bedroom...   \nDistrict                        Limassol, Limassol - Petrou Kai Pavlou   \nCountOfRooms                                                      None   \nFloor                                                             None   \nSquare                                                         Covered   \nFurnishing                                             Full, all rooms   \nParking                                                        Covered   \nBalcony                                                           True   \nAC                                                     Full, all rooms   \nEnergyEfficiency                                                     B   \nDistanceToJob                                                    False   \nDistanceToBeach                                                  False   \nDoubleGlazedWindows                                              False   \nElevator                                                          True   \nWiFi                                                             False   \nSoundProofing                                                    False   \nGeoDot                          {'lat': 34.6880101, 'lon': 33.0278635}   \nPrice                                                            1.350   \nDistanceKm                                                    0.000047   \nPriceFl                                                         1350.0   \n\n                                                                   138  \\\nLink                 https://www.bazaraki.com/adv/5697264_2-bedroom...   \nDistrict                          Limassol, Limassol - Agios Nektarios   \nCountOfRooms                                                         1   \nFloor                                                     Ground floor   \nSquare                                                    Ground floor   \nFurnishing                                                        3090   \nParking                                                        Covered   \nBalcony                                                           True   \nAC                                                              Partly   \nEnergyEfficiency                                                    B+   \nDistanceToJob                                                    False   \nDistanceToBeach                                                  False   \nDoubleGlazedWindows                                              False   \nElevator                                                         False   \nWiFi                                                             False   \nSoundProofing                                                    False   \nGeoDot                          {'lat': 34.6896201, 'lon': 33.0323159}   \nPrice                                                            1.300   \nDistanceKm                                                    0.444758   \nPriceFl                                                         1300.0   \n\n                                                                   40   \\\nLink                 https://www.bazaraki.com/adv/5635691_2-bedroom...   \nDistrict                                Limassol, Limassol - Agia Zoni   \nCountOfRooms                                                         1   \nFloor                                                              1st   \nSquare                                                             1st   \nFurnishing                                             Full, all rooms   \nParking                                                        Covered   \nBalcony                                                          False   \nAC                                                     Full, all rooms   \nEnergyEfficiency                                                     C   \nDistanceToJob                                                    False   \nDistanceToBeach                                                  False   \nDoubleGlazedWindows                                              False   \nElevator                                                          True   \nWiFi                                                             False   \nSoundProofing                                                    False   \nGeoDot                          {'lat': 34.6842579, 'lon': 33.0387793}   \nPrice                                                            1.200   \nDistanceKm                                                    1.081806   \nPriceFl                                                         1200.0   \n\n                                                                   144  \\\nLink                 https://www.bazaraki.com/adv/5692055_2-bedroom...   \nDistrict                                      Limassol, Polemidia Kato   \nCountOfRooms                                                         2   \nFloor                                                              3rd   \nSquare                                                             3rd   \nFurnishing                                             Full, all rooms   \nParking                                                      Uncovered   \nBalcony                                                           True   \nAC                                                     Full, all rooms   \nEnergyEfficiency                                                     A   \nDistanceToJob                                                    False   \nDistanceToBeach                                                  False   \nDoubleGlazedWindows                                              False   \nElevator                                                         False   \nWiFi                                                             False   \nSoundProofing                                                    False   \nGeoDot                            {'lat': 34.688207, 'lon': 33.014409}   \nPrice                                                            1.650   \nDistanceKm                                                    1.230313   \nPriceFl                                                         1650.0   \n\n                                                                   47   \\\nLink                 https://www.bazaraki.com/adv/5627688_2-bedroom...   \nDistrict                                      Limassol, Polemidia Kato   \nCountOfRooms                                                         2   \nFloor                                                              2nd   \nSquare                                                             2nd   \nFurnishing                                             Full, all rooms   \nParking                                                        Covered   \nBalcony                                                           True   \nAC                                                     Full, all rooms   \nEnergyEfficiency                                                   N/A   \nDistanceToJob                                                    False   \nDistanceToBeach                                                  False   \nDoubleGlazedWindows                                              False   \nElevator                                                          True   \nWiFi                                                             False   \nSoundProofing                                                    False   \nGeoDot                            {'lat': 34.688207, 'lon': 33.014409}   \nPrice                                                            1.350   \nDistanceKm                                                    1.230313   \nPriceFl                                                         1350.0   \n\n                                                                   48   \\\nLink                 https://www.bazaraki.com/adv/5685131_2-bedroom...   \nDistrict                                      Limassol, Polemidia Kato   \nCountOfRooms                                                         1   \nFloor                                                     Ground floor   \nSquare                                                    Ground floor   \nFurnishing                                             Full, all rooms   \nParking                                                      Uncovered   \nBalcony                                                          False   \nAC                                                     Full, all rooms   \nEnergyEfficiency                                                   N/A   \nDistanceToJob                                                    False   \nDistanceToBeach                                                  False   \nDoubleGlazedWindows                                              False   \nElevator                                                         False   \nWiFi                                                             False   \nSoundProofing                                                    False   \nGeoDot                            {'lat': 34.688207, 'lon': 33.014409}   \nPrice                                                            1.100   \nDistanceKm                                                    1.230313   \nPriceFl                                                         1100.0   \n\n                                                                   16   \\\nLink                 https://www.bazaraki.com/adv/5689660_2-bedroom...   \nDistrict                                      Limassol, Polemidia Kato   \nCountOfRooms                                                         1   \nFloor                                                              1st   \nSquare                                                             1st   \nFurnishing                                             Full, all rooms   \nParking                                                        Covered   \nBalcony                                                           True   \nAC                                                     Full, all rooms   \nEnergyEfficiency                                                     A   \nDistanceToJob                                                    False   \nDistanceToBeach                                                  False   \nDoubleGlazedWindows                                              False   \nElevator                                                          True   \nWiFi                                                             False   \nSoundProofing                                                    False   \nGeoDot                            {'lat': 34.688207, 'lon': 33.014409}   \nPrice                                                            1.350   \nDistanceKm                                                    1.230313   \nPriceFl                                                         1350.0   \n\n                                                                   123  \\\nLink                 https://www.bazaraki.com/adv/5610072_2-bedroom...   \nDistrict                                      Limassol, Polemidia Kato   \nCountOfRooms                                                         1   \nFloor                                                              3rd   \nSquare                                                             3rd   \nFurnishing                                                         N/A   \nParking                                                        Covered   \nBalcony                                                          False   \nAC                                                                None   \nEnergyEfficiency                                                   N/A   \nDistanceToJob                                                    False   \nDistanceToBeach                                                  False   \nDoubleGlazedWindows                                              False   \nElevator                                                         False   \nWiFi                                                             False   \nSoundProofing                                                    False   \nGeoDot                            {'lat': 34.688207, 'lon': 33.014409}   \nPrice                                                            1.300   \nDistanceKm                                                    1.230313   \nPriceFl                                                         1300.0   \n\n                                                                   107  \\\nLink                 https://www.bazaraki.com/adv/5664577_2-bedroom...   \nDistrict                                      Limassol, Polemidia Kato   \nCountOfRooms                                                         2   \nFloor                                                              1st   \nSquare                                                             1st   \nFurnishing                                             Full, all rooms   \nParking                                                        Covered   \nBalcony                                                          False   \nAC                                                     Full, all rooms   \nEnergyEfficiency                                                     A   \nDistanceToJob                                                    False   \nDistanceToBeach                                                  False   \nDoubleGlazedWindows                                              False   \nElevator                                                          True   \nWiFi                                                             False   \nSoundProofing                                                    False   \nGeoDot                            {'lat': 34.688207, 'lon': 33.014409}   \nPrice                                                            1.350   \nDistanceKm                                                    1.230313   \nPriceFl                                                         1350.0   \n\n                                                                   46   \\\nLink                 https://www.bazaraki.com/adv/5697467_2-bedroom...   \nDistrict                                Limassol, Limassol - Katholiki   \nCountOfRooms                                                         1   \nFloor                                                              3rd   \nSquare                                                             3rd   \nFurnishing                                             Full, all rooms   \nParking                                                        Covered   \nBalcony                                                          False   \nAC                                                     Full, all rooms   \nEnergyEfficiency                                                    B+   \nDistanceToJob                                                    False   \nDistanceToBeach                                                  False   \nDoubleGlazedWindows                                              False   \nElevator                                                         False   \nWiFi                                                             False   \nSoundProofing                                                    False   \nGeoDot                           {'lat': 34.683148, 'lon': 33.0402138}   \nPrice                                                            1.400   \nDistanceKm                                                    1.252025   \nPriceFl                                                         1400.0   \n\n                                                                   25   \\\nLink                 https://www.bazaraki.com/adv/5704773_2-bedroom...   \nDistrict                                Limassol, Limassol - Katholiki   \nCountOfRooms                                                         1   \nFloor                                                              3rd   \nSquare                                                             3rd   \nFurnishing                                             Full, all rooms   \nParking                                                        Covered   \nBalcony                                                           True   \nAC                                                     Full, all rooms   \nEnergyEfficiency                                                     B   \nDistanceToJob                                                    False   \nDistanceToBeach                                                  False   \nDoubleGlazedWindows                                              False   \nElevator                                                          True   \nWiFi                                                             False   \nSoundProofing                                                    False   \nGeoDot                           {'lat': 34.683148, 'lon': 33.0402138}   \nPrice                                                            1.400   \nDistanceKm                                                    1.252025   \nPriceFl                                                         1400.0   \n\n                                                                   130  \\\nLink                 https://www.bazaraki.com/adv/5696839_2-bedroom...   \nDistrict                                Limassol, Limassol - Katholiki   \nCountOfRooms                                                         1   \nFloor                                                              3rd   \nSquare                                                             3rd   \nFurnishing                                                        3020   \nParking                                                        Covered   \nBalcony                                                           True   \nAC                                                     Full, all rooms   \nEnergyEfficiency                                                     B   \nDistanceToJob                                                    False   \nDistanceToBeach                                                  False   \nDoubleGlazedWindows                                              False   \nElevator                                                         False   \nWiFi                                                             False   \nSoundProofing                                                    False   \nGeoDot                           {'lat': 34.683148, 'lon': 33.0402138}   \nPrice                                                            1.300   \nDistanceKm                                                    1.252025   \nPriceFl                                                         1300.0   \n\n                                                                   103  \\\nLink                 https://www.bazaraki.com/adv/5710260_2-bedroom...   \nDistrict                                Limassol, Limassol - Katholiki   \nCountOfRooms                                                         1   \nFloor                                                              3rd   \nSquare                                                             3rd   \nFurnishing                                             Full, all rooms   \nParking                                                        Covered   \nBalcony                                                          False   \nAC                                                     Full, all rooms   \nEnergyEfficiency                                                   N/A   \nDistanceToJob                                                    False   \nDistanceToBeach                                                  False   \nDoubleGlazedWindows                                              False   \nElevator                                                         False   \nWiFi                                                             False   \nSoundProofing                                                    False   \nGeoDot                           {'lat': 34.683148, 'lon': 33.0402138}   \nPrice                                                            1.400   \nDistanceKm                                                    1.252025   \nPriceFl                                                         1400.0   \n\n                                                                   141  \\\nLink                 https://www.bazaraki.com/adv/5613596_1-bedroom...   \nDistrict                                Limassol, Limassol - Katholiki   \nCountOfRooms                                                         1   \nFloor                                                     Ground floor   \nSquare                                                    Ground floor   \nFurnishing                                                        3075   \nParking                                                      Uncovered   \nBalcony                                                           True   \nAC                                                     Full, all rooms   \nEnergyEfficiency                                                   N/A   \nDistanceToJob                                                    False   \nDistanceToBeach                                                  False   \nDoubleGlazedWindows                                              False   \nElevator                                                         False   \nWiFi                                                             False   \nSoundProofing                                                    False   \nGeoDot                           {'lat': 34.683148, 'lon': 33.0402138}   \nPrice                                                            1.250   \nDistanceKm                                                    1.252025   \nPriceFl                                                         1250.0   \n\n                                                                   94   \\\nLink                 https://www.bazaraki.com/adv/5707844_2-bedroom...   \nDistrict                                Limassol, Limassol - Katholiki   \nCountOfRooms                                                         1   \nFloor                                                              3rd   \nSquare                                                             3rd   \nFurnishing                                                        3020   \nParking                                                             No   \nBalcony                                                           True   \nAC                                                     Full, all rooms   \nEnergyEfficiency                                                     A   \nDistanceToJob                                                    False   \nDistanceToBeach                                                  False   \nDoubleGlazedWindows                                              False   \nElevator                                                         False   \nWiFi                                                             False   \nSoundProofing                                                    False   \nGeoDot                           {'lat': 34.683148, 'lon': 33.0402138}   \nPrice                                                            1.400   \nDistanceKm                                                    1.252025   \nPriceFl                                                         1400.0   \n\n                                                                   51   \nLink                 https://www.bazaraki.com/adv/5461258_2-bedroom...  \nDistrict                                Limassol, Limassol - Katholiki  \nCountOfRooms                                                         2  \nFloor                                                              1st  \nSquare                                                             1st  \nFurnishing                                             Full, all rooms  \nParking                                                      Uncovered  \nBalcony                                                           True  \nAC                                                     Full, all rooms  \nEnergyEfficiency                                                    B+  \nDistanceToJob                                                    False  \nDistanceToBeach                                                  False  \nDoubleGlazedWindows                                              False  \nElevator                                                          True  \nWiFi                                                             False  \nSoundProofing                                                    False  \nGeoDot                           {'lat': 34.683148, 'lon': 33.0402138}  \nPrice                                                            1.550  \nDistanceKm                                                    1.252025  \nPriceFl                                                         1550.0  ",
      "text/html": "<div>\n<style scoped>\n    .dataframe tbody tr th:only-of-type {\n        vertical-align: middle;\n    }\n\n    .dataframe tbody tr th {\n        vertical-align: top;\n    }\n\n    .dataframe thead th {\n        text-align: right;\n    }\n</style>\n<table border=\"1\" class=\"dataframe\">\n  <thead>\n    <tr style=\"text-align: right;\">\n      <th></th>\n      <th>152</th>\n      <th>20</th>\n      <th>138</th>\n      <th>40</th>\n      <th>144</th>\n      <th>47</th>\n      <th>48</th>\n      <th>16</th>\n      <th>123</th>\n      <th>107</th>\n      <th>46</th>\n      <th>25</th>\n      <th>130</th>\n      <th>103</th>\n      <th>141</th>\n      <th>94</th>\n      <th>51</th>\n    </tr>\n  </thead>\n  <tbody>\n    <tr>\n      <th>Link</th>\n      <td>https://www.bazaraki.com/adv/5677113_2-bedroom...</td>\n      <td>https://www.bazaraki.com/adv/5645424_2-bedroom...</td>\n      <td>https://www.bazaraki.com/adv/5697264_2-bedroom...</td>\n      <td>https://www.bazaraki.com/adv/5635691_2-bedroom...</td>\n      <td>https://www.bazaraki.com/adv/5692055_2-bedroom...</td>\n      <td>https://www.bazaraki.com/adv/5627688_2-bedroom...</td>\n      <td>https://www.bazaraki.com/adv/5685131_2-bedroom...</td>\n      <td>https://www.bazaraki.com/adv/5689660_2-bedroom...</td>\n      <td>https://www.bazaraki.com/adv/5610072_2-bedroom...</td>\n      <td>https://www.bazaraki.com/adv/5664577_2-bedroom...</td>\n      <td>https://www.bazaraki.com/adv/5697467_2-bedroom...</td>\n      <td>https://www.bazaraki.com/adv/5704773_2-bedroom...</td>\n      <td>https://www.bazaraki.com/adv/5696839_2-bedroom...</td>\n      <td>https://www.bazaraki.com/adv/5710260_2-bedroom...</td>\n      <td>https://www.bazaraki.com/adv/5613596_1-bedroom...</td>\n      <td>https://www.bazaraki.com/adv/5707844_2-bedroom...</td>\n      <td>https://www.bazaraki.com/adv/5461258_2-bedroom...</td>\n    </tr>\n    <tr>\n      <th>District</th>\n      <td>Limassol, Limassol - Petrou Kai Pavlou</td>\n      <td>Limassol, Limassol - Petrou Kai Pavlou</td>\n      <td>Limassol, Limassol - Agios Nektarios</td>\n      <td>Limassol, Limassol - Agia Zoni</td>\n      <td>Limassol, Polemidia Kato</td>\n      <td>Limassol, Polemidia Kato</td>\n      <td>Limassol, Polemidia Kato</td>\n      <td>Limassol, Polemidia Kato</td>\n      <td>Limassol, Polemidia Kato</td>\n      <td>Limassol, Polemidia Kato</td>\n      <td>Limassol, Limassol - Katholiki</td>\n      <td>Limassol, Limassol - Katholiki</td>\n      <td>Limassol, Limassol - Katholiki</td>\n      <td>Limassol, Limassol - Katholiki</td>\n      <td>Limassol, Limassol - Katholiki</td>\n      <td>Limassol, Limassol - Katholiki</td>\n      <td>Limassol, Limassol - Katholiki</td>\n    </tr>\n    <tr>\n      <th>CountOfRooms</th>\n      <td>1</td>\n      <td>None</td>\n      <td>1</td>\n      <td>1</td>\n      <td>2</td>\n      <td>2</td>\n      <td>1</td>\n      <td>1</td>\n      <td>1</td>\n      <td>2</td>\n      <td>1</td>\n      <td>1</td>\n      <td>1</td>\n      <td>1</td>\n      <td>1</td>\n      <td>1</td>\n      <td>2</td>\n    </tr>\n    <tr>\n      <th>Floor</th>\n      <td>2nd</td>\n      <td>None</td>\n      <td>Ground floor</td>\n      <td>1st</td>\n      <td>3rd</td>\n      <td>2nd</td>\n      <td>Ground floor</td>\n      <td>1st</td>\n      <td>3rd</td>\n      <td>1st</td>\n      <td>3rd</td>\n      <td>3rd</td>\n      <td>3rd</td>\n      <td>3rd</td>\n      <td>Ground floor</td>\n      <td>3rd</td>\n      <td>1st</td>\n    </tr>\n    <tr>\n      <th>Square</th>\n      <td>2nd</td>\n      <td>Covered</td>\n      <td>Ground floor</td>\n      <td>1st</td>\n      <td>3rd</td>\n      <td>2nd</td>\n      <td>Ground floor</td>\n      <td>1st</td>\n      <td>3rd</td>\n      <td>1st</td>\n      <td>3rd</td>\n      <td>3rd</td>\n      <td>3rd</td>\n      <td>3rd</td>\n      <td>Ground floor</td>\n      <td>3rd</td>\n      <td>1st</td>\n    </tr>\n    <tr>\n      <th>Furnishing</th>\n      <td>Full, all rooms</td>\n      <td>Full, all rooms</td>\n      <td>3090</td>\n      <td>Full, all rooms</td>\n      <td>Full, all rooms</td>\n      <td>Full, all rooms</td>\n      <td>Full, all rooms</td>\n      <td>Full, all rooms</td>\n      <td>N/A</td>\n      <td>Full, all rooms</td>\n      <td>Full, all rooms</td>\n      <td>Full, all rooms</td>\n      <td>3020</td>\n      <td>Full, all rooms</td>\n      <td>3075</td>\n      <td>3020</td>\n      <td>Full, all rooms</td>\n    </tr>\n    <tr>\n      <th>Parking</th>\n      <td>Covered</td>\n      <td>Covered</td>\n      <td>Covered</td>\n      <td>Covered</td>\n      <td>Uncovered</td>\n      <td>Covered</td>\n      <td>Uncovered</td>\n      <td>Covered</td>\n      <td>Covered</td>\n      <td>Covered</td>\n      <td>Covered</td>\n      <td>Covered</td>\n      <td>Covered</td>\n      <td>Covered</td>\n      <td>Uncovered</td>\n      <td>No</td>\n      <td>Uncovered</td>\n    </tr>\n    <tr>\n      <th>Balcony</th>\n      <td>True</td>\n      <td>True</td>\n      <td>True</td>\n      <td>False</td>\n      <td>True</td>\n      <td>True</td>\n      <td>False</td>\n      <td>True</td>\n      <td>False</td>\n      <td>False</td>\n      <td>False</td>\n      <td>True</td>\n      <td>True</td>\n      <td>False</td>\n      <td>True</td>\n      <td>True</td>\n      <td>True</td>\n    </tr>\n    <tr>\n      <th>AC</th>\n      <td>Full, all rooms</td>\n      <td>Full, all rooms</td>\n      <td>Partly</td>\n      <td>Full, all rooms</td>\n      <td>Full, all rooms</td>\n      <td>Full, all rooms</td>\n      <td>Full, all rooms</td>\n      <td>Full, all rooms</td>\n      <td>None</td>\n      <td>Full, all rooms</td>\n      <td>Full, all rooms</td>\n      <td>Full, all rooms</td>\n      <td>Full, all rooms</td>\n      <td>Full, all rooms</td>\n      <td>Full, all rooms</td>\n      <td>Full, all rooms</td>\n      <td>Full, all rooms</td>\n    </tr>\n    <tr>\n      <th>EnergyEfficiency</th>\n      <td>A</td>\n      <td>B</td>\n      <td>B+</td>\n      <td>C</td>\n      <td>A</td>\n      <td>N/A</td>\n      <td>N/A</td>\n      <td>A</td>\n      <td>N/A</td>\n      <td>A</td>\n      <td>B+</td>\n      <td>B</td>\n      <td>B</td>\n      <td>N/A</td>\n      <td>N/A</td>\n      <td>A</td>\n      <td>B+</td>\n    </tr>\n    <tr>\n      <th>DistanceToJob</th>\n      <td>False</td>\n      <td>False</td>\n      <td>False</td>\n      <td>False</td>\n      <td>False</td>\n      <td>False</td>\n      <td>False</td>\n      <td>False</td>\n      <td>False</td>\n      <td>False</td>\n      <td>False</td>\n      <td>False</td>\n      <td>False</td>\n      <td>False</td>\n      <td>False</td>\n      <td>False</td>\n      <td>False</td>\n    </tr>\n    <tr>\n      <th>DistanceToBeach</th>\n      <td>False</td>\n      <td>False</td>\n      <td>False</td>\n      <td>False</td>\n      <td>False</td>\n      <td>False</td>\n      <td>False</td>\n      <td>False</td>\n      <td>False</td>\n      <td>False</td>\n      <td>False</td>\n      <td>False</td>\n      <td>False</td>\n      <td>False</td>\n      <td>False</td>\n      <td>False</td>\n      <td>False</td>\n    </tr>\n    <tr>\n      <th>DoubleGlazedWindows</th>\n      <td>False</td>\n      <td>False</td>\n      <td>False</td>\n      <td>False</td>\n      <td>False</td>\n      <td>False</td>\n      <td>False</td>\n      <td>False</td>\n      <td>False</td>\n      <td>False</td>\n      <td>False</td>\n      <td>False</td>\n      <td>False</td>\n      <td>False</td>\n      <td>False</td>\n      <td>False</td>\n      <td>False</td>\n    </tr>\n    <tr>\n      <th>Elevator</th>\n      <td>True</td>\n      <td>True</td>\n      <td>False</td>\n      <td>True</td>\n      <td>False</td>\n      <td>True</td>\n      <td>False</td>\n      <td>True</td>\n      <td>False</td>\n      <td>True</td>\n      <td>False</td>\n      <td>True</td>\n      <td>False</td>\n      <td>False</td>\n      <td>False</td>\n      <td>False</td>\n      <td>True</td>\n    </tr>\n    <tr>\n      <th>WiFi</th>\n      <td>False</td>\n      <td>False</td>\n      <td>False</td>\n      <td>False</td>\n      <td>False</td>\n      <td>False</td>\n      <td>False</td>\n      <td>False</td>\n      <td>False</td>\n      <td>False</td>\n      <td>False</td>\n      <td>False</td>\n      <td>False</td>\n      <td>False</td>\n      <td>False</td>\n      <td>False</td>\n      <td>False</td>\n    </tr>\n    <tr>\n      <th>SoundProofing</th>\n      <td>False</td>\n      <td>False</td>\n      <td>False</td>\n      <td>False</td>\n      <td>False</td>\n      <td>False</td>\n      <td>False</td>\n      <td>False</td>\n      <td>False</td>\n      <td>False</td>\n      <td>False</td>\n      <td>False</td>\n      <td>False</td>\n      <td>False</td>\n      <td>False</td>\n      <td>False</td>\n      <td>False</td>\n    </tr>\n    <tr>\n      <th>GeoDot</th>\n      <td>{'lat': 34.6880101, 'lon': 33.0278635}</td>\n      <td>{'lat': 34.6880101, 'lon': 33.0278635}</td>\n      <td>{'lat': 34.6896201, 'lon': 33.0323159}</td>\n      <td>{'lat': 34.6842579, 'lon': 33.0387793}</td>\n      <td>{'lat': 34.688207, 'lon': 33.014409}</td>\n      <td>{'lat': 34.688207, 'lon': 33.014409}</td>\n      <td>{'lat': 34.688207, 'lon': 33.014409}</td>\n      <td>{'lat': 34.688207, 'lon': 33.014409}</td>\n      <td>{'lat': 34.688207, 'lon': 33.014409}</td>\n      <td>{'lat': 34.688207, 'lon': 33.014409}</td>\n      <td>{'lat': 34.683148, 'lon': 33.0402138}</td>\n      <td>{'lat': 34.683148, 'lon': 33.0402138}</td>\n      <td>{'lat': 34.683148, 'lon': 33.0402138}</td>\n      <td>{'lat': 34.683148, 'lon': 33.0402138}</td>\n      <td>{'lat': 34.683148, 'lon': 33.0402138}</td>\n      <td>{'lat': 34.683148, 'lon': 33.0402138}</td>\n      <td>{'lat': 34.683148, 'lon': 33.0402138}</td>\n    </tr>\n    <tr>\n      <th>Price</th>\n      <td>1.200</td>\n      <td>1.350</td>\n      <td>1.300</td>\n      <td>1.200</td>\n      <td>1.650</td>\n      <td>1.350</td>\n      <td>1.100</td>\n      <td>1.350</td>\n      <td>1.300</td>\n      <td>1.350</td>\n      <td>1.400</td>\n      <td>1.400</td>\n      <td>1.300</td>\n      <td>1.400</td>\n      <td>1.250</td>\n      <td>1.400</td>\n      <td>1.550</td>\n    </tr>\n    <tr>\n      <th>DistanceKm</th>\n      <td>0.000047</td>\n      <td>0.000047</td>\n      <td>0.444758</td>\n      <td>1.081806</td>\n      <td>1.230313</td>\n      <td>1.230313</td>\n      <td>1.230313</td>\n      <td>1.230313</td>\n      <td>1.230313</td>\n      <td>1.230313</td>\n      <td>1.252025</td>\n      <td>1.252025</td>\n      <td>1.252025</td>\n      <td>1.252025</td>\n      <td>1.252025</td>\n      <td>1.252025</td>\n      <td>1.252025</td>\n    </tr>\n    <tr>\n      <th>PriceFl</th>\n      <td>1200.0</td>\n      <td>1350.0</td>\n      <td>1300.0</td>\n      <td>1200.0</td>\n      <td>1650.0</td>\n      <td>1350.0</td>\n      <td>1100.0</td>\n      <td>1350.0</td>\n      <td>1300.0</td>\n      <td>1350.0</td>\n      <td>1400.0</td>\n      <td>1400.0</td>\n      <td>1300.0</td>\n      <td>1400.0</td>\n      <td>1250.0</td>\n      <td>1400.0</td>\n      <td>1550.0</td>\n    </tr>\n  </tbody>\n</table>\n</div>"
     },
     "execution_count": 76,
     "metadata": {},
     "output_type": "execute_result"
    }
   ],
   "source": [
    "new_df1.T"
   ],
   "metadata": {
    "collapsed": false,
    "ExecuteTime": {
     "end_time": "2025-03-29T17:55:19.192265Z",
     "start_time": "2025-03-29T17:55:19.142905Z"
    }
   },
   "id": "64521f39a16c4d17",
   "execution_count": 76
  },
  {
   "cell_type": "code",
   "outputs": [],
   "source": [],
   "metadata": {
    "collapsed": false
   },
   "id": "26e25458fa18c0ee"
  }
 ],
 "metadata": {
  "kernelspec": {
   "display_name": "Python 3",
   "language": "python",
   "name": "python3"
  },
  "language_info": {
   "codemirror_mode": {
    "name": "ipython",
    "version": 2
   },
   "file_extension": ".py",
   "mimetype": "text/x-python",
   "name": "python",
   "nbconvert_exporter": "python",
   "pygments_lexer": "ipython2",
   "version": "2.7.6"
  }
 },
 "nbformat": 4,
 "nbformat_minor": 5
}
